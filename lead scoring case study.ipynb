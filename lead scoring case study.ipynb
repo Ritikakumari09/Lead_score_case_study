{
 "cells": [
  {
   "cell_type": "code",
   "execution_count": 1,
   "id": "dd581e78",
   "metadata": {},
   "outputs": [],
   "source": [
    "# Suppressing Warnings\n",
    "import warnings\n",
    "warnings.filterwarnings('ignore')\n",
    "\n",
    "#Importing the required libraries\n",
    "import pandas as pd\n",
    "import numpy as np\n",
    "\n",
    "# data Visualization libraries\n",
    "import matplotlib.pyplot as plt\n",
    "import seaborn as sns\n",
    "\n",
    "# libraries\n",
    "from sklearn.preprocessing import StandardScaler"
   ]
  },
  {
   "cell_type": "markdown",
   "id": "4f27e17f",
   "metadata": {},
   "source": [
    "# Reading and understanding the data"
   ]
  },
  {
   "cell_type": "code",
   "execution_count": 2,
   "id": "46c3936c",
   "metadata": {},
   "outputs": [
    {
     "data": {
      "text/html": [
       "<div>\n",
       "<style scoped>\n",
       "    .dataframe tbody tr th:only-of-type {\n",
       "        vertical-align: middle;\n",
       "    }\n",
       "\n",
       "    .dataframe tbody tr th {\n",
       "        vertical-align: top;\n",
       "    }\n",
       "\n",
       "    .dataframe thead th {\n",
       "        text-align: right;\n",
       "    }\n",
       "</style>\n",
       "<table border=\"1\" class=\"dataframe\">\n",
       "  <thead>\n",
       "    <tr style=\"text-align: right;\">\n",
       "      <th></th>\n",
       "      <th>Prospect ID</th>\n",
       "      <th>Lead Number</th>\n",
       "      <th>Lead Origin</th>\n",
       "      <th>Lead Source</th>\n",
       "      <th>Do Not Email</th>\n",
       "      <th>Do Not Call</th>\n",
       "      <th>Converted</th>\n",
       "      <th>TotalVisits</th>\n",
       "      <th>Total Time Spent on Website</th>\n",
       "      <th>Page Views Per Visit</th>\n",
       "      <th>...</th>\n",
       "      <th>Get updates on DM Content</th>\n",
       "      <th>Lead Profile</th>\n",
       "      <th>City</th>\n",
       "      <th>Asymmetrique Activity Index</th>\n",
       "      <th>Asymmetrique Profile Index</th>\n",
       "      <th>Asymmetrique Activity Score</th>\n",
       "      <th>Asymmetrique Profile Score</th>\n",
       "      <th>I agree to pay the amount through cheque</th>\n",
       "      <th>A free copy of Mastering The Interview</th>\n",
       "      <th>Last Notable Activity</th>\n",
       "    </tr>\n",
       "  </thead>\n",
       "  <tbody>\n",
       "    <tr>\n",
       "      <th>0</th>\n",
       "      <td>7927b2df-8bba-4d29-b9a2-b6e0beafe620</td>\n",
       "      <td>660737</td>\n",
       "      <td>API</td>\n",
       "      <td>Olark Chat</td>\n",
       "      <td>No</td>\n",
       "      <td>No</td>\n",
       "      <td>0</td>\n",
       "      <td>0.0</td>\n",
       "      <td>0</td>\n",
       "      <td>0.0</td>\n",
       "      <td>...</td>\n",
       "      <td>No</td>\n",
       "      <td>Select</td>\n",
       "      <td>Select</td>\n",
       "      <td>02.Medium</td>\n",
       "      <td>02.Medium</td>\n",
       "      <td>15.0</td>\n",
       "      <td>15.0</td>\n",
       "      <td>No</td>\n",
       "      <td>No</td>\n",
       "      <td>Modified</td>\n",
       "    </tr>\n",
       "    <tr>\n",
       "      <th>1</th>\n",
       "      <td>2a272436-5132-4136-86fa-dcc88c88f482</td>\n",
       "      <td>660728</td>\n",
       "      <td>API</td>\n",
       "      <td>Organic Search</td>\n",
       "      <td>No</td>\n",
       "      <td>No</td>\n",
       "      <td>0</td>\n",
       "      <td>5.0</td>\n",
       "      <td>674</td>\n",
       "      <td>2.5</td>\n",
       "      <td>...</td>\n",
       "      <td>No</td>\n",
       "      <td>Select</td>\n",
       "      <td>Select</td>\n",
       "      <td>02.Medium</td>\n",
       "      <td>02.Medium</td>\n",
       "      <td>15.0</td>\n",
       "      <td>15.0</td>\n",
       "      <td>No</td>\n",
       "      <td>No</td>\n",
       "      <td>Email Opened</td>\n",
       "    </tr>\n",
       "    <tr>\n",
       "      <th>2</th>\n",
       "      <td>8cc8c611-a219-4f35-ad23-fdfd2656bd8a</td>\n",
       "      <td>660727</td>\n",
       "      <td>Landing Page Submission</td>\n",
       "      <td>Direct Traffic</td>\n",
       "      <td>No</td>\n",
       "      <td>No</td>\n",
       "      <td>1</td>\n",
       "      <td>2.0</td>\n",
       "      <td>1532</td>\n",
       "      <td>2.0</td>\n",
       "      <td>...</td>\n",
       "      <td>No</td>\n",
       "      <td>Potential Lead</td>\n",
       "      <td>Mumbai</td>\n",
       "      <td>02.Medium</td>\n",
       "      <td>01.High</td>\n",
       "      <td>14.0</td>\n",
       "      <td>20.0</td>\n",
       "      <td>No</td>\n",
       "      <td>Yes</td>\n",
       "      <td>Email Opened</td>\n",
       "    </tr>\n",
       "    <tr>\n",
       "      <th>3</th>\n",
       "      <td>0cc2df48-7cf4-4e39-9de9-19797f9b38cc</td>\n",
       "      <td>660719</td>\n",
       "      <td>Landing Page Submission</td>\n",
       "      <td>Direct Traffic</td>\n",
       "      <td>No</td>\n",
       "      <td>No</td>\n",
       "      <td>0</td>\n",
       "      <td>1.0</td>\n",
       "      <td>305</td>\n",
       "      <td>1.0</td>\n",
       "      <td>...</td>\n",
       "      <td>No</td>\n",
       "      <td>Select</td>\n",
       "      <td>Mumbai</td>\n",
       "      <td>02.Medium</td>\n",
       "      <td>01.High</td>\n",
       "      <td>13.0</td>\n",
       "      <td>17.0</td>\n",
       "      <td>No</td>\n",
       "      <td>No</td>\n",
       "      <td>Modified</td>\n",
       "    </tr>\n",
       "    <tr>\n",
       "      <th>4</th>\n",
       "      <td>3256f628-e534-4826-9d63-4a8b88782852</td>\n",
       "      <td>660681</td>\n",
       "      <td>Landing Page Submission</td>\n",
       "      <td>Google</td>\n",
       "      <td>No</td>\n",
       "      <td>No</td>\n",
       "      <td>1</td>\n",
       "      <td>2.0</td>\n",
       "      <td>1428</td>\n",
       "      <td>1.0</td>\n",
       "      <td>...</td>\n",
       "      <td>No</td>\n",
       "      <td>Select</td>\n",
       "      <td>Mumbai</td>\n",
       "      <td>02.Medium</td>\n",
       "      <td>01.High</td>\n",
       "      <td>15.0</td>\n",
       "      <td>18.0</td>\n",
       "      <td>No</td>\n",
       "      <td>No</td>\n",
       "      <td>Modified</td>\n",
       "    </tr>\n",
       "  </tbody>\n",
       "</table>\n",
       "<p>5 rows × 37 columns</p>\n",
       "</div>"
      ],
      "text/plain": [
       "                            Prospect ID  Lead Number              Lead Origin  \\\n",
       "0  7927b2df-8bba-4d29-b9a2-b6e0beafe620       660737                      API   \n",
       "1  2a272436-5132-4136-86fa-dcc88c88f482       660728                      API   \n",
       "2  8cc8c611-a219-4f35-ad23-fdfd2656bd8a       660727  Landing Page Submission   \n",
       "3  0cc2df48-7cf4-4e39-9de9-19797f9b38cc       660719  Landing Page Submission   \n",
       "4  3256f628-e534-4826-9d63-4a8b88782852       660681  Landing Page Submission   \n",
       "\n",
       "      Lead Source Do Not Email Do Not Call  Converted  TotalVisits  \\\n",
       "0      Olark Chat           No          No          0          0.0   \n",
       "1  Organic Search           No          No          0          5.0   \n",
       "2  Direct Traffic           No          No          1          2.0   \n",
       "3  Direct Traffic           No          No          0          1.0   \n",
       "4          Google           No          No          1          2.0   \n",
       "\n",
       "   Total Time Spent on Website  Page Views Per Visit  ...  \\\n",
       "0                            0                   0.0  ...   \n",
       "1                          674                   2.5  ...   \n",
       "2                         1532                   2.0  ...   \n",
       "3                          305                   1.0  ...   \n",
       "4                         1428                   1.0  ...   \n",
       "\n",
       "  Get updates on DM Content    Lead Profile    City  \\\n",
       "0                        No          Select  Select   \n",
       "1                        No          Select  Select   \n",
       "2                        No  Potential Lead  Mumbai   \n",
       "3                        No          Select  Mumbai   \n",
       "4                        No          Select  Mumbai   \n",
       "\n",
       "  Asymmetrique Activity Index Asymmetrique Profile Index  \\\n",
       "0                   02.Medium                  02.Medium   \n",
       "1                   02.Medium                  02.Medium   \n",
       "2                   02.Medium                    01.High   \n",
       "3                   02.Medium                    01.High   \n",
       "4                   02.Medium                    01.High   \n",
       "\n",
       "  Asymmetrique Activity Score Asymmetrique Profile Score  \\\n",
       "0                        15.0                       15.0   \n",
       "1                        15.0                       15.0   \n",
       "2                        14.0                       20.0   \n",
       "3                        13.0                       17.0   \n",
       "4                        15.0                       18.0   \n",
       "\n",
       "  I agree to pay the amount through cheque  \\\n",
       "0                                       No   \n",
       "1                                       No   \n",
       "2                                       No   \n",
       "3                                       No   \n",
       "4                                       No   \n",
       "\n",
       "  A free copy of Mastering The Interview Last Notable Activity  \n",
       "0                                     No              Modified  \n",
       "1                                     No          Email Opened  \n",
       "2                                    Yes          Email Opened  \n",
       "3                                     No              Modified  \n",
       "4                                     No              Modified  \n",
       "\n",
       "[5 rows x 37 columns]"
      ]
     },
     "execution_count": 2,
     "metadata": {},
     "output_type": "execute_result"
    }
   ],
   "source": [
    "df = pd.read_csv('Leads.csv')\n",
    "df.head()"
   ]
  },
  {
   "cell_type": "code",
   "execution_count": 3,
   "id": "dba454cf",
   "metadata": {},
   "outputs": [
    {
     "data": {
      "text/plain": [
       "(9240, 37)"
      ]
     },
     "execution_count": 3,
     "metadata": {},
     "output_type": "execute_result"
    }
   ],
   "source": [
    "# check the shape of the dataset\n",
    "df.shape"
   ]
  },
  {
   "cell_type": "markdown",
   "id": "4bdb8733",
   "metadata": {},
   "source": [
    "dataset have 9240 rows and 37 columns"
   ]
  },
  {
   "cell_type": "code",
   "execution_count": 4,
   "id": "903e4f79",
   "metadata": {},
   "outputs": [
    {
     "name": "stdout",
     "output_type": "stream",
     "text": [
      "<class 'pandas.core.frame.DataFrame'>\n",
      "RangeIndex: 9240 entries, 0 to 9239\n",
      "Data columns (total 37 columns):\n",
      " #   Column                                         Non-Null Count  Dtype  \n",
      "---  ------                                         --------------  -----  \n",
      " 0   Prospect ID                                    9240 non-null   object \n",
      " 1   Lead Number                                    9240 non-null   int64  \n",
      " 2   Lead Origin                                    9240 non-null   object \n",
      " 3   Lead Source                                    9204 non-null   object \n",
      " 4   Do Not Email                                   9240 non-null   object \n",
      " 5   Do Not Call                                    9240 non-null   object \n",
      " 6   Converted                                      9240 non-null   int64  \n",
      " 7   TotalVisits                                    9103 non-null   float64\n",
      " 8   Total Time Spent on Website                    9240 non-null   int64  \n",
      " 9   Page Views Per Visit                           9103 non-null   float64\n",
      " 10  Last Activity                                  9137 non-null   object \n",
      " 11  Country                                        6779 non-null   object \n",
      " 12  Specialization                                 7802 non-null   object \n",
      " 13  How did you hear about X Education             7033 non-null   object \n",
      " 14  What is your current occupation                6550 non-null   object \n",
      " 15  What matters most to you in choosing a course  6531 non-null   object \n",
      " 16  Search                                         9240 non-null   object \n",
      " 17  Magazine                                       9240 non-null   object \n",
      " 18  Newspaper Article                              9240 non-null   object \n",
      " 19  X Education Forums                             9240 non-null   object \n",
      " 20  Newspaper                                      9240 non-null   object \n",
      " 21  Digital Advertisement                          9240 non-null   object \n",
      " 22  Through Recommendations                        9240 non-null   object \n",
      " 23  Receive More Updates About Our Courses         9240 non-null   object \n",
      " 24  Tags                                           5887 non-null   object \n",
      " 25  Lead Quality                                   4473 non-null   object \n",
      " 26  Update me on Supply Chain Content              9240 non-null   object \n",
      " 27  Get updates on DM Content                      9240 non-null   object \n",
      " 28  Lead Profile                                   6531 non-null   object \n",
      " 29  City                                           7820 non-null   object \n",
      " 30  Asymmetrique Activity Index                    5022 non-null   object \n",
      " 31  Asymmetrique Profile Index                     5022 non-null   object \n",
      " 32  Asymmetrique Activity Score                    5022 non-null   float64\n",
      " 33  Asymmetrique Profile Score                     5022 non-null   float64\n",
      " 34  I agree to pay the amount through cheque       9240 non-null   object \n",
      " 35  A free copy of Mastering The Interview         9240 non-null   object \n",
      " 36  Last Notable Activity                          9240 non-null   object \n",
      "dtypes: float64(4), int64(3), object(30)\n",
      "memory usage: 2.6+ MB\n"
     ]
    }
   ],
   "source": [
    "#check the Information on the Data\n",
    "df.info()"
   ]
  },
  {
   "cell_type": "markdown",
   "id": "15bf80cd",
   "metadata": {},
   "source": [
    "Observations\n",
    "\n",
    "A large number of columns have null values. Those columns should ideally be dropped\n",
    "Prospect ID and Lead Number both serve the same purpose. They are both unique identifiers. We will drop Prospect ID\n",
    "Column names are just too long. We will modify the column names\n",
    "Few categorical columns have \"Select\" in their entries. Those select are essentially null values because Select appears when someone does not select anything from the dropdown"
   ]
  },
  {
   "cell_type": "code",
   "execution_count": 5,
   "id": "8a227377",
   "metadata": {},
   "outputs": [
    {
     "data": {
      "text/html": [
       "<div>\n",
       "<style scoped>\n",
       "    .dataframe tbody tr th:only-of-type {\n",
       "        vertical-align: middle;\n",
       "    }\n",
       "\n",
       "    .dataframe tbody tr th {\n",
       "        vertical-align: top;\n",
       "    }\n",
       "\n",
       "    .dataframe thead th {\n",
       "        text-align: right;\n",
       "    }\n",
       "</style>\n",
       "<table border=\"1\" class=\"dataframe\">\n",
       "  <thead>\n",
       "    <tr style=\"text-align: right;\">\n",
       "      <th></th>\n",
       "      <th>Lead Number</th>\n",
       "      <th>Converted</th>\n",
       "      <th>TotalVisits</th>\n",
       "      <th>Total Time Spent on Website</th>\n",
       "      <th>Page Views Per Visit</th>\n",
       "      <th>Asymmetrique Activity Score</th>\n",
       "      <th>Asymmetrique Profile Score</th>\n",
       "    </tr>\n",
       "  </thead>\n",
       "  <tbody>\n",
       "    <tr>\n",
       "      <th>count</th>\n",
       "      <td>9240.000000</td>\n",
       "      <td>9240.000000</td>\n",
       "      <td>9103.000000</td>\n",
       "      <td>9240.000000</td>\n",
       "      <td>9103.000000</td>\n",
       "      <td>5022.000000</td>\n",
       "      <td>5022.000000</td>\n",
       "    </tr>\n",
       "    <tr>\n",
       "      <th>mean</th>\n",
       "      <td>617188.435606</td>\n",
       "      <td>0.385390</td>\n",
       "      <td>3.445238</td>\n",
       "      <td>487.698268</td>\n",
       "      <td>2.362820</td>\n",
       "      <td>14.306252</td>\n",
       "      <td>16.344883</td>\n",
       "    </tr>\n",
       "    <tr>\n",
       "      <th>std</th>\n",
       "      <td>23405.995698</td>\n",
       "      <td>0.486714</td>\n",
       "      <td>4.854853</td>\n",
       "      <td>548.021466</td>\n",
       "      <td>2.161418</td>\n",
       "      <td>1.386694</td>\n",
       "      <td>1.811395</td>\n",
       "    </tr>\n",
       "    <tr>\n",
       "      <th>min</th>\n",
       "      <td>579533.000000</td>\n",
       "      <td>0.000000</td>\n",
       "      <td>0.000000</td>\n",
       "      <td>0.000000</td>\n",
       "      <td>0.000000</td>\n",
       "      <td>7.000000</td>\n",
       "      <td>11.000000</td>\n",
       "    </tr>\n",
       "    <tr>\n",
       "      <th>25%</th>\n",
       "      <td>596484.500000</td>\n",
       "      <td>0.000000</td>\n",
       "      <td>1.000000</td>\n",
       "      <td>12.000000</td>\n",
       "      <td>1.000000</td>\n",
       "      <td>14.000000</td>\n",
       "      <td>15.000000</td>\n",
       "    </tr>\n",
       "    <tr>\n",
       "      <th>50%</th>\n",
       "      <td>615479.000000</td>\n",
       "      <td>0.000000</td>\n",
       "      <td>3.000000</td>\n",
       "      <td>248.000000</td>\n",
       "      <td>2.000000</td>\n",
       "      <td>14.000000</td>\n",
       "      <td>16.000000</td>\n",
       "    </tr>\n",
       "    <tr>\n",
       "      <th>75%</th>\n",
       "      <td>637387.250000</td>\n",
       "      <td>1.000000</td>\n",
       "      <td>5.000000</td>\n",
       "      <td>936.000000</td>\n",
       "      <td>3.000000</td>\n",
       "      <td>15.000000</td>\n",
       "      <td>18.000000</td>\n",
       "    </tr>\n",
       "    <tr>\n",
       "      <th>max</th>\n",
       "      <td>660737.000000</td>\n",
       "      <td>1.000000</td>\n",
       "      <td>251.000000</td>\n",
       "      <td>2272.000000</td>\n",
       "      <td>55.000000</td>\n",
       "      <td>18.000000</td>\n",
       "      <td>20.000000</td>\n",
       "    </tr>\n",
       "  </tbody>\n",
       "</table>\n",
       "</div>"
      ],
      "text/plain": [
       "         Lead Number    Converted  TotalVisits  Total Time Spent on Website  \\\n",
       "count    9240.000000  9240.000000  9103.000000                  9240.000000   \n",
       "mean   617188.435606     0.385390     3.445238                   487.698268   \n",
       "std     23405.995698     0.486714     4.854853                   548.021466   \n",
       "min    579533.000000     0.000000     0.000000                     0.000000   \n",
       "25%    596484.500000     0.000000     1.000000                    12.000000   \n",
       "50%    615479.000000     0.000000     3.000000                   248.000000   \n",
       "75%    637387.250000     1.000000     5.000000                   936.000000   \n",
       "max    660737.000000     1.000000   251.000000                  2272.000000   \n",
       "\n",
       "       Page Views Per Visit  Asymmetrique Activity Score  \\\n",
       "count           9103.000000                  5022.000000   \n",
       "mean               2.362820                    14.306252   \n",
       "std                2.161418                     1.386694   \n",
       "min                0.000000                     7.000000   \n",
       "25%                1.000000                    14.000000   \n",
       "50%                2.000000                    14.000000   \n",
       "75%                3.000000                    15.000000   \n",
       "max               55.000000                    18.000000   \n",
       "\n",
       "       Asymmetrique Profile Score  \n",
       "count                 5022.000000  \n",
       "mean                    16.344883  \n",
       "std                      1.811395  \n",
       "min                     11.000000  \n",
       "25%                     15.000000  \n",
       "50%                     16.000000  \n",
       "75%                     18.000000  \n",
       "max                     20.000000  "
      ]
     },
     "execution_count": 5,
     "metadata": {},
     "output_type": "execute_result"
    }
   ],
   "source": [
    "# check statistics for numerical columns\n",
    "df.describe()"
   ]
  },
  {
   "cell_type": "markdown",
   "id": "775c9528",
   "metadata": {},
   "source": [
    "Prospect ID is Customer ID, it should be unique. Below, we are checking if there are any Duplicate IDs in the Prospect ID"
   ]
  },
  {
   "cell_type": "code",
   "execution_count": 6,
   "id": "8b46af8e",
   "metadata": {},
   "outputs": [
    {
     "data": {
      "text/plain": [
       "0"
      ]
     },
     "execution_count": 6,
     "metadata": {},
     "output_type": "execute_result"
    }
   ],
   "source": [
    "# check whether there are any duplicates or not\n",
    "df.duplicated().sum()"
   ]
  },
  {
   "cell_type": "code",
   "execution_count": 7,
   "id": "1ce7bb8c",
   "metadata": {},
   "outputs": [
    {
     "data": {
      "text/plain": [
       "0"
      ]
     },
     "execution_count": 7,
     "metadata": {},
     "output_type": "execute_result"
    }
   ],
   "source": [
    "# Checking if we have duplicates under Prospect ID.\n",
    "df.duplicated(subset = ['Prospect ID'], keep = False).sum()"
   ]
  },
  {
   "cell_type": "code",
   "execution_count": 8,
   "id": "c730b57a",
   "metadata": {},
   "outputs": [
    {
     "data": {
      "text/plain": [
       "0"
      ]
     },
     "execution_count": 8,
     "metadata": {},
     "output_type": "execute_result"
    }
   ],
   "source": [
    "# Checking if we have duplicates under Lead Number.\n",
    "df.duplicated(subset = ['Lead Number'], keep = False).sum()"
   ]
  },
  {
   "cell_type": "markdown",
   "id": "55e09ff2",
   "metadata": {},
   "source": [
    "No duplicate values in Prospect ID and Lead Number\n",
    "\n",
    "Clearly Prospect ID & Lead Number are two variables that are just indicative of the ID number of the Contacted People.Prospect ID & Lead Number are variables that define the same customer who was contacted. We can drop both the variables as they do not provide us any further insghts and hence it may not be appropriate to keep both the variables."
   ]
  },
  {
   "cell_type": "markdown",
   "id": "c5581c7a",
   "metadata": {},
   "source": [
    "now move the next step"
   ]
  },
  {
   "cell_type": "markdown",
   "id": "a4a28d3a",
   "metadata": {},
   "source": [
    "# Data Cleaning & Treatment:"
   ]
  },
  {
   "cell_type": "code",
   "execution_count": 9,
   "id": "75ff4984",
   "metadata": {},
   "outputs": [],
   "source": [
    "#dropping Lead Number and Prospect ID from the dataset\n",
    "df.drop(['Prospect ID', 'Lead Number'], 1, inplace = True)"
   ]
  },
  {
   "cell_type": "code",
   "execution_count": 10,
   "id": "5efa3073",
   "metadata": {},
   "outputs": [
    {
     "name": "stdout",
     "output_type": "stream",
     "text": [
      "<class 'pandas.core.frame.DataFrame'>\n",
      "RangeIndex: 9240 entries, 0 to 9239\n",
      "Data columns (total 35 columns):\n",
      " #   Column                                         Non-Null Count  Dtype  \n",
      "---  ------                                         --------------  -----  \n",
      " 0   Lead Origin                                    9240 non-null   object \n",
      " 1   Lead Source                                    9204 non-null   object \n",
      " 2   Do Not Email                                   9240 non-null   object \n",
      " 3   Do Not Call                                    9240 non-null   object \n",
      " 4   Converted                                      9240 non-null   int64  \n",
      " 5   TotalVisits                                    9103 non-null   float64\n",
      " 6   Total Time Spent on Website                    9240 non-null   int64  \n",
      " 7   Page Views Per Visit                           9103 non-null   float64\n",
      " 8   Last Activity                                  9137 non-null   object \n",
      " 9   Country                                        6779 non-null   object \n",
      " 10  Specialization                                 7802 non-null   object \n",
      " 11  How did you hear about X Education             7033 non-null   object \n",
      " 12  What is your current occupation                6550 non-null   object \n",
      " 13  What matters most to you in choosing a course  6531 non-null   object \n",
      " 14  Search                                         9240 non-null   object \n",
      " 15  Magazine                                       9240 non-null   object \n",
      " 16  Newspaper Article                              9240 non-null   object \n",
      " 17  X Education Forums                             9240 non-null   object \n",
      " 18  Newspaper                                      9240 non-null   object \n",
      " 19  Digital Advertisement                          9240 non-null   object \n",
      " 20  Through Recommendations                        9240 non-null   object \n",
      " 21  Receive More Updates About Our Courses         9240 non-null   object \n",
      " 22  Tags                                           5887 non-null   object \n",
      " 23  Lead Quality                                   4473 non-null   object \n",
      " 24  Update me on Supply Chain Content              9240 non-null   object \n",
      " 25  Get updates on DM Content                      9240 non-null   object \n",
      " 26  Lead Profile                                   6531 non-null   object \n",
      " 27  City                                           7820 non-null   object \n",
      " 28  Asymmetrique Activity Index                    5022 non-null   object \n",
      " 29  Asymmetrique Profile Index                     5022 non-null   object \n",
      " 30  Asymmetrique Activity Score                    5022 non-null   float64\n",
      " 31  Asymmetrique Profile Score                     5022 non-null   float64\n",
      " 32  I agree to pay the amount through cheque       9240 non-null   object \n",
      " 33  A free copy of Mastering The Interview         9240 non-null   object \n",
      " 34  Last Notable Activity                          9240 non-null   object \n",
      "dtypes: float64(4), int64(2), object(29)\n",
      "memory usage: 2.5+ MB\n"
     ]
    }
   ],
   "source": [
    "# Checking data again\n",
    "df.info()"
   ]
  },
  {
   "cell_type": "markdown",
   "id": "01849c79",
   "metadata": {},
   "source": [
    "From the problem statement, it is clear to understand that Many of the categorical variables have a level called 'Select'\n",
    "which needs to be handled because it is as good as a null value. hence 'Select' can be converted to Null."
   ]
  },
  {
   "cell_type": "code",
   "execution_count": 11,
   "id": "4b02170b",
   "metadata": {},
   "outputs": [],
   "source": [
    "#Converting 'Select' values to NaN.\n",
    "df = df.replace('Select', np.nan)"
   ]
  },
  {
   "cell_type": "code",
   "execution_count": 12,
   "id": "2bcb00c6",
   "metadata": {},
   "outputs": [
    {
     "name": "stdout",
     "output_type": "stream",
     "text": [
      "<class 'pandas.core.frame.DataFrame'>\n",
      "RangeIndex: 9240 entries, 0 to 9239\n",
      "Data columns (total 35 columns):\n",
      " #   Column                                         Non-Null Count  Dtype  \n",
      "---  ------                                         --------------  -----  \n",
      " 0   Lead Origin                                    9240 non-null   object \n",
      " 1   Lead Source                                    9204 non-null   object \n",
      " 2   Do Not Email                                   9240 non-null   object \n",
      " 3   Do Not Call                                    9240 non-null   object \n",
      " 4   Converted                                      9240 non-null   int64  \n",
      " 5   TotalVisits                                    9103 non-null   float64\n",
      " 6   Total Time Spent on Website                    9240 non-null   int64  \n",
      " 7   Page Views Per Visit                           9103 non-null   float64\n",
      " 8   Last Activity                                  9137 non-null   object \n",
      " 9   Country                                        6779 non-null   object \n",
      " 10  Specialization                                 5860 non-null   object \n",
      " 11  How did you hear about X Education             1990 non-null   object \n",
      " 12  What is your current occupation                6550 non-null   object \n",
      " 13  What matters most to you in choosing a course  6531 non-null   object \n",
      " 14  Search                                         9240 non-null   object \n",
      " 15  Magazine                                       9240 non-null   object \n",
      " 16  Newspaper Article                              9240 non-null   object \n",
      " 17  X Education Forums                             9240 non-null   object \n",
      " 18  Newspaper                                      9240 non-null   object \n",
      " 19  Digital Advertisement                          9240 non-null   object \n",
      " 20  Through Recommendations                        9240 non-null   object \n",
      " 21  Receive More Updates About Our Courses         9240 non-null   object \n",
      " 22  Tags                                           5887 non-null   object \n",
      " 23  Lead Quality                                   4473 non-null   object \n",
      " 24  Update me on Supply Chain Content              9240 non-null   object \n",
      " 25  Get updates on DM Content                      9240 non-null   object \n",
      " 26  Lead Profile                                   2385 non-null   object \n",
      " 27  City                                           5571 non-null   object \n",
      " 28  Asymmetrique Activity Index                    5022 non-null   object \n",
      " 29  Asymmetrique Profile Index                     5022 non-null   object \n",
      " 30  Asymmetrique Activity Score                    5022 non-null   float64\n",
      " 31  Asymmetrique Profile Score                     5022 non-null   float64\n",
      " 32  I agree to pay the amount through cheque       9240 non-null   object \n",
      " 33  A free copy of Mastering The Interview         9240 non-null   object \n",
      " 34  Last Notable Activity                          9240 non-null   object \n",
      "dtypes: float64(4), int64(2), object(29)\n",
      "memory usage: 2.5+ MB\n"
     ]
    }
   ],
   "source": [
    "# Checking data again after inserting Null values\n",
    "df.info()"
   ]
  },
  {
   "cell_type": "code",
   "execution_count": 13,
   "id": "e38b177a",
   "metadata": {},
   "outputs": [
    {
     "data": {
      "text/plain": [
       "54419"
      ]
     },
     "execution_count": 13,
     "metadata": {},
     "output_type": "execute_result"
    }
   ],
   "source": [
    "#Checking for total null values in the dataset\n",
    "df.isnull().sum().sum()"
   ]
  },
  {
   "cell_type": "code",
   "execution_count": 14,
   "id": "29ac324b",
   "metadata": {},
   "outputs": [
    {
     "data": {
      "text/plain": [
       "Lead Origin                                         0\n",
       "Lead Source                                        36\n",
       "Do Not Email                                        0\n",
       "Do Not Call                                         0\n",
       "Converted                                           0\n",
       "TotalVisits                                       137\n",
       "Total Time Spent on Website                         0\n",
       "Page Views Per Visit                              137\n",
       "Last Activity                                     103\n",
       "Country                                          2461\n",
       "Specialization                                   3380\n",
       "How did you hear about X Education               7250\n",
       "What is your current occupation                  2690\n",
       "What matters most to you in choosing a course    2709\n",
       "Search                                              0\n",
       "Magazine                                            0\n",
       "Newspaper Article                                   0\n",
       "X Education Forums                                  0\n",
       "Newspaper                                           0\n",
       "Digital Advertisement                               0\n",
       "Through Recommendations                             0\n",
       "Receive More Updates About Our Courses              0\n",
       "Tags                                             3353\n",
       "Lead Quality                                     4767\n",
       "Update me on Supply Chain Content                   0\n",
       "Get updates on DM Content                           0\n",
       "Lead Profile                                     6855\n",
       "City                                             3669\n",
       "Asymmetrique Activity Index                      4218\n",
       "Asymmetrique Profile Index                       4218\n",
       "Asymmetrique Activity Score                      4218\n",
       "Asymmetrique Profile Score                       4218\n",
       "I agree to pay the amount through cheque            0\n",
       "A free copy of Mastering The Interview              0\n",
       "Last Notable Activity                               0\n",
       "dtype: int64"
      ]
     },
     "execution_count": 14,
     "metadata": {},
     "output_type": "execute_result"
    }
   ],
   "source": [
    "#Checking for null values present in the each column\n",
    "df.isnull().sum()"
   ]
  },
  {
   "cell_type": "code",
   "execution_count": 15,
   "id": "012fab4c",
   "metadata": {},
   "outputs": [
    {
     "data": {
      "text/plain": [
       "Lead Origin                                       0.00\n",
       "Lead Source                                       0.39\n",
       "Do Not Email                                      0.00\n",
       "Do Not Call                                       0.00\n",
       "Converted                                         0.00\n",
       "TotalVisits                                       1.48\n",
       "Total Time Spent on Website                       0.00\n",
       "Page Views Per Visit                              1.48\n",
       "Last Activity                                     1.11\n",
       "Country                                          26.63\n",
       "Specialization                                   36.58\n",
       "How did you hear about X Education               78.46\n",
       "What is your current occupation                  29.11\n",
       "What matters most to you in choosing a course    29.32\n",
       "Search                                            0.00\n",
       "Magazine                                          0.00\n",
       "Newspaper Article                                 0.00\n",
       "X Education Forums                                0.00\n",
       "Newspaper                                         0.00\n",
       "Digital Advertisement                             0.00\n",
       "Through Recommendations                           0.00\n",
       "Receive More Updates About Our Courses            0.00\n",
       "Tags                                             36.29\n",
       "Lead Quality                                     51.59\n",
       "Update me on Supply Chain Content                 0.00\n",
       "Get updates on DM Content                         0.00\n",
       "Lead Profile                                     74.19\n",
       "City                                             39.71\n",
       "Asymmetrique Activity Index                      45.65\n",
       "Asymmetrique Profile Index                       45.65\n",
       "Asymmetrique Activity Score                      45.65\n",
       "Asymmetrique Profile Score                       45.65\n",
       "I agree to pay the amount through cheque          0.00\n",
       "A free copy of Mastering The Interview            0.00\n",
       "Last Notable Activity                             0.00\n",
       "dtype: float64"
      ]
     },
     "execution_count": 15,
     "metadata": {},
     "output_type": "execute_result"
    }
   ],
   "source": [
    "#For further analysis finding the ratio of Null values present in each column.\n",
    "null_ratio = round(100*(df.isnull().sum())/len(df.index),2)\n",
    "null_ratio"
   ]
  },
  {
   "cell_type": "markdown",
   "id": "65f092a5",
   "metadata": {},
   "source": [
    "Observation:-\n",
    "As can be seen, there are quite a few columns with high number of missing data. Since there are no ways to get data back from reliable sources, we can drop all those columns that have missing values > 45%"
   ]
  },
  {
   "cell_type": "code",
   "execution_count": 16,
   "id": "9388ab55",
   "metadata": {},
   "outputs": [],
   "source": [
    "# dropping cols with more than 45% missing values\n",
    "columns = df.columns\n",
    "for i in columns:\n",
    "    if((100*(df[i].isnull().sum()/len(df.index))) >= 45):\n",
    "        df.drop(i, 1, inplace = True)"
   ]
  },
  {
   "cell_type": "code",
   "execution_count": 17,
   "id": "2e3e802b",
   "metadata": {},
   "outputs": [
    {
     "data": {
      "text/plain": [
       "Lead Origin                                       0.00\n",
       "Lead Source                                       0.39\n",
       "Do Not Email                                      0.00\n",
       "Do Not Call                                       0.00\n",
       "Converted                                         0.00\n",
       "TotalVisits                                       1.48\n",
       "Total Time Spent on Website                       0.00\n",
       "Page Views Per Visit                              1.48\n",
       "Last Activity                                     1.11\n",
       "Country                                          26.63\n",
       "Specialization                                   36.58\n",
       "What is your current occupation                  29.11\n",
       "What matters most to you in choosing a course    29.32\n",
       "Search                                            0.00\n",
       "Magazine                                          0.00\n",
       "Newspaper Article                                 0.00\n",
       "X Education Forums                                0.00\n",
       "Newspaper                                         0.00\n",
       "Digital Advertisement                             0.00\n",
       "Through Recommendations                           0.00\n",
       "Receive More Updates About Our Courses            0.00\n",
       "Tags                                             36.29\n",
       "Update me on Supply Chain Content                 0.00\n",
       "Get updates on DM Content                         0.00\n",
       "City                                             39.71\n",
       "I agree to pay the amount through cheque          0.00\n",
       "A free copy of Mastering The Interview            0.00\n",
       "Last Notable Activity                             0.00\n",
       "dtype: float64"
      ]
     },
     "execution_count": 17,
     "metadata": {},
     "output_type": "execute_result"
    }
   ],
   "source": [
    "# Checking for null ratio after removing the columns which has more than 45% of the null values\n",
    "null_ratio = round(100*(df.isnull().sum())/len(df.index),2)\n",
    "null_ratio"
   ]
  },
  {
   "cell_type": "markdown",
   "id": "25a4f46c",
   "metadata": {},
   "source": [
    "Observations:-\n",
    "There are five columns that still have high null values: country, specialization, What is your current occupation,               \n",
    "What matters most to you in choosing a course, tags and city. We will look at them individually to see what can be done."
   ]
  },
  {
   "cell_type": "markdown",
   "id": "cfa16dd4",
   "metadata": {},
   "source": [
    "#  Categorical Variables Analysis :"
   ]
  },
  {
   "cell_type": "markdown",
   "id": "6600bb86",
   "metadata": {},
   "source": [
    "Country column"
   ]
  },
  {
   "cell_type": "code",
   "execution_count": 18,
   "id": "d265edea",
   "metadata": {},
   "outputs": [
    {
     "data": {
      "text/plain": [
       "India                   6492\n",
       "United States             69\n",
       "United Arab Emirates      53\n",
       "Singapore                 24\n",
       "Saudi Arabia              21\n",
       "United Kingdom            15\n",
       "Australia                 13\n",
       "Qatar                     10\n",
       "Hong Kong                  7\n",
       "Bahrain                    7\n",
       "Oman                       6\n",
       "France                     6\n",
       "unknown                    5\n",
       "South Africa               4\n",
       "Nigeria                    4\n",
       "Germany                    4\n",
       "Kuwait                     4\n",
       "Canada                     4\n",
       "Sweden                     3\n",
       "China                      2\n",
       "Asia/Pacific Region        2\n",
       "Uganda                     2\n",
       "Bangladesh                 2\n",
       "Italy                      2\n",
       "Belgium                    2\n",
       "Netherlands                2\n",
       "Ghana                      2\n",
       "Philippines                2\n",
       "Russia                     1\n",
       "Switzerland                1\n",
       "Vietnam                    1\n",
       "Denmark                    1\n",
       "Tanzania                   1\n",
       "Liberia                    1\n",
       "Malaysia                   1\n",
       "Kenya                      1\n",
       "Sri Lanka                  1\n",
       "Indonesia                  1\n",
       "Name: Country, dtype: int64"
      ]
     },
     "execution_count": 18,
     "metadata": {},
     "output_type": "execute_result"
    }
   ],
   "source": [
    "#Value counts of Country column\n",
    "df['Country'].value_counts()"
   ]
  },
  {
   "cell_type": "code",
   "execution_count": 19,
   "id": "e176d3ea",
   "metadata": {},
   "outputs": [
    {
     "data": {
      "text/plain": [
       "India                   70.259740\n",
       "NaN                     26.634199\n",
       "United States            0.746753\n",
       "United Arab Emirates     0.573593\n",
       "Singapore                0.259740\n",
       "Saudi Arabia             0.227273\n",
       "United Kingdom           0.162338\n",
       "Australia                0.140693\n",
       "Qatar                    0.108225\n",
       "Bahrain                  0.075758\n",
       "Hong Kong                0.075758\n",
       "Oman                     0.064935\n",
       "France                   0.064935\n",
       "unknown                  0.054113\n",
       "Kuwait                   0.043290\n",
       "South Africa             0.043290\n",
       "Canada                   0.043290\n",
       "Nigeria                  0.043290\n",
       "Germany                  0.043290\n",
       "Sweden                   0.032468\n",
       "Philippines              0.021645\n",
       "Uganda                   0.021645\n",
       "Italy                    0.021645\n",
       "Bangladesh               0.021645\n",
       "Netherlands              0.021645\n",
       "Asia/Pacific Region      0.021645\n",
       "China                    0.021645\n",
       "Belgium                  0.021645\n",
       "Ghana                    0.021645\n",
       "Kenya                    0.010823\n",
       "Sri Lanka                0.010823\n",
       "Tanzania                 0.010823\n",
       "Malaysia                 0.010823\n",
       "Liberia                  0.010823\n",
       "Switzerland              0.010823\n",
       "Denmark                  0.010823\n",
       "Russia                   0.010823\n",
       "Vietnam                  0.010823\n",
       "Indonesia                0.010823\n",
       "Name: Country, dtype: float64"
      ]
     },
     "execution_count": 19,
     "metadata": {},
     "output_type": "execute_result"
    }
   ],
   "source": [
    "df.Country.value_counts(normalize = True, dropna = False) * 100"
   ]
  },
  {
   "cell_type": "markdown",
   "id": "4d55ea8d",
   "metadata": {},
   "source": [
    "Observation:-\n",
    "From the above, we can understand that India is the most occuring country in the Country Column.\n",
    "The distribution of the data is very heavily skewed, with India + null values = 97% of the total. It is safe to drop this column."
   ]
  },
  {
   "cell_type": "code",
   "execution_count": 20,
   "id": "d69fba0f",
   "metadata": {},
   "outputs": [],
   "source": [
    "# From the above, we can understand that India is the most occuring country in the Country Column.\n",
    "# Hence we can replace null values with India\n",
    "df['Country'] = df['Country'].replace(np.nan, 'India')"
   ]
  },
  {
   "cell_type": "code",
   "execution_count": null,
   "id": "a0ee0d6a",
   "metadata": {},
   "outputs": [],
   "source": []
  },
  {
   "cell_type": "code",
   "execution_count": 21,
   "id": "73c4a11e",
   "metadata": {},
   "outputs": [
    {
     "data": {
      "text/plain": [
       "India                   8953\n",
       "United States             69\n",
       "United Arab Emirates      53\n",
       "Singapore                 24\n",
       "Saudi Arabia              21\n",
       "United Kingdom            15\n",
       "Australia                 13\n",
       "Qatar                     10\n",
       "Hong Kong                  7\n",
       "Bahrain                    7\n",
       "Oman                       6\n",
       "France                     6\n",
       "unknown                    5\n",
       "South Africa               4\n",
       "Nigeria                    4\n",
       "Germany                    4\n",
       "Kuwait                     4\n",
       "Canada                     4\n",
       "Sweden                     3\n",
       "China                      2\n",
       "Asia/Pacific Region        2\n",
       "Uganda                     2\n",
       "Bangladesh                 2\n",
       "Italy                      2\n",
       "Belgium                    2\n",
       "Netherlands                2\n",
       "Ghana                      2\n",
       "Philippines                2\n",
       "Russia                     1\n",
       "Switzerland                1\n",
       "Vietnam                    1\n",
       "Denmark                    1\n",
       "Tanzania                   1\n",
       "Liberia                    1\n",
       "Malaysia                   1\n",
       "Kenya                      1\n",
       "Sri Lanka                  1\n",
       "Indonesia                  1\n",
       "Name: Country, dtype: int64"
      ]
     },
     "execution_count": 21,
     "metadata": {},
     "output_type": "execute_result"
    }
   ],
   "source": [
    "# Checking the value count after imputing the null values\n",
    "df['Country'].value_counts()"
   ]
  },
  {
   "cell_type": "markdown",
   "id": "01e01161",
   "metadata": {},
   "source": [
    "from above after imputing the null values Since \"India\" is tagged as the most occuring Country, it may not be suitable for an analysis - especially for a classification problem. Hence we can remove the Country column inorder to escape from the bias.so Removing Country column frmom data"
   ]
  },
  {
   "cell_type": "code",
   "execution_count": 22,
   "id": "ebb43088",
   "metadata": {},
   "outputs": [],
   "source": [
    "df.drop('Country', axis = 1, inplace = True)"
   ]
  },
  {
   "cell_type": "code",
   "execution_count": 23,
   "id": "92435bf4",
   "metadata": {},
   "outputs": [
    {
     "data": {
      "text/plain": [
       "False"
      ]
     },
     "execution_count": 23,
     "metadata": {},
     "output_type": "execute_result"
    }
   ],
   "source": [
    "# Checking if Country in present in the data column\n",
    "\"Country\" in df.columns"
   ]
  },
  {
   "cell_type": "code",
   "execution_count": 24,
   "id": "aa7de481",
   "metadata": {},
   "outputs": [
    {
     "name": "stdout",
     "output_type": "stream",
     "text": [
      "<class 'pandas.core.frame.DataFrame'>\n",
      "RangeIndex: 9240 entries, 0 to 9239\n",
      "Data columns (total 27 columns):\n",
      " #   Column                                         Non-Null Count  Dtype  \n",
      "---  ------                                         --------------  -----  \n",
      " 0   Lead Origin                                    9240 non-null   object \n",
      " 1   Lead Source                                    9204 non-null   object \n",
      " 2   Do Not Email                                   9240 non-null   object \n",
      " 3   Do Not Call                                    9240 non-null   object \n",
      " 4   Converted                                      9240 non-null   int64  \n",
      " 5   TotalVisits                                    9103 non-null   float64\n",
      " 6   Total Time Spent on Website                    9240 non-null   int64  \n",
      " 7   Page Views Per Visit                           9103 non-null   float64\n",
      " 8   Last Activity                                  9137 non-null   object \n",
      " 9   Specialization                                 5860 non-null   object \n",
      " 10  What is your current occupation                6550 non-null   object \n",
      " 11  What matters most to you in choosing a course  6531 non-null   object \n",
      " 12  Search                                         9240 non-null   object \n",
      " 13  Magazine                                       9240 non-null   object \n",
      " 14  Newspaper Article                              9240 non-null   object \n",
      " 15  X Education Forums                             9240 non-null   object \n",
      " 16  Newspaper                                      9240 non-null   object \n",
      " 17  Digital Advertisement                          9240 non-null   object \n",
      " 18  Through Recommendations                        9240 non-null   object \n",
      " 19  Receive More Updates About Our Courses         9240 non-null   object \n",
      " 20  Tags                                           5887 non-null   object \n",
      " 21  Update me on Supply Chain Content              9240 non-null   object \n",
      " 22  Get updates on DM Content                      9240 non-null   object \n",
      " 23  City                                           5571 non-null   object \n",
      " 24  I agree to pay the amount through cheque       9240 non-null   object \n",
      " 25  A free copy of Mastering The Interview         9240 non-null   object \n",
      " 26  Last Notable Activity                          9240 non-null   object \n",
      "dtypes: float64(2), int64(2), object(23)\n",
      "memory usage: 1.9+ MB\n"
     ]
    }
   ],
   "source": [
    "#Rechecking Dataset\n",
    "df.info()"
   ]
  },
  {
   "cell_type": "markdown",
   "id": "56e09033",
   "metadata": {},
   "source": [
    "# specialization column"
   ]
  },
  {
   "cell_type": "code",
   "execution_count": 25,
   "id": "eff8258b",
   "metadata": {},
   "outputs": [
    {
     "data": {
      "text/plain": [
       "Finance Management                   976\n",
       "Human Resource Management            848\n",
       "Marketing Management                 838\n",
       "Operations Management                503\n",
       "Business Administration              403\n",
       "IT Projects Management               366\n",
       "Supply Chain Management              349\n",
       "Banking, Investment And Insurance    338\n",
       "Travel and Tourism                   203\n",
       "Media and Advertising                203\n",
       "International Business               178\n",
       "Healthcare Management                159\n",
       "Hospitality Management               114\n",
       "E-COMMERCE                           112\n",
       "Retail Management                    100\n",
       "Rural and Agribusiness                73\n",
       "E-Business                            57\n",
       "Services Excellence                   40\n",
       "Name: Specialization, dtype: int64"
      ]
     },
     "execution_count": 25,
     "metadata": {},
     "output_type": "execute_result"
    }
   ],
   "source": [
    "#checking specialaztion column\n",
    "df['Specialization'].value_counts()"
   ]
  },
  {
   "cell_type": "code",
   "execution_count": 26,
   "id": "5e9c629a",
   "metadata": {},
   "outputs": [
    {
     "data": {
      "text/plain": [
       "NaN                                  36.580087\n",
       "Finance Management                   10.562771\n",
       "Human Resource Management             9.177489\n",
       "Marketing Management                  9.069264\n",
       "Operations Management                 5.443723\n",
       "Business Administration               4.361472\n",
       "IT Projects Management                3.961039\n",
       "Supply Chain Management               3.777056\n",
       "Banking, Investment And Insurance     3.658009\n",
       "Travel and Tourism                    2.196970\n",
       "Media and Advertising                 2.196970\n",
       "International Business                1.926407\n",
       "Healthcare Management                 1.720779\n",
       "Hospitality Management                1.233766\n",
       "E-COMMERCE                            1.212121\n",
       "Retail Management                     1.082251\n",
       "Rural and Agribusiness                0.790043\n",
       "E-Business                            0.616883\n",
       "Services Excellence                   0.432900\n",
       "Name: Specialization, dtype: float64"
      ]
     },
     "execution_count": 26,
     "metadata": {},
     "output_type": "execute_result"
    }
   ],
   "source": [
    "df.Specialization.value_counts(normalize = True, dropna = False) * 100"
   ]
  },
  {
   "cell_type": "markdown",
   "id": "7a150c70",
   "metadata": {},
   "source": [
    "--There seems to be a scenario in this variable.\n",
    "Some customer may not have mentioned specialization as it was not in the list or there aren't any \n",
    "Hence we can impute the NA's as 'Not Specified'.\n",
    "\n",
    "--For specialization, we can first combine categories based on the course type, and then impute proportionally to maintain the distribution and not introduce bias\n"
   ]
  },
  {
   "cell_type": "code",
   "execution_count": 27,
   "id": "7f3c68cf",
   "metadata": {},
   "outputs": [],
   "source": [
    "df['Specialization'] = df['Specialization'].replace(np.nan, 'Not Specified')"
   ]
  },
  {
   "cell_type": "code",
   "execution_count": 28,
   "id": "626696dc",
   "metadata": {},
   "outputs": [
    {
     "data": {
      "image/png": "[encoded data removed]",
      "text/plain": [
       "<Figure size 640x480 with 1 Axes>"
      ]
     },
     "metadata": {},
     "output_type": "display_data"
    }
   ],
   "source": [
    "#visualising the Specialization column\n",
    "df.Specialization.value_counts(normalize= True).plot.bar()\n",
    "plt.title(\"Leads Conversion based on Specialization\",fontdict={'fontsize': 20, 'fontweight' : 5, 'color' : 'Brown'})\n",
    "plt.show()"
   ]
  },
  {
   "cell_type": "code",
   "execution_count": 29,
   "id": "3283ed9b",
   "metadata": {},
   "outputs": [],
   "source": [
    "# categorize all management courses\n",
    "df.loc[(df.Specialization == 'Finance Management') | (df.Specialization == 'Human Resource Management') | \n",
    "       (df.Specialization == 'Marketing Management') |  (df.Specialization == 'Operations Management') |\n",
    "       (df.Specialization == 'IT Projects Management') | (df.Specialization == 'Supply Chain Management') |\n",
    "       (df.Specialization == 'Healthcare Management') | (df.Specialization == 'Hospitality Management') |\n",
    "       (df.Specialization == 'Retail Management') , 'specialization'] = 'Management Specializations'\n",
    "\n",
    "# categorize all busines courses\n",
    "df.loc[(df.Specialization == 'Business Administration') | (df.Specialization == 'International Business') | \n",
    "       (df.Specialization == 'Rural and Agribusiness') | (df.Specialization == 'E-Business') \n",
    "        , 'specialization'] = 'Business Specializations'\n",
    "\n",
    "# categorize all industry courses\n",
    "df.loc[(df.Specialization == 'Banking, Investment And Insurance') | (df.Specialization == 'Media and Advertising') |\n",
    "       (df.Specialization == 'Travel and Tourism') | (df.Specialization == 'Services Excellence') |\n",
    "       (df.Specialization == 'E-COMMERCE'), 'specialization'] = 'Industry Specializations'"
   ]
  },
  {
   "cell_type": "code",
   "execution_count": 30,
   "id": "9f1014d0",
   "metadata": {},
   "outputs": [
    {
     "data": {
      "text/plain": [
       "Management Specializations    72.576792\n",
       "Industry Specializations      15.290102\n",
       "Business Specializations      12.133106\n",
       "Name: specialization, dtype: float64"
      ]
     },
     "execution_count": 30,
     "metadata": {},
     "output_type": "execute_result"
    }
   ],
   "source": [
    "df.specialization.value_counts(normalize = True) * 100"
   ]
  },
  {
   "cell_type": "markdown",
   "id": "c32694d0",
   "metadata": {},
   "source": [
    "Insights - Management has the higher number of leads converted. This is importannt and should not be removed.\n",
    "\n"
   ]
  },
  {
   "cell_type": "code",
   "execution_count": 31,
   "id": "bf2d56b4",
   "metadata": {},
   "outputs": [],
   "source": [
    "# impute proportionately\n",
    "df['specialization'] = df.specialization.fillna(pd.Series(np.random.choice(['Management Specializations','Industry Specializations','Business Specializations'], p = [0.7258, 0.1529,0.1213] , size = len(df))))"
   ]
  },
  {
   "cell_type": "markdown",
   "id": "3805d4d7",
   "metadata": {},
   "source": [
    "# What is your current occupation column"
   ]
  },
  {
   "cell_type": "code",
   "execution_count": 32,
   "id": "a849f8d1",
   "metadata": {},
   "outputs": [
    {
     "data": {
      "text/plain": [
       "Unemployed              5600\n",
       "Working Professional     706\n",
       "Student                  210\n",
       "Other                     16\n",
       "Housewife                 10\n",
       "Businessman                8\n",
       "Name: What is your current occupation, dtype: int64"
      ]
     },
     "execution_count": 32,
     "metadata": {},
     "output_type": "execute_result"
    }
   ],
   "source": [
    "# Checking \"What is your current occupation\" as it has the most Null values in the above info\n",
    "#Looking for value counts inside the Occupation\n",
    "df['What is your current occupation'].value_counts()"
   ]
  },
  {
   "cell_type": "code",
   "execution_count": 33,
   "id": "ff3a5c47",
   "metadata": {},
   "outputs": [
    {
     "data": {
      "text/plain": [
       "Unemployed              60.606061\n",
       "NaN                     29.112554\n",
       "Working Professional     7.640693\n",
       "Student                  2.272727\n",
       "Other                    0.173160\n",
       "Housewife                0.108225\n",
       "Businessman              0.086580\n",
       "Name: What is your current occupation, dtype: float64"
      ]
     },
     "execution_count": 33,
     "metadata": {},
     "output_type": "execute_result"
    }
   ],
   "source": [
    "df['What is your current occupation'].value_counts(normalize = True, dropna = False) * 100"
   ]
  },
  {
   "cell_type": "code",
   "execution_count": 34,
   "id": "45a14d26",
   "metadata": {},
   "outputs": [
    {
     "data": {
      "text/plain": [
       "Unemployed              5600\n",
       "NaN                     2690\n",
       "Working Professional     706\n",
       "Student                  210\n",
       "Other                     16\n",
       "Housewife                 10\n",
       "Businessman                8\n",
       "Name: What is your current occupation, dtype: int64"
      ]
     },
     "execution_count": 34,
     "metadata": {},
     "output_type": "execute_result"
    }
   ],
   "source": [
    "df['What is your current occupation'].value_counts(dropna = False)"
   ]
  },
  {
   "cell_type": "markdown",
   "id": "7c1d3efc",
   "metadata": {},
   "source": [
    "In the above info we can still find NA values, we can impute NA's with \"Unemployed\""
   ]
  },
  {
   "cell_type": "code",
   "execution_count": 35,
   "id": "aab5ce87",
   "metadata": {},
   "outputs": [],
   "source": [
    "#Replacing Null values with \"Unemployed\"\n",
    "df['What is your current occupation'] = df['What is your current occupation'].replace(np.nan, 'Unemployed')"
   ]
  },
  {
   "cell_type": "code",
   "execution_count": 36,
   "id": "acd24f7f",
   "metadata": {},
   "outputs": [
    {
     "data": {
      "text/plain": [
       "Unemployed              8290\n",
       "Working Professional     706\n",
       "Student                  210\n",
       "Other                     16\n",
       "Housewife                 10\n",
       "Businessman                8\n",
       "Name: What is your current occupation, dtype: int64"
      ]
     },
     "execution_count": 36,
     "metadata": {},
     "output_type": "execute_result"
    }
   ],
   "source": [
    "#Value counts after imputation\n",
    "df['What is your current occupation'].value_counts(dropna=False)"
   ]
  },
  {
   "cell_type": "code",
   "execution_count": 37,
   "id": "8780a390",
   "metadata": {},
   "outputs": [
    {
     "data": {
      "text/plain": [
       "Unemployed              89.718615\n",
       "Working Professional     7.640693\n",
       "Student                  2.272727\n",
       "Other                    0.173160\n",
       "Housewife                0.108225\n",
       "Businessman              0.086580\n",
       "Name: What is your current occupation, dtype: float64"
      ]
     },
     "execution_count": 37,
     "metadata": {},
     "output_type": "execute_result"
    }
   ],
   "source": [
    "#Ratio of categories after imputation\n",
    "df['What is your current occupation'].value_counts(normalize = True, dropna = False, ascending = False)*100"
   ]
  },
  {
   "cell_type": "markdown",
   "id": "54306db7",
   "metadata": {},
   "source": [
    "From the above two analysis, we can understand :-\n",
    "\n",
    "--Unemployed leads are the most in the leads\n",
    "\n",
    "--Working Professionals have high chances going for the course.\n",
    "\n",
    "--Housewives, Businessman, Student and Other categories may not be converted to join the course"
   ]
  },
  {
   "cell_type": "markdown",
   "id": "6dca46b3",
   "metadata": {},
   "source": [
    "# What matters most to you in choosing a course column"
   ]
  },
  {
   "cell_type": "code",
   "execution_count": 38,
   "id": "0fb6e3a5",
   "metadata": {},
   "outputs": [
    {
     "data": {
      "text/plain": [
       "Better Career Prospects      6528\n",
       "Flexibility & Convenience       2\n",
       "Other                           1\n",
       "Name: What matters most to you in choosing a course, dtype: int64"
      ]
     },
     "execution_count": 38,
     "metadata": {},
     "output_type": "execute_result"
    }
   ],
   "source": [
    "#checking the variable \"What matters most to you in choosing a course\"\n",
    "df['What matters most to you in choosing a course'].value_counts()"
   ]
  },
  {
   "cell_type": "code",
   "execution_count": 39,
   "id": "3dcc0d73",
   "metadata": {},
   "outputs": [
    {
     "data": {
      "text/plain": [
       "Better Career Prospects      6528\n",
       "NaN                          2709\n",
       "Flexibility & Convenience       2\n",
       "Other                           1\n",
       "Name: What matters most to you in choosing a course, dtype: int64"
      ]
     },
     "execution_count": 39,
     "metadata": {},
     "output_type": "execute_result"
    }
   ],
   "source": [
    "df['What matters most to you in choosing a course'].value_counts(dropna = False)"
   ]
  },
  {
   "cell_type": "code",
   "execution_count": 40,
   "id": "ec5e39a8",
   "metadata": {},
   "outputs": [],
   "source": [
    "#replacing Null values with \"Better Career Prospects\"\n",
    "df['What matters most to you in choosing a course'] = df['What matters most to you in choosing a course'].replace(np.nan, \"Better Career Prospects\")"
   ]
  },
  {
   "cell_type": "code",
   "execution_count": 41,
   "id": "8478337d",
   "metadata": {},
   "outputs": [
    {
     "data": {
      "text/plain": [
       "Better Career Prospects      9237\n",
       "Flexibility & Convenience       2\n",
       "Other                           1\n",
       "Name: What matters most to you in choosing a course, dtype: int64"
      ]
     },
     "execution_count": 41,
     "metadata": {},
     "output_type": "execute_result"
    }
   ],
   "source": [
    "#Value counts after imputation\n",
    "df['What matters most to you in choosing a course'].value_counts(dropna = False)"
   ]
  },
  {
   "cell_type": "code",
   "execution_count": 42,
   "id": "4b6566a0",
   "metadata": {},
   "outputs": [
    {
     "data": {
      "image/png": "[encoded data removed]",
      "text/plain": [
       "<Figure size 640x480 with 1 Axes>"
      ]
     },
     "metadata": {},
     "output_type": "display_data"
    }
   ],
   "source": [
    "df['What matters most to you in choosing a course'].value_counts(normalize= True).plot.bar()\n",
    "plt.title(\"Leads Conversion based on interest\\n\",fontdict={'fontsize': 10, 'fontweight' : 5, 'color' : 'Brown'})\n",
    "plt.show()"
   ]
  },
  {
   "cell_type": "code",
   "execution_count": 43,
   "id": "cde39889",
   "metadata": {},
   "outputs": [
    {
     "data": {
      "text/plain": [
       "Better Career Prospects      99.967532\n",
       "Flexibility & Convenience     0.021645\n",
       "Other                         0.010823\n",
       "Name: What matters most to you in choosing a course, dtype: float64"
      ]
     },
     "execution_count": 43,
     "metadata": {},
     "output_type": "execute_result"
    }
   ],
   "source": [
    "#checking Ratio of variable \n",
    "df['What matters most to you in choosing a course'].value_counts(normalize=True, dropna=False)*100"
   ]
  },
  {
   "cell_type": "markdown",
   "id": "64216be1",
   "metadata": {},
   "source": [
    "\"Better Career Prospects\" influences the column drastically, we can remove that column as it will create bias\n",
    "\n"
   ]
  },
  {
   "cell_type": "code",
   "execution_count": 44,
   "id": "bc2a2592",
   "metadata": {},
   "outputs": [],
   "source": [
    "df.drop('What matters most to you in choosing a course', axis = 1, inplace = True)"
   ]
  },
  {
   "cell_type": "code",
   "execution_count": 45,
   "id": "e716b75e",
   "metadata": {},
   "outputs": [
    {
     "data": {
      "text/plain": [
       "False"
      ]
     },
     "execution_count": 45,
     "metadata": {},
     "output_type": "execute_result"
    }
   ],
   "source": [
    "# Checking if Country in present in the data column\n",
    "'What matters most to you in choosing a course' in df.columns"
   ]
  },
  {
   "cell_type": "code",
   "execution_count": 46,
   "id": "752b7913",
   "metadata": {},
   "outputs": [
    {
     "name": "stdout",
     "output_type": "stream",
     "text": [
      "<class 'pandas.core.frame.DataFrame'>\n",
      "RangeIndex: 9240 entries, 0 to 9239\n",
      "Data columns (total 27 columns):\n",
      " #   Column                                    Non-Null Count  Dtype  \n",
      "---  ------                                    --------------  -----  \n",
      " 0   Lead Origin                               9240 non-null   object \n",
      " 1   Lead Source                               9204 non-null   object \n",
      " 2   Do Not Email                              9240 non-null   object \n",
      " 3   Do Not Call                               9240 non-null   object \n",
      " 4   Converted                                 9240 non-null   int64  \n",
      " 5   TotalVisits                               9103 non-null   float64\n",
      " 6   Total Time Spent on Website               9240 non-null   int64  \n",
      " 7   Page Views Per Visit                      9103 non-null   float64\n",
      " 8   Last Activity                             9137 non-null   object \n",
      " 9   Specialization                            9240 non-null   object \n",
      " 10  What is your current occupation           9240 non-null   object \n",
      " 11  Search                                    9240 non-null   object \n",
      " 12  Magazine                                  9240 non-null   object \n",
      " 13  Newspaper Article                         9240 non-null   object \n",
      " 14  X Education Forums                        9240 non-null   object \n",
      " 15  Newspaper                                 9240 non-null   object \n",
      " 16  Digital Advertisement                     9240 non-null   object \n",
      " 17  Through Recommendations                   9240 non-null   object \n",
      " 18  Receive More Updates About Our Courses    9240 non-null   object \n",
      " 19  Tags                                      5887 non-null   object \n",
      " 20  Update me on Supply Chain Content         9240 non-null   object \n",
      " 21  Get updates on DM Content                 9240 non-null   object \n",
      " 22  City                                      5571 non-null   object \n",
      " 23  I agree to pay the amount through cheque  9240 non-null   object \n",
      " 24  A free copy of Mastering The Interview    9240 non-null   object \n",
      " 25  Last Notable Activity                     9240 non-null   object \n",
      " 26  specialization                            9240 non-null   object \n",
      "dtypes: float64(2), int64(2), object(23)\n",
      "memory usage: 1.9+ MB\n"
     ]
    }
   ],
   "source": [
    "#Rechecking Dataset\n",
    "df.info()"
   ]
  },
  {
   "cell_type": "markdown",
   "id": "d76e88be",
   "metadata": {},
   "source": [
    "# Tags column"
   ]
  },
  {
   "cell_type": "code",
   "execution_count": 47,
   "id": "ed8cd737",
   "metadata": {},
   "outputs": [
    {
     "data": {
      "text/plain": [
       "Will revert after reading the email                  2072\n",
       "Ringing                                              1203\n",
       "Interested in other courses                           513\n",
       "Already a student                                     465\n",
       "Closed by Horizzon                                    358\n",
       "switched off                                          240\n",
       "Busy                                                  186\n",
       "Lost to EINS                                          175\n",
       "Not doing further education                           145\n",
       "Interested  in full time MBA                          117\n",
       "Graduation in progress                                111\n",
       "invalid number                                         83\n",
       "Diploma holder (Not Eligible)                          63\n",
       "wrong number given                                     47\n",
       "opp hangup                                             33\n",
       "number not provided                                    27\n",
       "in touch with EINS                                     12\n",
       "Lost to Others                                          7\n",
       "Still Thinking                                          6\n",
       "Want to take admission but has financial problems       6\n",
       "In confusion whether part time or DLP                   5\n",
       "Interested in Next batch                                5\n",
       "Lateral student                                         3\n",
       "Shall take in the next coming month                     2\n",
       "University not recognized                               2\n",
       "Recognition issue (DEC approval)                        1\n",
       "Name: Tags, dtype: int64"
      ]
     },
     "execution_count": 47,
     "metadata": {},
     "output_type": "execute_result"
    }
   ],
   "source": [
    "#checking value counts of  variable 'Tags'\n",
    "df['Tags'].value_counts()"
   ]
  },
  {
   "cell_type": "code",
   "execution_count": 48,
   "id": "26bb64f1",
   "metadata": {},
   "outputs": [
    {
     "data": {
      "text/plain": [
       "NaN                                                  3353\n",
       "Will revert after reading the email                  2072\n",
       "Ringing                                              1203\n",
       "Interested in other courses                           513\n",
       "Already a student                                     465\n",
       "Closed by Horizzon                                    358\n",
       "switched off                                          240\n",
       "Busy                                                  186\n",
       "Lost to EINS                                          175\n",
       "Not doing further education                           145\n",
       "Interested  in full time MBA                          117\n",
       "Graduation in progress                                111\n",
       "invalid number                                         83\n",
       "Diploma holder (Not Eligible)                          63\n",
       "wrong number given                                     47\n",
       "opp hangup                                             33\n",
       "number not provided                                    27\n",
       "in touch with EINS                                     12\n",
       "Lost to Others                                          7\n",
       "Still Thinking                                          6\n",
       "Want to take admission but has financial problems       6\n",
       "In confusion whether part time or DLP                   5\n",
       "Interested in Next batch                                5\n",
       "Lateral student                                         3\n",
       "Shall take in the next coming month                     2\n",
       "University not recognized                               2\n",
       "Recognition issue (DEC approval)                        1\n",
       "Name: Tags, dtype: int64"
      ]
     },
     "execution_count": 48,
     "metadata": {},
     "output_type": "execute_result"
    }
   ],
   "source": [
    "df['Tags'].value_counts(dropna=False)"
   ]
  },
  {
   "cell_type": "markdown",
   "id": "f0feaee3",
   "metadata": {},
   "source": [
    "lead has not confirmed on the tag, we can impute Null values as \"Not Specified\""
   ]
  },
  {
   "cell_type": "code",
   "execution_count": 49,
   "id": "2fdc0e8a",
   "metadata": {},
   "outputs": [],
   "source": [
    "#Replacing Nan values in Tag with \"Not Specified\"\n",
    "df['Tags'] = df['Tags'].replace(np.nan, 'Not Specified')"
   ]
  },
  {
   "cell_type": "code",
   "execution_count": 50,
   "id": "d70d14dd",
   "metadata": {},
   "outputs": [],
   "source": [
    "#Since some tags have very minimal values, we can replace them as \"Other Tags\"\n",
    "df['Tags'] = df['Tags'].replace(['In confusion whether part time or DLP', 'in touch with EINS','Diploma holder (Not Eligible)',\n",
    "                                     'Approached upfront','Graduation in progress','number not provided', 'opp hangup','Still Thinking',\n",
    "                                    'Lost to Others','Shall take in the next coming month','Lateral student','Interested in Next batch',\n",
    "                                    'Recognition issue (DEC approval)','Want to take admission but has financial problems',\n",
    "                                    'University not recognized','switched off','Already a student','Not doing further education',\n",
    "                                     'invalid number','wrong number given','Interested  in full time MBA'], 'Other_Tags')\n",
    "\n"
   ]
  },
  {
   "cell_type": "code",
   "execution_count": 51,
   "id": "cea76584",
   "metadata": {},
   "outputs": [
    {
     "name": "stdout",
     "output_type": "stream",
     "text": [
      "<class 'pandas.core.frame.DataFrame'>\n",
      "RangeIndex: 9240 entries, 0 to 9239\n",
      "Data columns (total 27 columns):\n",
      " #   Column                                    Non-Null Count  Dtype  \n",
      "---  ------                                    --------------  -----  \n",
      " 0   Lead Origin                               9240 non-null   object \n",
      " 1   Lead Source                               9204 non-null   object \n",
      " 2   Do Not Email                              9240 non-null   object \n",
      " 3   Do Not Call                               9240 non-null   object \n",
      " 4   Converted                                 9240 non-null   int64  \n",
      " 5   TotalVisits                               9103 non-null   float64\n",
      " 6   Total Time Spent on Website               9240 non-null   int64  \n",
      " 7   Page Views Per Visit                      9103 non-null   float64\n",
      " 8   Last Activity                             9137 non-null   object \n",
      " 9   Specialization                            9240 non-null   object \n",
      " 10  What is your current occupation           9240 non-null   object \n",
      " 11  Search                                    9240 non-null   object \n",
      " 12  Magazine                                  9240 non-null   object \n",
      " 13  Newspaper Article                         9240 non-null   object \n",
      " 14  X Education Forums                        9240 non-null   object \n",
      " 15  Newspaper                                 9240 non-null   object \n",
      " 16  Digital Advertisement                     9240 non-null   object \n",
      " 17  Through Recommendations                   9240 non-null   object \n",
      " 18  Receive More Updates About Our Courses    9240 non-null   object \n",
      " 19  Tags                                      9240 non-null   object \n",
      " 20  Update me on Supply Chain Content         9240 non-null   object \n",
      " 21  Get updates on DM Content                 9240 non-null   object \n",
      " 22  City                                      5571 non-null   object \n",
      " 23  I agree to pay the amount through cheque  9240 non-null   object \n",
      " 24  A free copy of Mastering The Interview    9240 non-null   object \n",
      " 25  Last Notable Activity                     9240 non-null   object \n",
      " 26  specialization                            9240 non-null   object \n",
      "dtypes: float64(2), int64(2), object(23)\n",
      "memory usage: 1.9+ MB\n"
     ]
    }
   ],
   "source": [
    "#Rechecking Dataset\n",
    "df.info()"
   ]
  },
  {
   "cell_type": "markdown",
   "id": "a9a0ab3a",
   "metadata": {},
   "source": [
    "# City column"
   ]
  },
  {
   "cell_type": "code",
   "execution_count": 52,
   "id": "f1685878",
   "metadata": {},
   "outputs": [
    {
     "data": {
      "text/plain": [
       "Mumbai                         3222\n",
       "Thane & Outskirts               752\n",
       "Other Cities                    686\n",
       "Other Cities of Maharashtra     457\n",
       "Other Metro Cities              380\n",
       "Tier II Cities                   74\n",
       "Name: City, dtype: int64"
      ]
     },
     "execution_count": 52,
     "metadata": {},
     "output_type": "execute_result"
    }
   ],
   "source": [
    "# Checking the City Column\n",
    "df['City'].value_counts()"
   ]
  },
  {
   "cell_type": "code",
   "execution_count": 53,
   "id": "e1ead14b",
   "metadata": {},
   "outputs": [
    {
     "data": {
      "text/plain": [
       "NaN                            3669\n",
       "Mumbai                         3222\n",
       "Thane & Outskirts               752\n",
       "Other Cities                    686\n",
       "Other Cities of Maharashtra     457\n",
       "Other Metro Cities              380\n",
       "Tier II Cities                   74\n",
       "Name: City, dtype: int64"
      ]
     },
     "execution_count": 53,
     "metadata": {},
     "output_type": "execute_result"
    }
   ],
   "source": [
    "df['City'].value_counts(dropna = False)"
   ]
  },
  {
   "cell_type": "code",
   "execution_count": 54,
   "id": "30c32643",
   "metadata": {},
   "outputs": [
    {
     "data": {
      "text/plain": [
       "0    Mumbai\n",
       "Name: City, dtype: object"
      ]
     },
     "execution_count": 54,
     "metadata": {},
     "output_type": "execute_result"
    }
   ],
   "source": [
    "# Checking for the most frequest value in City \n",
    "df['City'].mode()"
   ]
  },
  {
   "cell_type": "markdown",
   "id": "e692c8af",
   "metadata": {},
   "source": [
    " Mumbai has been tagged as the most frequently occuring value. hence we can impute Null values with Mumbai\n"
   ]
  },
  {
   "cell_type": "code",
   "execution_count": 55,
   "id": "baff4125",
   "metadata": {},
   "outputs": [
    {
     "data": {
      "text/plain": [
       "NaN                            39.707792\n",
       "Mumbai                         34.870130\n",
       "Thane & Outskirts               8.138528\n",
       "Other Cities                    7.424242\n",
       "Other Cities of Maharashtra     4.945887\n",
       "Other Metro Cities              4.112554\n",
       "Tier II Cities                  0.800866\n",
       "Name: City, dtype: float64"
      ]
     },
     "execution_count": 55,
     "metadata": {},
     "output_type": "execute_result"
    }
   ],
   "source": [
    "df['City'].value_counts(normalize = True, dropna = False) * 100"
   ]
  },
  {
   "cell_type": "markdown",
   "id": "21ab393a",
   "metadata": {},
   "source": [
    "Observations:- We will categorize cities based on logical decisions and impute proportionately"
   ]
  },
  {
   "cell_type": "code",
   "execution_count": 56,
   "id": "8d3d5c5d",
   "metadata": {},
   "outputs": [],
   "source": [
    "# categorize all non-mumbai, but Maharashtra cities\n",
    "df.loc[(df.City == 'Thane & Outskirts') | (df.City == 'Other Cities of Maharashtra'), \n",
    "       'city'] = 'Non-Mumbai Maharashtra Cities'\n",
    "\n",
    "# categorize all other cities\n",
    "df.loc[(df.City == 'Other Cities') | (df.City == 'Other Metro Cities') | (df.City == 'Tier II Cities') , \n",
    "       'city'] = 'Non-Maharashtra Cities'"
   ]
  },
  {
   "cell_type": "code",
   "execution_count": 57,
   "id": "1a560126",
   "metadata": {},
   "outputs": [
    {
     "data": {
      "text/plain": [
       "Mumbai                         57.835218\n",
       "Thane & Outskirts              13.498474\n",
       "Other Cities                   12.313768\n",
       "Other Cities of Maharashtra     8.203195\n",
       "Other Metro Cities              6.821038\n",
       "Tier II Cities                  1.328307\n",
       "Name: City, dtype: float64"
      ]
     },
     "execution_count": 57,
     "metadata": {},
     "output_type": "execute_result"
    }
   ],
   "source": [
    "df.City.value_counts(normalize = True) * 100"
   ]
  },
  {
   "cell_type": "code",
   "execution_count": 58,
   "id": "dbdb7f0f",
   "metadata": {},
   "outputs": [],
   "source": [
    "# impute proportionately\n",
    "df['City'] = df.City.fillna(pd.Series(np.random.choice(['Mumbai', 'Non-Mumbai Maharashtra Cities', \n",
    "                                                                    'Non-Maharashtra Cities'], \n",
    "                                                                   p = [0.5784, 0.2170, 0.2046 ], size = len(df))))"
   ]
  },
  {
   "cell_type": "code",
   "execution_count": 59,
   "id": "fc1696cb",
   "metadata": {},
   "outputs": [
    {
     "name": "stdout",
     "output_type": "stream",
     "text": [
      "<class 'pandas.core.frame.DataFrame'>\n",
      "RangeIndex: 9240 entries, 0 to 9239\n",
      "Data columns (total 28 columns):\n",
      " #   Column                                    Non-Null Count  Dtype  \n",
      "---  ------                                    --------------  -----  \n",
      " 0   Lead Origin                               9240 non-null   object \n",
      " 1   Lead Source                               9204 non-null   object \n",
      " 2   Do Not Email                              9240 non-null   object \n",
      " 3   Do Not Call                               9240 non-null   object \n",
      " 4   Converted                                 9240 non-null   int64  \n",
      " 5   TotalVisits                               9103 non-null   float64\n",
      " 6   Total Time Spent on Website               9240 non-null   int64  \n",
      " 7   Page Views Per Visit                      9103 non-null   float64\n",
      " 8   Last Activity                             9137 non-null   object \n",
      " 9   Specialization                            9240 non-null   object \n",
      " 10  What is your current occupation           9240 non-null   object \n",
      " 11  Search                                    9240 non-null   object \n",
      " 12  Magazine                                  9240 non-null   object \n",
      " 13  Newspaper Article                         9240 non-null   object \n",
      " 14  X Education Forums                        9240 non-null   object \n",
      " 15  Newspaper                                 9240 non-null   object \n",
      " 16  Digital Advertisement                     9240 non-null   object \n",
      " 17  Through Recommendations                   9240 non-null   object \n",
      " 18  Receive More Updates About Our Courses    9240 non-null   object \n",
      " 19  Tags                                      9240 non-null   object \n",
      " 20  Update me on Supply Chain Content         9240 non-null   object \n",
      " 21  Get updates on DM Content                 9240 non-null   object \n",
      " 22  City                                      9240 non-null   object \n",
      " 23  I agree to pay the amount through cheque  9240 non-null   object \n",
      " 24  A free copy of Mastering The Interview    9240 non-null   object \n",
      " 25  Last Notable Activity                     9240 non-null   object \n",
      " 26  specialization                            9240 non-null   object \n",
      " 27  city                                      2349 non-null   object \n",
      "dtypes: float64(2), int64(2), object(24)\n",
      "memory usage: 2.0+ MB\n"
     ]
    }
   ],
   "source": [
    "#Rechecking Dataset\n",
    "df.info()"
   ]
  },
  {
   "cell_type": "markdown",
   "id": "8ca3b23c",
   "metadata": {},
   "source": [
    "With low number of missing values and low representation of categories Handle categorical columns\n",
    "\n",
    "In this step, we will go through the rest of the categorical columns one by one and\n",
    "\n",
    "--Merge categories that have low representation\n",
    "\n",
    "--Impute the missing values"
   ]
  },
  {
   "cell_type": "code",
   "execution_count": 60,
   "id": "0a841201",
   "metadata": {},
   "outputs": [
    {
     "data": {
      "text/plain": [
       "Lead Origin                                    0\n",
       "Lead Source                                   36\n",
       "Do Not Email                                   0\n",
       "Do Not Call                                    0\n",
       "Converted                                      0\n",
       "TotalVisits                                  137\n",
       "Total Time Spent on Website                    0\n",
       "Page Views Per Visit                         137\n",
       "Last Activity                                103\n",
       "Specialization                                 0\n",
       "What is your current occupation                0\n",
       "Search                                         0\n",
       "Magazine                                       0\n",
       "Newspaper Article                              0\n",
       "X Education Forums                             0\n",
       "Newspaper                                      0\n",
       "Digital Advertisement                          0\n",
       "Through Recommendations                        0\n",
       "Receive More Updates About Our Courses         0\n",
       "Tags                                           0\n",
       "Update me on Supply Chain Content              0\n",
       "Get updates on DM Content                      0\n",
       "City                                           0\n",
       "I agree to pay the amount through cheque       0\n",
       "A free copy of Mastering The Interview         0\n",
       "Last Notable Activity                          0\n",
       "specialization                                 0\n",
       "city                                        6891\n",
       "dtype: int64"
      ]
     },
     "execution_count": 60,
     "metadata": {},
     "output_type": "execute_result"
    }
   ],
   "source": [
    "# Checking the null values in the data\n",
    "df.isnull().sum()"
   ]
  },
  {
   "cell_type": "code",
   "execution_count": 61,
   "id": "41e16d37",
   "metadata": {},
   "outputs": [
    {
     "data": {
      "text/plain": [
       "Lead Origin                                  0.000000\n",
       "Lead Source                                  0.389610\n",
       "Do Not Email                                 0.000000\n",
       "Do Not Call                                  0.000000\n",
       "Converted                                    0.000000\n",
       "TotalVisits                                  1.482684\n",
       "Total Time Spent on Website                  0.000000\n",
       "Page Views Per Visit                         1.482684\n",
       "Last Activity                                1.114719\n",
       "Specialization                               0.000000\n",
       "What is your current occupation              0.000000\n",
       "Search                                       0.000000\n",
       "Magazine                                     0.000000\n",
       "Newspaper Article                            0.000000\n",
       "X Education Forums                           0.000000\n",
       "Newspaper                                    0.000000\n",
       "Digital Advertisement                        0.000000\n",
       "Through Recommendations                      0.000000\n",
       "Receive More Updates About Our Courses       0.000000\n",
       "Tags                                         0.000000\n",
       "Update me on Supply Chain Content            0.000000\n",
       "Get updates on DM Content                    0.000000\n",
       "City                                         0.000000\n",
       "I agree to pay the amount through cheque     0.000000\n",
       "A free copy of Mastering The Interview       0.000000\n",
       "Last Notable Activity                        0.000000\n",
       "specialization                               0.000000\n",
       "city                                        74.577922\n",
       "dtype: float64"
      ]
     },
     "execution_count": 61,
     "metadata": {},
     "output_type": "execute_result"
    }
   ],
   "source": [
    "(df.isnull().sum() / df.shape[0]) * 100"
   ]
  },
  {
   "cell_type": "code",
   "execution_count": 62,
   "id": "ab243123",
   "metadata": {},
   "outputs": [
    {
     "data": {
      "text/plain": [
       "Google               2868\n",
       "Direct Traffic       2543\n",
       "Olark Chat           1755\n",
       "Organic Search       1154\n",
       "Reference             534\n",
       "Welingak Website      142\n",
       "Referral Sites        125\n",
       "Facebook               55\n",
       "NaN                    36\n",
       "bing                    6\n",
       "google                  5\n",
       "Click2call              4\n",
       "Press_Release           2\n",
       "Social Media            2\n",
       "Live Chat               2\n",
       "youtubechannel          1\n",
       "testone                 1\n",
       "Pay per Click Ads       1\n",
       "welearnblog_Home        1\n",
       "WeLearn                 1\n",
       "blog                    1\n",
       "NC_EDM                  1\n",
       "Name: Lead Source, dtype: int64"
      ]
     },
     "execution_count": 62,
     "metadata": {},
     "output_type": "execute_result"
    }
   ],
   "source": [
    "#checking value counts of Lead Source column\n",
    "df['Lead Source'].value_counts(dropna=False)"
   ]
  },
  {
   "cell_type": "markdown",
   "id": "cebbccaf",
   "metadata": {},
   "source": [
    "Lead source has very less null values, we can replace Null as Others"
   ]
  },
  {
   "cell_type": "code",
   "execution_count": 63,
   "id": "035ad60f",
   "metadata": {},
   "outputs": [],
   "source": [
    "df['Lead Source'] = df['Lead Source'].replace(np.nan, 'Others')"
   ]
  },
  {
   "cell_type": "code",
   "execution_count": 64,
   "id": "d84f6cad",
   "metadata": {},
   "outputs": [],
   "source": [
    "#Also we can combining low frequency values present in the Lead Source\n",
    "df['Lead Source'] = df['Lead Source'].replace('google','Google')\n",
    "df['Lead Source'] = df['Lead Source'].replace('Facebook','Social Media')\n",
    "df['Lead Source'] = df['Lead Source'].replace(['bing','Click2call','Press_Release',\n",
    "                                                     'youtubechannel','welearnblog_Home',\n",
    "                                                     'WeLearn','blog','Pay per Click Ads',\n",
    "                                                    'testone','NC_EDM'],'')"
   ]
  },
  {
   "cell_type": "code",
   "execution_count": 65,
   "id": "78a17a01",
   "metadata": {},
   "outputs": [
    {
     "data": {
      "image/png": "[encoded data removed]",
      "text/plain": [
       "<Figure size 640x480 with 1 Axes>"
      ]
     },
     "metadata": {},
     "output_type": "display_data"
    }
   ],
   "source": [
    "df['Lead Source'].value_counts(normalize= True).plot.bar()\n",
    "plt.title(\"Leads Conversion based on Lead Source \\n\",fontdict={'fontsize': 10, 'fontweight' : 5, 'color' : 'Brown'})\n",
    "plt.show()"
   ]
  },
  {
   "cell_type": "markdown",
   "id": "f04e62c2",
   "metadata": {},
   "source": [
    "Observations :\n",
    "-Most of the leads generated are through Google and Direct traffic and the least through Live Chat\n",
    "-Welingak website ahs the most conversion rate\n",
    "-Lead conversion can be improved by maxising leads from Reference and welingak website\n",
    "-Focussing Olark chat, Organic search, Direct traffic, and google leads may increase the lead conversion"
   ]
  },
  {
   "cell_type": "code",
   "execution_count": 66,
   "id": "7cae9a47",
   "metadata": {},
   "outputs": [
    {
     "data": {
      "text/plain": [
       "Email Opened                    3437\n",
       "SMS Sent                        2745\n",
       "Olark Chat Conversation          973\n",
       "Page Visited on Website          640\n",
       "Converted to Lead                428\n",
       "Email Bounced                    326\n",
       "Email Link Clicked               267\n",
       "Form Submitted on Website        116\n",
       "NaN                              103\n",
       "Unreachable                       93\n",
       "Unsubscribed                      61\n",
       "Had a Phone Conversation          30\n",
       "Approached upfront                 9\n",
       "View in browser link Clicked       6\n",
       "Email Received                     2\n",
       "Email Marked Spam                  2\n",
       "Visited Booth in Tradeshow         1\n",
       "Resubscribed to emails             1\n",
       "Name: Last Activity, dtype: int64"
      ]
     },
     "execution_count": 66,
     "metadata": {},
     "output_type": "execute_result"
    }
   ],
   "source": [
    "# Checking Last Activity variable\n",
    "df['Last Activity'].value_counts(dropna=False)"
   ]
  },
  {
   "cell_type": "code",
   "execution_count": 67,
   "id": "17f5080b",
   "metadata": {},
   "outputs": [
    {
     "data": {
      "text/plain": [
       "Email Opened                    37.196970\n",
       "SMS Sent                        29.707792\n",
       "Olark Chat Conversation         10.530303\n",
       "Page Visited on Website          6.926407\n",
       "Converted to Lead                4.632035\n",
       "Email Bounced                    3.528139\n",
       "Email Link Clicked               2.889610\n",
       "Form Submitted on Website        1.255411\n",
       "NaN                              1.114719\n",
       "Unreachable                      1.006494\n",
       "Unsubscribed                     0.660173\n",
       "Had a Phone Conversation         0.324675\n",
       "Approached upfront               0.097403\n",
       "View in browser link Clicked     0.064935\n",
       "Email Received                   0.021645\n",
       "Email Marked Spam                0.021645\n",
       "Visited Booth in Tradeshow       0.010823\n",
       "Resubscribed to emails           0.010823\n",
       "Name: Last Activity, dtype: float64"
      ]
     },
     "execution_count": 67,
     "metadata": {},
     "output_type": "execute_result"
    }
   ],
   "source": [
    "# Checking on the ratio of categories\n",
    "df['Last Activity'].value_counts(dropna=False, normalize=True) * 100"
   ]
  },
  {
   "cell_type": "code",
   "execution_count": 68,
   "id": "d2f5a4f4",
   "metadata": {},
   "outputs": [],
   "source": [
    "# Replacing Null values to \"others\"\n",
    "df[\"Last Activity\"] = df[\"Last Activity\"].replace(np.nan, 'Others')"
   ]
  },
  {
   "cell_type": "code",
   "execution_count": 69,
   "id": "cbf70292",
   "metadata": {},
   "outputs": [],
   "source": [
    "#replacing categories which are less than 1% to Others as it does not make much impact for analysis\n",
    "df['Last Activity'] = df['Last Activity'].replace(['Unreachable','Unsubscribed',\n",
    "                                                        'Had a Phone Conversation', \n",
    "                                                        'Approached upfront',\n",
    "                                                        'View in browser link Clicked',       \n",
    "                                                        'Email Marked Spam',                  \n",
    "                                                        'Email Received','Resubscribed to emails',\n",
    "                                                         'Visited Booth in Tradeshow'],'Others')"
   ]
  },
  {
   "cell_type": "code",
   "execution_count": 70,
   "id": "8f254a02",
   "metadata": {},
   "outputs": [
    {
     "data": {
      "text/plain": [
       "Email Opened                 3437\n",
       "SMS Sent                     2745\n",
       "Olark Chat Conversation       973\n",
       "Page Visited on Website       640\n",
       "Converted to Lead             428\n",
       "Email Bounced                 326\n",
       "Others                        308\n",
       "Email Link Clicked            267\n",
       "Form Submitted on Website     116\n",
       "Name: Last Activity, dtype: int64"
      ]
     },
     "execution_count": 70,
     "metadata": {},
     "output_type": "execute_result"
    }
   ],
   "source": [
    "# Checking the values of the Last Activity Variable\n",
    "df['Last Activity'].value_counts(dropna=False)"
   ]
  },
  {
   "cell_type": "code",
   "execution_count": 71,
   "id": "08779503",
   "metadata": {},
   "outputs": [
    {
     "name": "stdout",
     "output_type": "stream",
     "text": [
      "<class 'pandas.core.frame.DataFrame'>\n",
      "RangeIndex: 9240 entries, 0 to 9239\n",
      "Data columns (total 28 columns):\n",
      " #   Column                                    Non-Null Count  Dtype  \n",
      "---  ------                                    --------------  -----  \n",
      " 0   Lead Origin                               9240 non-null   object \n",
      " 1   Lead Source                               9240 non-null   object \n",
      " 2   Do Not Email                              9240 non-null   object \n",
      " 3   Do Not Call                               9240 non-null   object \n",
      " 4   Converted                                 9240 non-null   int64  \n",
      " 5   TotalVisits                               9103 non-null   float64\n",
      " 6   Total Time Spent on Website               9240 non-null   int64  \n",
      " 7   Page Views Per Visit                      9103 non-null   float64\n",
      " 8   Last Activity                             9240 non-null   object \n",
      " 9   Specialization                            9240 non-null   object \n",
      " 10  What is your current occupation           9240 non-null   object \n",
      " 11  Search                                    9240 non-null   object \n",
      " 12  Magazine                                  9240 non-null   object \n",
      " 13  Newspaper Article                         9240 non-null   object \n",
      " 14  X Education Forums                        9240 non-null   object \n",
      " 15  Newspaper                                 9240 non-null   object \n",
      " 16  Digital Advertisement                     9240 non-null   object \n",
      " 17  Through Recommendations                   9240 non-null   object \n",
      " 18  Receive More Updates About Our Courses    9240 non-null   object \n",
      " 19  Tags                                      9240 non-null   object \n",
      " 20  Update me on Supply Chain Content         9240 non-null   object \n",
      " 21  Get updates on DM Content                 9240 non-null   object \n",
      " 22  City                                      9240 non-null   object \n",
      " 23  I agree to pay the amount through cheque  9240 non-null   object \n",
      " 24  A free copy of Mastering The Interview    9240 non-null   object \n",
      " 25  Last Notable Activity                     9240 non-null   object \n",
      " 26  specialization                            9240 non-null   object \n",
      " 27  city                                      2349 non-null   object \n",
      "dtypes: float64(2), int64(2), object(24)\n",
      "memory usage: 2.0+ MB\n"
     ]
    }
   ],
   "source": [
    "# Recheck the data set\n",
    "df.info()"
   ]
  },
  {
   "cell_type": "code",
   "execution_count": 72,
   "id": "7b74e8d8",
   "metadata": {},
   "outputs": [
    {
     "data": {
      "text/plain": [
       "Landing Page Submission    52.878788\n",
       "API                        38.744589\n",
       "Lead Add Form               7.770563\n",
       "Lead Import                 0.595238\n",
       "Quick Add Form              0.010823\n",
       "Name: Lead Origin, dtype: float64"
      ]
     },
     "execution_count": 72,
     "metadata": {},
     "output_type": "execute_result"
    }
   ],
   "source": [
    "# Checking Lead Origin column\n",
    "df['Lead Origin'].value_counts(normalize=True, dropna = False) * 100"
   ]
  },
  {
   "cell_type": "code",
   "execution_count": 73,
   "id": "6d4b9c9d",
   "metadata": {},
   "outputs": [],
   "source": [
    "#There are a lot of smaller values which will not be used as definitive factors, lets group them together\n",
    "df.loc[(df['Lead Origin'] == 'Lead Import') | (df['Lead Origin'] == 'Quick Add Form') | (df['Lead Origin'] == 'Lead Add Form'), 'Lead Origin'] = 'Lead Add Form and Others'"
   ]
  },
  {
   "cell_type": "markdown",
   "id": "576be922",
   "metadata": {},
   "source": [
    "# Handle Binary columns "
   ]
  },
  {
   "cell_type": "markdown",
   "id": "5d2bf54c",
   "metadata": {},
   "source": [
    "--That have significant data imbalance drop those columns\n",
    "\n",
    "--Drop all those columns that have only 1 unique entry"
   ]
  },
  {
   "cell_type": "code",
   "execution_count": 74,
   "id": "bc396a10",
   "metadata": {},
   "outputs": [
    {
     "name": "stdout",
     "output_type": "stream",
     "text": [
      "Lead Origin = 3\n",
      "Lead Source = 11\n",
      "Do Not Email = 2\n",
      "Do Not Call = 2\n",
      "Last Activity = 9\n",
      "Specialization = 19\n",
      "What is your current occupation = 6\n",
      "Search = 2\n",
      "Magazine = 1\n",
      "Newspaper Article = 2\n",
      "X Education Forums = 2\n",
      "Newspaper = 2\n",
      "Digital Advertisement = 2\n",
      "Through Recommendations = 2\n",
      "Receive More Updates About Our Courses = 1\n",
      "Tags = 8\n",
      "Update me on Supply Chain Content = 1\n",
      "Get updates on DM Content = 1\n",
      "City = 8\n",
      "I agree to pay the amount through cheque = 1\n",
      "A free copy of Mastering The Interview = 2\n",
      "Last Notable Activity = 16\n",
      "specialization = 3\n",
      "city = 2\n"
     ]
    }
   ],
   "source": [
    "# determine unique values\n",
    "for k, v in df.select_dtypes(include='object').nunique().to_dict().items():\n",
    "    print('{} = {}'.format(k,v))"
   ]
  },
  {
   "cell_type": "markdown",
   "id": "df2cc9c4",
   "metadata": {},
   "source": [
    "Observation:-\n",
    "\n",
    "The following columns can be dropped as they have just 1 unique values\n",
    "\n",
    "--Magazine\n",
    "\n",
    "--Receive More Updates About Our Courses\n",
    "\n",
    "--Update me on Supply Chain Content\n",
    "\n",
    "--Get updates on DM Content\n",
    "\n",
    "--I agree to pay the amount through cheque\n",
    "\n",
    "Let's now check the data imbalance for the rest of the columns"
   ]
  },
  {
   "cell_type": "code",
   "execution_count": 75,
   "id": "f3c3e2a1",
   "metadata": {},
   "outputs": [
    {
     "name": "stdout",
     "output_type": "stream",
     "text": [
      "No     92.056277\n",
      "Yes     7.943723\n",
      "Name: Do Not Email, dtype: float64\n",
      "\n",
      "No     99.978355\n",
      "Yes     0.021645\n",
      "Name: Do Not Call, dtype: float64\n",
      "\n",
      "No     99.848485\n",
      "Yes     0.151515\n",
      "Name: Search, dtype: float64\n",
      "\n",
      "No     99.978355\n",
      "Yes     0.021645\n",
      "Name: Newspaper Article, dtype: float64\n",
      "\n",
      "No     99.989177\n",
      "Yes     0.010823\n",
      "Name: X Education Forums, dtype: float64\n",
      "\n",
      "No     99.989177\n",
      "Yes     0.010823\n",
      "Name: Newspaper, dtype: float64\n",
      "\n",
      "No     99.95671\n",
      "Yes     0.04329\n",
      "Name: Digital Advertisement, dtype: float64\n",
      "\n",
      "No     99.924242\n",
      "Yes     0.075758\n",
      "Name: Through Recommendations, dtype: float64\n",
      "\n",
      "No     68.744589\n",
      "Yes    31.255411\n",
      "Name: A free copy of Mastering The Interview, dtype: float64\n",
      "\n"
     ]
    }
   ],
   "source": [
    "# select rest of the binary columns in a new dataframe\n",
    "df_bin = df[['Do Not Email', 'Do Not Call', 'Search', 'Newspaper Article', 'X Education Forums', 'Newspaper', 'Digital Advertisement','Through Recommendations', 'A free copy of Mastering The Interview']]\n",
    "# see value counts for each of the columns\n",
    "for i in df_bin.columns:\n",
    "    x = (df_bin[i].value_counts(normalize = True)) * 100\n",
    "    print(x)\n",
    "    print()"
   ]
  },
  {
   "cell_type": "markdown",
   "id": "e9e240e9",
   "metadata": {},
   "source": [
    "Observations:--\n",
    "Because of heavy data imbalance, we can drop the following columns as well\n",
    "\n",
    "--Do Not Email\n",
    "\n",
    "--Search\n",
    "\n",
    "--Newspaper Article\n",
    "\n",
    "--X Education Forums\n",
    "\n",
    "--Newspaper\n",
    "\n",
    "--Digital Advertisement\n",
    "\n",
    "--Through Recommendations"
   ]
  },
  {
   "cell_type": "code",
   "execution_count": 76,
   "id": "ccbd88c0",
   "metadata": {},
   "outputs": [],
   "source": [
    "drop_bin = ['Do Not Email', 'Search',  'Newspaper Article', 'X Education Forums', 'Newspaper', 'Digital Advertisement', 'Through Recommendations', 'Magazine', 'Receive More Updates About Our Courses', 'Update me on Supply Chain Content', 'Get updates on DM Content', 'I agree to pay the amount through cheque']\n",
    "df.drop(drop_bin, axis = 1, inplace = True)"
   ]
  },
  {
   "cell_type": "markdown",
   "id": "3869f746",
   "metadata": {},
   "source": [
    "Handle numerical columns"
   ]
  },
  {
   "cell_type": "markdown",
   "id": "06940d67",
   "metadata": {},
   "source": [
    "# TotalVisits column"
   ]
  },
  {
   "cell_type": "markdown",
   "id": "cf619af1",
   "metadata": {},
   "source": [
    "For this column, we need to handle the missing values, and can convert the datatype to integer since visits can't be decimal"
   ]
  },
  {
   "cell_type": "code",
   "execution_count": 77,
   "id": "70e2870b",
   "metadata": {},
   "outputs": [],
   "source": [
    "df.TotalVisits.fillna(df.TotalVisits.median(), inplace = True)\n",
    "df.TotalVisits = df.TotalVisits.astype('int')"
   ]
  },
  {
   "cell_type": "markdown",
   "id": "667e3481",
   "metadata": {},
   "source": [
    "# Page Views Per Visit column"
   ]
  },
  {
   "cell_type": "markdown",
   "id": "d28f3be6",
   "metadata": {},
   "source": [
    "Handle missing value"
   ]
  },
  {
   "cell_type": "code",
   "execution_count": 78,
   "id": "8b81a7aa",
   "metadata": {},
   "outputs": [],
   "source": [
    "df['Page Views Per Visit'].fillna(df['Page Views Per Visit'].median(), inplace=True)"
   ]
  },
  {
   "cell_type": "code",
   "execution_count": 79,
   "id": "19d4bc48",
   "metadata": {},
   "outputs": [
    {
     "name": "stdout",
     "output_type": "stream",
     "text": [
      "<class 'pandas.core.frame.DataFrame'>\n",
      "RangeIndex: 9240 entries, 0 to 9239\n",
      "Data columns (total 16 columns):\n",
      " #   Column                                  Non-Null Count  Dtype  \n",
      "---  ------                                  --------------  -----  \n",
      " 0   Lead Origin                             9240 non-null   object \n",
      " 1   Lead Source                             9240 non-null   object \n",
      " 2   Do Not Call                             9240 non-null   object \n",
      " 3   Converted                               9240 non-null   int64  \n",
      " 4   TotalVisits                             9240 non-null   int32  \n",
      " 5   Total Time Spent on Website             9240 non-null   int64  \n",
      " 6   Page Views Per Visit                    9240 non-null   float64\n",
      " 7   Last Activity                           9240 non-null   object \n",
      " 8   Specialization                          9240 non-null   object \n",
      " 9   What is your current occupation         9240 non-null   object \n",
      " 10  Tags                                    9240 non-null   object \n",
      " 11  City                                    9240 non-null   object \n",
      " 12  A free copy of Mastering The Interview  9240 non-null   object \n",
      " 13  Last Notable Activity                   9240 non-null   object \n",
      " 14  specialization                          9240 non-null   object \n",
      " 15  city                                    2349 non-null   object \n",
      "dtypes: float64(1), int32(1), int64(2), object(12)\n",
      "memory usage: 1.1+ MB\n"
     ]
    }
   ],
   "source": [
    "# Recheck the data set\n",
    "df.info()"
   ]
  },
  {
   "cell_type": "markdown",
   "id": "e978a30f",
   "metadata": {},
   "source": [
    "# Exploratory Data Analysis"
   ]
  },
  {
   "cell_type": "markdown",
   "id": "9a053162",
   "metadata": {},
   "source": [
    "Numerical columns"
   ]
  },
  {
   "cell_type": "code",
   "execution_count": 80,
   "id": "c03b78b9",
   "metadata": {},
   "outputs": [],
   "source": [
    "# Set style\n",
    "plt.style.use('ggplot')"
   ]
  },
  {
   "cell_type": "code",
   "execution_count": 81,
   "id": "dc55eddf",
   "metadata": {},
   "outputs": [
    {
     "data": {
      "image/png": "[encoded data removed]",
      "text/plain": [
       "<Figure size 1200x1000 with 1 Axes>"
      ]
     },
     "metadata": {},
     "output_type": "display_data"
    }
   ],
   "source": [
    "#distribution of each of these columns\n",
    "fig = plt.figure(figsize = (12, 10))\n",
    "plt.subplot(2, 2, 1)\n",
    "plt.hist(df.TotalVisits, bins = 20)\n",
    "plt.title('Total website visits\\n', fontdict={'fontsize': 15, 'fontweight' : 5, 'color' : 'Green'})\n",
    "plt.show()"
   ]
  },
  {
   "cell_type": "code",
   "execution_count": 82,
   "id": "27878a2b",
   "metadata": {},
   "outputs": [
    {
     "data": {
      "image/png": "[encoded data removed]",
      "text/plain": [
       "<Figure size 1200x1000 with 1 Axes>"
      ]
     },
     "metadata": {},
     "output_type": "display_data"
    }
   ],
   "source": [
    "fig = plt.figure(figsize = (12, 10))\n",
    "plt.subplot(2, 2, 1)\n",
    "plt.hist(df['Page Views Per Visit'], bins = 20)\n",
    "plt.title('Number of page views per visit\\n', fontdict={'fontsize': 15, 'fontweight' : 5, 'color' : 'Green'})\n",
    "plt.show()"
   ]
  },
  {
   "cell_type": "code",
   "execution_count": 83,
   "id": "4d9354fc",
   "metadata": {},
   "outputs": [
    {
     "data": {
      "image/png": "[encoded data removed]",
      "text/plain": [
       "<Figure size 1400x1000 with 1 Axes>"
      ]
     },
     "metadata": {},
     "output_type": "display_data"
    }
   ],
   "source": [
    "fig = plt.figure(figsize = (14, 10))\n",
    "plt.subplot(2, 2, 1)\n",
    "plt.hist(df['Total Time Spent on Website'], bins = 20)\n",
    "plt.title('Time spent on website\\n', fontdict={'fontsize': 15, 'fontweight' : 5, 'color' : 'Green'})\n",
    "plt.show()"
   ]
  },
  {
   "cell_type": "code",
   "execution_count": 88,
   "id": "90fbfd04",
   "metadata": {},
   "outputs": [],
   "source": [
    "#f#ig = plt.figure(figsize = (10, 8))\n",
    "#plt.subplot(2, 2, 1)\n",
    "#plt.hist(df.Converted, bins = 20)\n",
    "#plt.title('Converted\\n', fontdict={'fontsize': 15, 'fontweight' : 5, 'color' : 'Green'})\n",
    "#plt.show()"
   ]
  },
  {
   "cell_type": "markdown",
   "id": "9dbd4760",
   "metadata": {},
   "source": [
    "Observations:-\n",
    "\n",
    "High peaks and skewed data. There might be a possibility of outliers. We will check them next"
   ]
  },
  {
   "cell_type": "markdown",
   "id": "7a08f4f8",
   "metadata": {},
   "source": [
    "# Heatmap"
   ]
  },
  {
   "cell_type": "markdown",
   "id": "39d05483",
   "metadata": {},
   "source": [
    "using heatmap check correlation between them. "
   ]
  },
  {
   "cell_type": "code",
   "execution_count": 89,
   "id": "1e40e1f9",
   "metadata": {},
   "outputs": [
    {
     "data": {
      "image/png": "[encoded data removed]",
      "text/plain": [
       "<Figure size 800x800 with 2 Axes>"
      ]
     },
     "metadata": {},
     "output_type": "display_data"
    }
   ],
   "source": [
    "plt.figure(figsize = (8,8))\n",
    "sns.heatmap(df[['TotalVisits', 'Page Views Per Visit', 'Total Time Spent on Website']].corr(), cmap=\"Blues\", annot = True)\n",
    "plt.show()"
   ]
  },
  {
   "cell_type": "markdown",
   "id": "d4446feb",
   "metadata": {},
   "source": [
    "Observations:-- No significaqnt correlation such that columns can be dropped"
   ]
  },
  {
   "cell_type": "markdown",
   "id": "6b3fe0c5",
   "metadata": {},
   "source": [
    "# Check the outliers"
   ]
  },
  {
   "cell_type": "code",
   "execution_count": 90,
   "id": "82671158",
   "metadata": {},
   "outputs": [
    {
     "data": {
      "image/png": "[encoded data removed]",
      "text/plain": [
       "<Figure size 500x500 with 1 Axes>"
      ]
     },
     "metadata": {},
     "output_type": "display_data"
    },
    {
     "name": "stdout",
     "output_type": "stream",
     "text": [
      "Median of TotalVisits is 3.0\n"
     ]
    }
   ],
   "source": [
    "plt.figure(figsize = (5,5))\n",
    "sns.boxplot(df.TotalVisits)\n",
    "plt.title('Outlier detection for TotalVisits\\n')\n",
    "plt.show()\n",
    "print ('Median of TotalVisits is', df['TotalVisits'].median())"
   ]
  },
  {
   "cell_type": "code",
   "execution_count": 91,
   "id": "3fd722ac",
   "metadata": {},
   "outputs": [
    {
     "data": {
      "image/png": "[encoded data removed]",
      "text/plain": [
       "<Figure size 500x500 with 1 Axes>"
      ]
     },
     "metadata": {},
     "output_type": "display_data"
    },
    {
     "name": "stdout",
     "output_type": "stream",
     "text": [
      "Median of Page Views Per Visit is 2.0\n"
     ]
    }
   ],
   "source": [
    "plt.figure(figsize = (5,5))\n",
    "sns.boxplot(df['Page Views Per Visit'])\n",
    "plt.title('Outlier detection for Page Views Per Visit\\n')\n",
    "plt.show()\n",
    "print ('Median of Page Views Per Visit is', df['Page Views Per Visit'].median())"
   ]
  },
  {
   "cell_type": "code",
   "execution_count": 92,
   "id": "83979802",
   "metadata": {},
   "outputs": [
    {
     "data": {
      "image/png": "[encoded data removed]",
      "text/plain": [
       "<Figure size 500x500 with 1 Axes>"
      ]
     },
     "metadata": {},
     "output_type": "display_data"
    },
    {
     "name": "stdout",
     "output_type": "stream",
     "text": [
      "Median of Total Time Spent on Website is 248.0\n"
     ]
    }
   ],
   "source": [
    "plt.figure(figsize = (5,5))\n",
    "sns.boxplot(df['Total Time Spent on Website'])\n",
    "plt.title('Outlier detection for Time Spent on Website\\n')\n",
    "\n",
    "plt.show()\n",
    "print ('Median of Total Time Spent on Website is', df['Total Time Spent on Website'].median())"
   ]
  },
  {
   "cell_type": "markdown",
   "id": "048d7b6f",
   "metadata": {},
   "source": [
    "Observations\n",
    "\n",
    "Looking at both the box plots and the statistics, there are upper bound outliers in both TotalVisits and Page Views Per Visit columns. We can also see that the data can be capped at 99 percentile."
   ]
  },
  {
   "cell_type": "code",
   "execution_count": 93,
   "id": "1c91a713",
   "metadata": {},
   "outputs": [
    {
     "data": {
      "text/plain": [
       "count    9240.000000\n",
       "mean        3.438636\n",
       "std         4.819024\n",
       "min         0.000000\n",
       "25%         1.000000\n",
       "50%         3.000000\n",
       "75%         5.000000\n",
       "max       251.000000\n",
       "Name: TotalVisits, dtype: float64"
      ]
     },
     "execution_count": 93,
     "metadata": {},
     "output_type": "execute_result"
    }
   ],
   "source": [
    "# Analysing the Total Time Spent on Website variable\n",
    "df['TotalVisits'].describe()"
   ]
  },
  {
   "cell_type": "code",
   "execution_count": 94,
   "id": "0ee21cf0",
   "metadata": {},
   "outputs": [
    {
     "data": {
      "image/png": "[encoded data removed]",
      "text/plain": [
       "<Figure size 800x400 with 1 Axes>"
      ]
     },
     "metadata": {},
     "output_type": "display_data"
    }
   ],
   "source": [
    "#Removing the Oultiers from the data\n",
    "\n",
    "plt.figure(figsize=(8,4))\n",
    "\n",
    "Q3 = df['TotalVisits'].quantile(0.99)\n",
    "\n",
    "df = df[(df['TotalVisits'] <= Q3)]\n",
    "\n",
    "Q1 = df['TotalVisits'].quantile(0.01)\n",
    "\n",
    "df = df[(df['TotalVisits'] >= Q1)]\n",
    "\n",
    "sns.boxplot(x=df['TotalVisits'])\n",
    "plt.title(\"Boxplot of Total Visits after removing Outliers\\n\")\n",
    "plt.show()\n"
   ]
  },
  {
   "cell_type": "code",
   "execution_count": 95,
   "id": "6ce5db13",
   "metadata": {},
   "outputs": [
    {
     "data": {
      "text/plain": [
       "(9157, 16)"
      ]
     },
     "execution_count": 95,
     "metadata": {},
     "output_type": "execute_result"
    }
   ],
   "source": [
    "df.shape"
   ]
  },
  {
   "cell_type": "code",
   "execution_count": 96,
   "id": "0fdb52ef",
   "metadata": {},
   "outputs": [
    {
     "data": {
      "text/plain": [
       "count    9157.000000\n",
       "mean        2.332225\n",
       "std         2.047285\n",
       "min         0.000000\n",
       "25%         1.000000\n",
       "50%         2.000000\n",
       "75%         3.000000\n",
       "max        16.000000\n",
       "Name: Page Views Per Visit, dtype: float64"
      ]
     },
     "execution_count": 96,
     "metadata": {},
     "output_type": "execute_result"
    }
   ],
   "source": [
    "#Analysing Page Views Per Visit\n",
    "df['Page Views Per Visit'].describe()"
   ]
  },
  {
   "cell_type": "markdown",
   "id": "7597ff25",
   "metadata": {},
   "source": [
    "# Since there are Outliers present in the data, we need to remove them. We will cap it at 1%"
   ]
  },
  {
   "cell_type": "code",
   "execution_count": 97,
   "id": "fab38d9d",
   "metadata": {},
   "outputs": [
    {
     "data": {
      "image/png": "[encoded data removed]",
      "text/plain": [
       "<Figure size 800x400 with 1 Axes>"
      ]
     },
     "metadata": {},
     "output_type": "display_data"
    }
   ],
   "source": [
    "#Removing the Oultiers from the data\n",
    "\n",
    "plt.figure(figsize=(8,4))\n",
    "\n",
    "Q3 = df['Page Views Per Visit'].quantile(0.99)\n",
    "\n",
    "df = df[(df['Page Views Per Visit'] <= Q3)]\n",
    "\n",
    "Q1 = df['Page Views Per Visit'].quantile(0.01)\n",
    "\n",
    "df = df[(df['Page Views Per Visit'] >= Q1)]\n",
    "\n",
    "sns.boxplot(x=df['Page Views Per Visit'])\n",
    "plt.title(\"Boxplot of Page Views Per Visit after removing Outliers\\n\")\n",
    "plt.show()"
   ]
  },
  {
   "cell_type": "code",
   "execution_count": 98,
   "id": "0cca8f3b",
   "metadata": {},
   "outputs": [
    {
     "data": {
      "text/plain": [
       "(9090, 16)"
      ]
     },
     "execution_count": 98,
     "metadata": {},
     "output_type": "execute_result"
    }
   ],
   "source": [
    "#Checking on the shape of the dataset \n",
    "df.shape"
   ]
  },
  {
   "cell_type": "code",
   "execution_count": 99,
   "id": "19da5900",
   "metadata": {},
   "outputs": [
    {
     "data": {
      "text/plain": [
       "Lead Origin                                  0\n",
       "Lead Source                                  0\n",
       "Do Not Call                                  0\n",
       "Converted                                    0\n",
       "TotalVisits                                  0\n",
       "Total Time Spent on Website                  0\n",
       "Page Views Per Visit                         0\n",
       "Last Activity                                0\n",
       "Specialization                               0\n",
       "What is your current occupation              0\n",
       "Tags                                         0\n",
       "City                                         0\n",
       "A free copy of Mastering The Interview       0\n",
       "Last Notable Activity                        0\n",
       "specialization                               0\n",
       "city                                      6799\n",
       "dtype: int64"
      ]
     },
     "execution_count": 99,
     "metadata": {},
     "output_type": "execute_result"
    }
   ],
   "source": [
    "df.isnull().sum()"
   ]
  },
  {
   "cell_type": "markdown",
   "id": "9bca8052",
   "metadata": {},
   "source": [
    "# Data Preparation\n",
    "Converting Binary (Yes/No) to 0/1"
   ]
  },
  {
   "cell_type": "code",
   "execution_count": 100,
   "id": "04f732a7",
   "metadata": {},
   "outputs": [
    {
     "name": "stdout",
     "output_type": "stream",
     "text": [
      "Lead Origin = 3\n",
      "Lead Source = 11\n",
      "Do Not Call = 2\n",
      "Last Activity = 9\n",
      "Specialization = 19\n",
      "What is your current occupation = 6\n",
      "Tags = 8\n",
      "City = 8\n",
      "A free copy of Mastering The Interview = 2\n",
      "Last Notable Activity = 16\n",
      "specialization = 3\n",
      "city = 2\n"
     ]
    }
   ],
   "source": [
    "# determine unique values\n",
    "for k, v in df.select_dtypes(include='object').nunique().to_dict().items():\n",
    "    print('{} = {}'.format(k,v))"
   ]
  },
  {
   "cell_type": "code",
   "execution_count": 101,
   "id": "8c5d3f31",
   "metadata": {},
   "outputs": [
    {
     "data": {
      "text/html": [
       "<div>\n",
       "<style scoped>\n",
       "    .dataframe tbody tr th:only-of-type {\n",
       "        vertical-align: middle;\n",
       "    }\n",
       "\n",
       "    .dataframe tbody tr th {\n",
       "        vertical-align: top;\n",
       "    }\n",
       "\n",
       "    .dataframe thead th {\n",
       "        text-align: right;\n",
       "    }\n",
       "</style>\n",
       "<table border=\"1\" class=\"dataframe\">\n",
       "  <thead>\n",
       "    <tr style=\"text-align: right;\">\n",
       "      <th></th>\n",
       "      <th>Lead Origin</th>\n",
       "      <th>Lead Source</th>\n",
       "      <th>Do Not Call</th>\n",
       "      <th>Converted</th>\n",
       "      <th>TotalVisits</th>\n",
       "      <th>Total Time Spent on Website</th>\n",
       "      <th>Page Views Per Visit</th>\n",
       "      <th>Last Activity</th>\n",
       "      <th>Specialization</th>\n",
       "      <th>What is your current occupation</th>\n",
       "      <th>Tags</th>\n",
       "      <th>City</th>\n",
       "      <th>A free copy of Mastering The Interview</th>\n",
       "      <th>Last Notable Activity</th>\n",
       "      <th>specialization</th>\n",
       "      <th>city</th>\n",
       "    </tr>\n",
       "  </thead>\n",
       "  <tbody>\n",
       "    <tr>\n",
       "      <th>0</th>\n",
       "      <td>API</td>\n",
       "      <td>Olark Chat</td>\n",
       "      <td>0</td>\n",
       "      <td>0</td>\n",
       "      <td>0</td>\n",
       "      <td>0</td>\n",
       "      <td>0.0</td>\n",
       "      <td>Page Visited on Website</td>\n",
       "      <td>Not Specified</td>\n",
       "      <td>Unemployed</td>\n",
       "      <td>Interested in other courses</td>\n",
       "      <td>Mumbai</td>\n",
       "      <td>0</td>\n",
       "      <td>Modified</td>\n",
       "      <td>Industry Specializations</td>\n",
       "      <td>NaN</td>\n",
       "    </tr>\n",
       "    <tr>\n",
       "      <th>1</th>\n",
       "      <td>API</td>\n",
       "      <td>Organic Search</td>\n",
       "      <td>0</td>\n",
       "      <td>0</td>\n",
       "      <td>5</td>\n",
       "      <td>674</td>\n",
       "      <td>2.5</td>\n",
       "      <td>Email Opened</td>\n",
       "      <td>Not Specified</td>\n",
       "      <td>Unemployed</td>\n",
       "      <td>Ringing</td>\n",
       "      <td>Mumbai</td>\n",
       "      <td>0</td>\n",
       "      <td>Email Opened</td>\n",
       "      <td>Management Specializations</td>\n",
       "      <td>NaN</td>\n",
       "    </tr>\n",
       "    <tr>\n",
       "      <th>2</th>\n",
       "      <td>Landing Page Submission</td>\n",
       "      <td>Direct Traffic</td>\n",
       "      <td>0</td>\n",
       "      <td>1</td>\n",
       "      <td>2</td>\n",
       "      <td>1532</td>\n",
       "      <td>2.0</td>\n",
       "      <td>Email Opened</td>\n",
       "      <td>Business Administration</td>\n",
       "      <td>Student</td>\n",
       "      <td>Will revert after reading the email</td>\n",
       "      <td>Mumbai</td>\n",
       "      <td>1</td>\n",
       "      <td>Email Opened</td>\n",
       "      <td>Business Specializations</td>\n",
       "      <td>NaN</td>\n",
       "    </tr>\n",
       "    <tr>\n",
       "      <th>3</th>\n",
       "      <td>Landing Page Submission</td>\n",
       "      <td>Direct Traffic</td>\n",
       "      <td>0</td>\n",
       "      <td>0</td>\n",
       "      <td>1</td>\n",
       "      <td>305</td>\n",
       "      <td>1.0</td>\n",
       "      <td>Others</td>\n",
       "      <td>Media and Advertising</td>\n",
       "      <td>Unemployed</td>\n",
       "      <td>Ringing</td>\n",
       "      <td>Mumbai</td>\n",
       "      <td>0</td>\n",
       "      <td>Modified</td>\n",
       "      <td>Industry Specializations</td>\n",
       "      <td>NaN</td>\n",
       "    </tr>\n",
       "    <tr>\n",
       "      <th>4</th>\n",
       "      <td>Landing Page Submission</td>\n",
       "      <td>Google</td>\n",
       "      <td>0</td>\n",
       "      <td>1</td>\n",
       "      <td>2</td>\n",
       "      <td>1428</td>\n",
       "      <td>1.0</td>\n",
       "      <td>Converted to Lead</td>\n",
       "      <td>Not Specified</td>\n",
       "      <td>Unemployed</td>\n",
       "      <td>Will revert after reading the email</td>\n",
       "      <td>Mumbai</td>\n",
       "      <td>0</td>\n",
       "      <td>Modified</td>\n",
       "      <td>Management Specializations</td>\n",
       "      <td>NaN</td>\n",
       "    </tr>\n",
       "  </tbody>\n",
       "</table>\n",
       "</div>"
      ],
      "text/plain": [
       "               Lead Origin     Lead Source  Do Not Call  Converted  \\\n",
       "0                      API      Olark Chat            0          0   \n",
       "1                      API  Organic Search            0          0   \n",
       "2  Landing Page Submission  Direct Traffic            0          1   \n",
       "3  Landing Page Submission  Direct Traffic            0          0   \n",
       "4  Landing Page Submission          Google            0          1   \n",
       "\n",
       "   TotalVisits  Total Time Spent on Website  Page Views Per Visit  \\\n",
       "0            0                            0                   0.0   \n",
       "1            5                          674                   2.5   \n",
       "2            2                         1532                   2.0   \n",
       "3            1                          305                   1.0   \n",
       "4            2                         1428                   1.0   \n",
       "\n",
       "             Last Activity           Specialization  \\\n",
       "0  Page Visited on Website            Not Specified   \n",
       "1             Email Opened            Not Specified   \n",
       "2             Email Opened  Business Administration   \n",
       "3                   Others    Media and Advertising   \n",
       "4        Converted to Lead            Not Specified   \n",
       "\n",
       "  What is your current occupation                                 Tags  \\\n",
       "0                      Unemployed          Interested in other courses   \n",
       "1                      Unemployed                              Ringing   \n",
       "2                         Student  Will revert after reading the email   \n",
       "3                      Unemployed                              Ringing   \n",
       "4                      Unemployed  Will revert after reading the email   \n",
       "\n",
       "     City  A free copy of Mastering The Interview Last Notable Activity  \\\n",
       "0  Mumbai                                       0              Modified   \n",
       "1  Mumbai                                       0          Email Opened   \n",
       "2  Mumbai                                       1          Email Opened   \n",
       "3  Mumbai                                       0              Modified   \n",
       "4  Mumbai                                       0              Modified   \n",
       "\n",
       "               specialization city  \n",
       "0    Industry Specializations  NaN  \n",
       "1  Management Specializations  NaN  \n",
       "2    Business Specializations  NaN  \n",
       "3    Industry Specializations  NaN  \n",
       "4  Management Specializations  NaN  "
      ]
     },
     "execution_count": 101,
     "metadata": {},
     "output_type": "execute_result"
    }
   ],
   "source": [
    "binlist = ['Do Not Call', 'A free copy of Mastering The Interview']\n",
    "\n",
    "# Defining the map function\n",
    "def binary_map(x):\n",
    "    return x.map({'Yes': 1, \"No\": 0})\n",
    "\n",
    "# Applying the function to the housing list\n",
    "df[binlist] = df[binlist].apply(binary_map)\n",
    "\n",
    "# check the operation was success\n",
    "df.head()"
   ]
  },
  {
   "cell_type": "markdown",
   "id": "12e5d181",
   "metadata": {},
   "source": [
    "# Model Preperation"
   ]
  },
  {
   "cell_type": "markdown",
   "id": "00988871",
   "metadata": {},
   "source": [
    "# step 1- creating dummy variables"
   ]
  },
  {
   "cell_type": "code",
   "execution_count": 102,
   "id": "695743a3",
   "metadata": {},
   "outputs": [
    {
     "data": {
      "text/plain": [
       "Index(['Lead Origin', 'Lead Source', 'Last Activity', 'Specialization',\n",
       "       'What is your current occupation', 'Tags', 'City',\n",
       "       'Last Notable Activity', 'specialization', 'city'],\n",
       "      dtype='object')"
      ]
     },
     "execution_count": 102,
     "metadata": {},
     "output_type": "execute_result"
    }
   ],
   "source": [
    "#First we need to get a list of categorical columns present in the data\n",
    "catg_vals = df.select_dtypes(include=['object']).columns\n",
    "catg_vals"
   ]
  },
  {
   "cell_type": "markdown",
   "id": "4717dd30",
   "metadata": {},
   "source": [
    "To know if mapping is required Printing Categorical variables"
   ]
  },
  {
   "cell_type": "code",
   "execution_count": 103,
   "id": "848c4b38",
   "metadata": {},
   "outputs": [
    {
     "name": "stdout",
     "output_type": "stream",
     "text": [
      "Lead Origin\n",
      "Landing Page Submission     4769\n",
      "API                         3548\n",
      "Lead Add Form and Others     773\n",
      "Name: Lead Origin, dtype: int64\n",
      " \n",
      "Lead Source\n",
      "Google              2841\n",
      "Direct Traffic      2499\n",
      "Olark Chat          1753\n",
      "Organic Search      1092\n",
      "Reference            533\n",
      "Welingak Website     142\n",
      "Referral Sites       117\n",
      "Social Media          57\n",
      "Others                36\n",
      "                      18\n",
      "Live Chat              2\n",
      "Name: Lead Source, dtype: int64\n",
      " \n",
      "Last Activity\n",
      "Email Opened                 3390\n",
      "SMS Sent                     2707\n",
      "Olark Chat Conversation       967\n",
      "Page Visited on Website       594\n",
      "Converted to Lead             428\n",
      "Email Bounced                 324\n",
      "Others                        302\n",
      "Email Link Clicked            264\n",
      "Form Submitted on Website     114\n",
      "Name: Last Activity, dtype: int64\n",
      " \n",
      "Specialization\n",
      "Not Specified                        3360\n",
      "Finance Management                    959\n",
      "Human Resource Management             830\n",
      "Marketing Management                  829\n",
      "Operations Management                 498\n",
      "Business Administration               394\n",
      "IT Projects Management                360\n",
      "Supply Chain Management               341\n",
      "Banking, Investment And Insurance     328\n",
      "Media and Advertising                 198\n",
      "Travel and Tourism                    190\n",
      "International Business                173\n",
      "Healthcare Management                 153\n",
      "Hospitality Management                110\n",
      "E-COMMERCE                            108\n",
      "Retail Management                      95\n",
      "Rural and Agribusiness                 70\n",
      "E-Business                             56\n",
      "Services Excellence                    38\n",
      "Name: Specialization, dtype: int64\n",
      " \n",
      "What is your current occupation\n",
      "Unemployed              8158\n",
      "Working Professional     694\n",
      "Student                  207\n",
      "Other                     14\n",
      "Housewife                 10\n",
      "Businessman                7\n",
      "Name: What is your current occupation, dtype: int64\n",
      " \n",
      "Tags\n",
      "Not Specified                          3304\n",
      "Will revert after reading the email    2039\n",
      "Other_Tags                             1360\n",
      "Ringing                                1176\n",
      "Interested in other courses             509\n",
      "Closed by Horizzon                      347\n",
      "Busy                                    184\n",
      "Lost to EINS                            171\n",
      "Name: Tags, dtype: int64\n",
      " \n",
      "City\n",
      "Mumbai                           5321\n",
      "Non-Mumbai Maharashtra Cities     759\n",
      "Thane & Outskirts                 729\n",
      "Non-Maharashtra Cities            719\n",
      "Other Cities                      675\n",
      "Other Cities of Maharashtra       448\n",
      "Other Metro Cities                367\n",
      "Tier II Cities                     72\n",
      "Name: City, dtype: int64\n",
      " \n",
      "Last Notable Activity\n",
      "Modified                        3361\n",
      "Email Opened                    2789\n",
      "SMS Sent                        2143\n",
      "Page Visited on Website          288\n",
      "Olark Chat Conversation          182\n",
      "Email Link Clicked               170\n",
      "Email Bounced                     59\n",
      "Unsubscribed                      46\n",
      "Unreachable                       32\n",
      "Had a Phone Conversation          13\n",
      "Email Marked Spam                  2\n",
      "Approached upfront                 1\n",
      "Resubscribed to emails             1\n",
      "View in browser link Clicked       1\n",
      "Form Submitted on Website          1\n",
      "Email Received                     1\n",
      "Name: Last Notable Activity, dtype: int64\n",
      " \n",
      "specialization\n",
      "Management Specializations    6627\n",
      "Industry Specializations      1407\n",
      "Business Specializations      1056\n",
      "Name: specialization, dtype: int64\n",
      " \n",
      "city\n",
      "Non-Mumbai Maharashtra Cities    1177\n",
      "Non-Maharashtra Cities           1114\n",
      "Name: city, dtype: int64\n",
      " \n"
     ]
    }
   ],
   "source": [
    "for i in catg_vals:\n",
    "    print(i)\n",
    "    print(df[i].value_counts())\n",
    "    print(\" \")"
   ]
  },
  {
   "cell_type": "markdown",
   "id": "a2962774",
   "metadata": {},
   "source": [
    "# Creating dummy variable for categorical columns "
   ]
  },
  {
   "cell_type": "markdown",
   "id": "1cac951b",
   "metadata": {},
   "source": [
    "categorical columns are 'Lead Origin', 'Lead Source', 'Last Activity', 'Specialization','What is your current occupation', 'Tags', 'City','Last Notable Activity', 'specialization', 'city'.      "
   ]
  },
  {
   "cell_type": "code",
   "execution_count": 104,
   "id": "e327ce71",
   "metadata": {},
   "outputs": [],
   "source": [
    "# Creating a dummy variable for some of the categorical variables and dropping the first one.\n",
    "dummy = pd.get_dummies(df[['Lead Origin', 'Lead Source', 'Last Activity', 'Specialization','What is your current occupation', 'Tags', 'City','Last Notable Activity', 'specialization', 'city']], drop_first = True)\n",
    "# Adding the results to the master dataframe\n",
    "df = pd.concat([df, dummy], axis=1)"
   ]
  },
  {
   "cell_type": "code",
   "execution_count": 105,
   "id": "8746582f",
   "metadata": {},
   "outputs": [
    {
     "data": {
      "text/html": [
       "<div>\n",
       "<style scoped>\n",
       "    .dataframe tbody tr th:only-of-type {\n",
       "        vertical-align: middle;\n",
       "    }\n",
       "\n",
       "    .dataframe tbody tr th {\n",
       "        vertical-align: top;\n",
       "    }\n",
       "\n",
       "    .dataframe thead th {\n",
       "        text-align: right;\n",
       "    }\n",
       "</style>\n",
       "<table border=\"1\" class=\"dataframe\">\n",
       "  <thead>\n",
       "    <tr style=\"text-align: right;\">\n",
       "      <th></th>\n",
       "      <th>Do Not Call</th>\n",
       "      <th>Converted</th>\n",
       "      <th>TotalVisits</th>\n",
       "      <th>Total Time Spent on Website</th>\n",
       "      <th>Page Views Per Visit</th>\n",
       "      <th>A free copy of Mastering The Interview</th>\n",
       "      <th>Lead Origin_Landing Page Submission</th>\n",
       "      <th>Lead Origin_Lead Add Form and Others</th>\n",
       "      <th>Lead Source_Direct Traffic</th>\n",
       "      <th>Lead Source_Google</th>\n",
       "      <th>...</th>\n",
       "      <th>Last Notable Activity_Olark Chat Conversation</th>\n",
       "      <th>Last Notable Activity_Page Visited on Website</th>\n",
       "      <th>Last Notable Activity_Resubscribed to emails</th>\n",
       "      <th>Last Notable Activity_SMS Sent</th>\n",
       "      <th>Last Notable Activity_Unreachable</th>\n",
       "      <th>Last Notable Activity_Unsubscribed</th>\n",
       "      <th>Last Notable Activity_View in browser link Clicked</th>\n",
       "      <th>specialization_Industry Specializations</th>\n",
       "      <th>specialization_Management Specializations</th>\n",
       "      <th>city_Non-Mumbai Maharashtra Cities</th>\n",
       "    </tr>\n",
       "  </thead>\n",
       "  <tbody>\n",
       "    <tr>\n",
       "      <th>0</th>\n",
       "      <td>0</td>\n",
       "      <td>0</td>\n",
       "      <td>0</td>\n",
       "      <td>0</td>\n",
       "      <td>0.0</td>\n",
       "      <td>0</td>\n",
       "      <td>0</td>\n",
       "      <td>0</td>\n",
       "      <td>0</td>\n",
       "      <td>0</td>\n",
       "      <td>...</td>\n",
       "      <td>0</td>\n",
       "      <td>0</td>\n",
       "      <td>0</td>\n",
       "      <td>0</td>\n",
       "      <td>0</td>\n",
       "      <td>0</td>\n",
       "      <td>0</td>\n",
       "      <td>1</td>\n",
       "      <td>0</td>\n",
       "      <td>0</td>\n",
       "    </tr>\n",
       "    <tr>\n",
       "      <th>1</th>\n",
       "      <td>0</td>\n",
       "      <td>0</td>\n",
       "      <td>5</td>\n",
       "      <td>674</td>\n",
       "      <td>2.5</td>\n",
       "      <td>0</td>\n",
       "      <td>0</td>\n",
       "      <td>0</td>\n",
       "      <td>0</td>\n",
       "      <td>0</td>\n",
       "      <td>...</td>\n",
       "      <td>0</td>\n",
       "      <td>0</td>\n",
       "      <td>0</td>\n",
       "      <td>0</td>\n",
       "      <td>0</td>\n",
       "      <td>0</td>\n",
       "      <td>0</td>\n",
       "      <td>0</td>\n",
       "      <td>1</td>\n",
       "      <td>0</td>\n",
       "    </tr>\n",
       "    <tr>\n",
       "      <th>2</th>\n",
       "      <td>0</td>\n",
       "      <td>1</td>\n",
       "      <td>2</td>\n",
       "      <td>1532</td>\n",
       "      <td>2.0</td>\n",
       "      <td>1</td>\n",
       "      <td>1</td>\n",
       "      <td>0</td>\n",
       "      <td>1</td>\n",
       "      <td>0</td>\n",
       "      <td>...</td>\n",
       "      <td>0</td>\n",
       "      <td>0</td>\n",
       "      <td>0</td>\n",
       "      <td>0</td>\n",
       "      <td>0</td>\n",
       "      <td>0</td>\n",
       "      <td>0</td>\n",
       "      <td>0</td>\n",
       "      <td>0</td>\n",
       "      <td>0</td>\n",
       "    </tr>\n",
       "    <tr>\n",
       "      <th>3</th>\n",
       "      <td>0</td>\n",
       "      <td>0</td>\n",
       "      <td>1</td>\n",
       "      <td>305</td>\n",
       "      <td>1.0</td>\n",
       "      <td>0</td>\n",
       "      <td>1</td>\n",
       "      <td>0</td>\n",
       "      <td>1</td>\n",
       "      <td>0</td>\n",
       "      <td>...</td>\n",
       "      <td>0</td>\n",
       "      <td>0</td>\n",
       "      <td>0</td>\n",
       "      <td>0</td>\n",
       "      <td>0</td>\n",
       "      <td>0</td>\n",
       "      <td>0</td>\n",
       "      <td>1</td>\n",
       "      <td>0</td>\n",
       "      <td>0</td>\n",
       "    </tr>\n",
       "    <tr>\n",
       "      <th>4</th>\n",
       "      <td>0</td>\n",
       "      <td>1</td>\n",
       "      <td>2</td>\n",
       "      <td>1428</td>\n",
       "      <td>1.0</td>\n",
       "      <td>0</td>\n",
       "      <td>1</td>\n",
       "      <td>0</td>\n",
       "      <td>0</td>\n",
       "      <td>1</td>\n",
       "      <td>...</td>\n",
       "      <td>0</td>\n",
       "      <td>0</td>\n",
       "      <td>0</td>\n",
       "      <td>0</td>\n",
       "      <td>0</td>\n",
       "      <td>0</td>\n",
       "      <td>0</td>\n",
       "      <td>0</td>\n",
       "      <td>1</td>\n",
       "      <td>0</td>\n",
       "    </tr>\n",
       "  </tbody>\n",
       "</table>\n",
       "<p>5 rows × 81 columns</p>\n",
       "</div>"
      ],
      "text/plain": [
       "   Do Not Call  Converted  TotalVisits  Total Time Spent on Website  \\\n",
       "0            0          0            0                            0   \n",
       "1            0          0            5                          674   \n",
       "2            0          1            2                         1532   \n",
       "3            0          0            1                          305   \n",
       "4            0          1            2                         1428   \n",
       "\n",
       "   Page Views Per Visit  A free copy of Mastering The Interview  \\\n",
       "0                   0.0                                       0   \n",
       "1                   2.5                                       0   \n",
       "2                   2.0                                       1   \n",
       "3                   1.0                                       0   \n",
       "4                   1.0                                       0   \n",
       "\n",
       "   Lead Origin_Landing Page Submission  Lead Origin_Lead Add Form and Others  \\\n",
       "0                                    0                                     0   \n",
       "1                                    0                                     0   \n",
       "2                                    1                                     0   \n",
       "3                                    1                                     0   \n",
       "4                                    1                                     0   \n",
       "\n",
       "   Lead Source_Direct Traffic  Lead Source_Google  ...  \\\n",
       "0                           0                   0  ...   \n",
       "1                           0                   0  ...   \n",
       "2                           1                   0  ...   \n",
       "3                           1                   0  ...   \n",
       "4                           0                   1  ...   \n",
       "\n",
       "   Last Notable Activity_Olark Chat Conversation  \\\n",
       "0                                              0   \n",
       "1                                              0   \n",
       "2                                              0   \n",
       "3                                              0   \n",
       "4                                              0   \n",
       "\n",
       "   Last Notable Activity_Page Visited on Website  \\\n",
       "0                                              0   \n",
       "1                                              0   \n",
       "2                                              0   \n",
       "3                                              0   \n",
       "4                                              0   \n",
       "\n",
       "   Last Notable Activity_Resubscribed to emails  \\\n",
       "0                                             0   \n",
       "1                                             0   \n",
       "2                                             0   \n",
       "3                                             0   \n",
       "4                                             0   \n",
       "\n",
       "   Last Notable Activity_SMS Sent  Last Notable Activity_Unreachable  \\\n",
       "0                               0                                  0   \n",
       "1                               0                                  0   \n",
       "2                               0                                  0   \n",
       "3                               0                                  0   \n",
       "4                               0                                  0   \n",
       "\n",
       "   Last Notable Activity_Unsubscribed  \\\n",
       "0                                   0   \n",
       "1                                   0   \n",
       "2                                   0   \n",
       "3                                   0   \n",
       "4                                   0   \n",
       "\n",
       "   Last Notable Activity_View in browser link Clicked  \\\n",
       "0                                                  0    \n",
       "1                                                  0    \n",
       "2                                                  0    \n",
       "3                                                  0    \n",
       "4                                                  0    \n",
       "\n",
       "   specialization_Industry Specializations  \\\n",
       "0                                        1   \n",
       "1                                        0   \n",
       "2                                        0   \n",
       "3                                        1   \n",
       "4                                        0   \n",
       "\n",
       "   specialization_Management Specializations  \\\n",
       "0                                          0   \n",
       "1                                          1   \n",
       "2                                          0   \n",
       "3                                          0   \n",
       "4                                          1   \n",
       "\n",
       "   city_Non-Mumbai Maharashtra Cities  \n",
       "0                                   0  \n",
       "1                                   0  \n",
       "2                                   0  \n",
       "3                                   0  \n",
       "4                                   0  \n",
       "\n",
       "[5 rows x 81 columns]"
      ]
     },
     "execution_count": 105,
     "metadata": {},
     "output_type": "execute_result"
    }
   ],
   "source": [
    "# Dropping the columns for which dummies have been created\n",
    "df.drop([ 'Lead Origin', 'Lead Source', 'Last Activity', 'Specialization','What is your current occupation', 'Tags', 'City','Last Notable Activity', 'specialization', 'city'], axis = 1, inplace = True)\n",
    "df.head()"
   ]
  },
  {
   "cell_type": "code",
   "execution_count": 106,
   "id": "3f13fa12",
   "metadata": {},
   "outputs": [
    {
     "name": "stdout",
     "output_type": "stream",
     "text": [
      "<class 'pandas.core.frame.DataFrame'>\n",
      "Int64Index: 9090 entries, 0 to 9239\n",
      "Data columns (total 81 columns):\n",
      " #   Column                                                Non-Null Count  Dtype  \n",
      "---  ------                                                --------------  -----  \n",
      " 0   Do Not Call                                           9090 non-null   int64  \n",
      " 1   Converted                                             9090 non-null   int64  \n",
      " 2   TotalVisits                                           9090 non-null   int32  \n",
      " 3   Total Time Spent on Website                           9090 non-null   int64  \n",
      " 4   Page Views Per Visit                                  9090 non-null   float64\n",
      " 5   A free copy of Mastering The Interview                9090 non-null   int64  \n",
      " 6   Lead Origin_Landing Page Submission                   9090 non-null   uint8  \n",
      " 7   Lead Origin_Lead Add Form and Others                  9090 non-null   uint8  \n",
      " 8   Lead Source_Direct Traffic                            9090 non-null   uint8  \n",
      " 9   Lead Source_Google                                    9090 non-null   uint8  \n",
      " 10  Lead Source_Live Chat                                 9090 non-null   uint8  \n",
      " 11  Lead Source_Olark Chat                                9090 non-null   uint8  \n",
      " 12  Lead Source_Organic Search                            9090 non-null   uint8  \n",
      " 13  Lead Source_Others                                    9090 non-null   uint8  \n",
      " 14  Lead Source_Reference                                 9090 non-null   uint8  \n",
      " 15  Lead Source_Referral Sites                            9090 non-null   uint8  \n",
      " 16  Lead Source_Social Media                              9090 non-null   uint8  \n",
      " 17  Lead Source_Welingak Website                          9090 non-null   uint8  \n",
      " 18  Last Activity_Email Bounced                           9090 non-null   uint8  \n",
      " 19  Last Activity_Email Link Clicked                      9090 non-null   uint8  \n",
      " 20  Last Activity_Email Opened                            9090 non-null   uint8  \n",
      " 21  Last Activity_Form Submitted on Website               9090 non-null   uint8  \n",
      " 22  Last Activity_Olark Chat Conversation                 9090 non-null   uint8  \n",
      " 23  Last Activity_Others                                  9090 non-null   uint8  \n",
      " 24  Last Activity_Page Visited on Website                 9090 non-null   uint8  \n",
      " 25  Last Activity_SMS Sent                                9090 non-null   uint8  \n",
      " 26  Specialization_Business Administration                9090 non-null   uint8  \n",
      " 27  Specialization_E-Business                             9090 non-null   uint8  \n",
      " 28  Specialization_E-COMMERCE                             9090 non-null   uint8  \n",
      " 29  Specialization_Finance Management                     9090 non-null   uint8  \n",
      " 30  Specialization_Healthcare Management                  9090 non-null   uint8  \n",
      " 31  Specialization_Hospitality Management                 9090 non-null   uint8  \n",
      " 32  Specialization_Human Resource Management              9090 non-null   uint8  \n",
      " 33  Specialization_IT Projects Management                 9090 non-null   uint8  \n",
      " 34  Specialization_International Business                 9090 non-null   uint8  \n",
      " 35  Specialization_Marketing Management                   9090 non-null   uint8  \n",
      " 36  Specialization_Media and Advertising                  9090 non-null   uint8  \n",
      " 37  Specialization_Not Specified                          9090 non-null   uint8  \n",
      " 38  Specialization_Operations Management                  9090 non-null   uint8  \n",
      " 39  Specialization_Retail Management                      9090 non-null   uint8  \n",
      " 40  Specialization_Rural and Agribusiness                 9090 non-null   uint8  \n",
      " 41  Specialization_Services Excellence                    9090 non-null   uint8  \n",
      " 42  Specialization_Supply Chain Management                9090 non-null   uint8  \n",
      " 43  Specialization_Travel and Tourism                     9090 non-null   uint8  \n",
      " 44  What is your current occupation_Housewife             9090 non-null   uint8  \n",
      " 45  What is your current occupation_Other                 9090 non-null   uint8  \n",
      " 46  What is your current occupation_Student               9090 non-null   uint8  \n",
      " 47  What is your current occupation_Unemployed            9090 non-null   uint8  \n",
      " 48  What is your current occupation_Working Professional  9090 non-null   uint8  \n",
      " 49  Tags_Closed by Horizzon                               9090 non-null   uint8  \n",
      " 50  Tags_Interested in other courses                      9090 non-null   uint8  \n",
      " 51  Tags_Lost to EINS                                     9090 non-null   uint8  \n",
      " 52  Tags_Not Specified                                    9090 non-null   uint8  \n",
      " 53  Tags_Other_Tags                                       9090 non-null   uint8  \n",
      " 54  Tags_Ringing                                          9090 non-null   uint8  \n",
      " 55  Tags_Will revert after reading the email              9090 non-null   uint8  \n",
      " 56  City_Non-Maharashtra Cities                           9090 non-null   uint8  \n",
      " 57  City_Non-Mumbai Maharashtra Cities                    9090 non-null   uint8  \n",
      " 58  City_Other Cities                                     9090 non-null   uint8  \n",
      " 59  City_Other Cities of Maharashtra                      9090 non-null   uint8  \n",
      " 60  City_Other Metro Cities                               9090 non-null   uint8  \n",
      " 61  City_Thane & Outskirts                                9090 non-null   uint8  \n",
      " 62  City_Tier II Cities                                   9090 non-null   uint8  \n",
      " 63  Last Notable Activity_Email Bounced                   9090 non-null   uint8  \n",
      " 64  Last Notable Activity_Email Link Clicked              9090 non-null   uint8  \n",
      " 65  Last Notable Activity_Email Marked Spam               9090 non-null   uint8  \n",
      " 66  Last Notable Activity_Email Opened                    9090 non-null   uint8  \n",
      " 67  Last Notable Activity_Email Received                  9090 non-null   uint8  \n",
      " 68  Last Notable Activity_Form Submitted on Website       9090 non-null   uint8  \n",
      " 69  Last Notable Activity_Had a Phone Conversation        9090 non-null   uint8  \n",
      " 70  Last Notable Activity_Modified                        9090 non-null   uint8  \n",
      " 71  Last Notable Activity_Olark Chat Conversation         9090 non-null   uint8  \n",
      " 72  Last Notable Activity_Page Visited on Website         9090 non-null   uint8  \n",
      " 73  Last Notable Activity_Resubscribed to emails          9090 non-null   uint8  \n",
      " 74  Last Notable Activity_SMS Sent                        9090 non-null   uint8  \n",
      " 75  Last Notable Activity_Unreachable                     9090 non-null   uint8  \n",
      " 76  Last Notable Activity_Unsubscribed                    9090 non-null   uint8  \n",
      " 77  Last Notable Activity_View in browser link Clicked    9090 non-null   uint8  \n",
      " 78  specialization_Industry Specializations               9090 non-null   uint8  \n",
      " 79  specialization_Management Specializations             9090 non-null   uint8  \n",
      " 80  city_Non-Mumbai Maharashtra Cities                    9090 non-null   uint8  \n",
      "dtypes: float64(1), int32(1), int64(4), uint8(75)\n",
      "memory usage: 1.1 MB\n"
     ]
    }
   ],
   "source": [
    "# Checking if we have any categorical variable present in the data \n",
    "df.info()"
   ]
  },
  {
   "cell_type": "markdown",
   "id": "3cb68f4e",
   "metadata": {},
   "source": [
    "# There are no variables present, we can go ahead in creating the model"
   ]
  },
  {
   "cell_type": "markdown",
   "id": "3b18d1c7",
   "metadata": {},
   "source": [
    "# Model Building: Logistic Regression"
   ]
  },
  {
   "cell_type": "markdown",
   "id": "296a1272",
   "metadata": {},
   "source": [
    "Splitting the data into Training and Testing Set - For this we need to import Train Test Split from SKLearn"
   ]
  },
  {
   "cell_type": "code",
   "execution_count": 107,
   "id": "c8d18cdf",
   "metadata": {},
   "outputs": [
    {
     "data": {
      "text/plain": [
       "0    0\n",
       "1    0\n",
       "2    1\n",
       "3    0\n",
       "4    1\n",
       "Name: Converted, dtype: int64"
      ]
     },
     "execution_count": 107,
     "metadata": {},
     "output_type": "execute_result"
    }
   ],
   "source": [
    "from sklearn.model_selection import train_test_split\n",
    "y = df['Converted']\n",
    "y.head()"
   ]
  },
  {
   "cell_type": "code",
   "execution_count": 108,
   "id": "7c3a81ce",
   "metadata": {},
   "outputs": [
    {
     "data": {
      "text/html": [
       "<div>\n",
       "<style scoped>\n",
       "    .dataframe tbody tr th:only-of-type {\n",
       "        vertical-align: middle;\n",
       "    }\n",
       "\n",
       "    .dataframe tbody tr th {\n",
       "        vertical-align: top;\n",
       "    }\n",
       "\n",
       "    .dataframe thead th {\n",
       "        text-align: right;\n",
       "    }\n",
       "</style>\n",
       "<table border=\"1\" class=\"dataframe\">\n",
       "  <thead>\n",
       "    <tr style=\"text-align: right;\">\n",
       "      <th></th>\n",
       "      <th>Do Not Call</th>\n",
       "      <th>TotalVisits</th>\n",
       "      <th>Total Time Spent on Website</th>\n",
       "      <th>Page Views Per Visit</th>\n",
       "      <th>A free copy of Mastering The Interview</th>\n",
       "      <th>Lead Origin_Landing Page Submission</th>\n",
       "      <th>Lead Origin_Lead Add Form and Others</th>\n",
       "      <th>Lead Source_Direct Traffic</th>\n",
       "      <th>Lead Source_Google</th>\n",
       "      <th>Lead Source_Live Chat</th>\n",
       "      <th>...</th>\n",
       "      <th>Last Notable Activity_Olark Chat Conversation</th>\n",
       "      <th>Last Notable Activity_Page Visited on Website</th>\n",
       "      <th>Last Notable Activity_Resubscribed to emails</th>\n",
       "      <th>Last Notable Activity_SMS Sent</th>\n",
       "      <th>Last Notable Activity_Unreachable</th>\n",
       "      <th>Last Notable Activity_Unsubscribed</th>\n",
       "      <th>Last Notable Activity_View in browser link Clicked</th>\n",
       "      <th>specialization_Industry Specializations</th>\n",
       "      <th>specialization_Management Specializations</th>\n",
       "      <th>city_Non-Mumbai Maharashtra Cities</th>\n",
       "    </tr>\n",
       "  </thead>\n",
       "  <tbody>\n",
       "    <tr>\n",
       "      <th>0</th>\n",
       "      <td>0</td>\n",
       "      <td>0</td>\n",
       "      <td>0</td>\n",
       "      <td>0.0</td>\n",
       "      <td>0</td>\n",
       "      <td>0</td>\n",
       "      <td>0</td>\n",
       "      <td>0</td>\n",
       "      <td>0</td>\n",
       "      <td>0</td>\n",
       "      <td>...</td>\n",
       "      <td>0</td>\n",
       "      <td>0</td>\n",
       "      <td>0</td>\n",
       "      <td>0</td>\n",
       "      <td>0</td>\n",
       "      <td>0</td>\n",
       "      <td>0</td>\n",
       "      <td>1</td>\n",
       "      <td>0</td>\n",
       "      <td>0</td>\n",
       "    </tr>\n",
       "    <tr>\n",
       "      <th>1</th>\n",
       "      <td>0</td>\n",
       "      <td>5</td>\n",
       "      <td>674</td>\n",
       "      <td>2.5</td>\n",
       "      <td>0</td>\n",
       "      <td>0</td>\n",
       "      <td>0</td>\n",
       "      <td>0</td>\n",
       "      <td>0</td>\n",
       "      <td>0</td>\n",
       "      <td>...</td>\n",
       "      <td>0</td>\n",
       "      <td>0</td>\n",
       "      <td>0</td>\n",
       "      <td>0</td>\n",
       "      <td>0</td>\n",
       "      <td>0</td>\n",
       "      <td>0</td>\n",
       "      <td>0</td>\n",
       "      <td>1</td>\n",
       "      <td>0</td>\n",
       "    </tr>\n",
       "    <tr>\n",
       "      <th>2</th>\n",
       "      <td>0</td>\n",
       "      <td>2</td>\n",
       "      <td>1532</td>\n",
       "      <td>2.0</td>\n",
       "      <td>1</td>\n",
       "      <td>1</td>\n",
       "      <td>0</td>\n",
       "      <td>1</td>\n",
       "      <td>0</td>\n",
       "      <td>0</td>\n",
       "      <td>...</td>\n",
       "      <td>0</td>\n",
       "      <td>0</td>\n",
       "      <td>0</td>\n",
       "      <td>0</td>\n",
       "      <td>0</td>\n",
       "      <td>0</td>\n",
       "      <td>0</td>\n",
       "      <td>0</td>\n",
       "      <td>0</td>\n",
       "      <td>0</td>\n",
       "    </tr>\n",
       "    <tr>\n",
       "      <th>3</th>\n",
       "      <td>0</td>\n",
       "      <td>1</td>\n",
       "      <td>305</td>\n",
       "      <td>1.0</td>\n",
       "      <td>0</td>\n",
       "      <td>1</td>\n",
       "      <td>0</td>\n",
       "      <td>1</td>\n",
       "      <td>0</td>\n",
       "      <td>0</td>\n",
       "      <td>...</td>\n",
       "      <td>0</td>\n",
       "      <td>0</td>\n",
       "      <td>0</td>\n",
       "      <td>0</td>\n",
       "      <td>0</td>\n",
       "      <td>0</td>\n",
       "      <td>0</td>\n",
       "      <td>1</td>\n",
       "      <td>0</td>\n",
       "      <td>0</td>\n",
       "    </tr>\n",
       "    <tr>\n",
       "      <th>4</th>\n",
       "      <td>0</td>\n",
       "      <td>2</td>\n",
       "      <td>1428</td>\n",
       "      <td>1.0</td>\n",
       "      <td>0</td>\n",
       "      <td>1</td>\n",
       "      <td>0</td>\n",
       "      <td>0</td>\n",
       "      <td>1</td>\n",
       "      <td>0</td>\n",
       "      <td>...</td>\n",
       "      <td>0</td>\n",
       "      <td>0</td>\n",
       "      <td>0</td>\n",
       "      <td>0</td>\n",
       "      <td>0</td>\n",
       "      <td>0</td>\n",
       "      <td>0</td>\n",
       "      <td>0</td>\n",
       "      <td>1</td>\n",
       "      <td>0</td>\n",
       "    </tr>\n",
       "  </tbody>\n",
       "</table>\n",
       "<p>5 rows × 80 columns</p>\n",
       "</div>"
      ],
      "text/plain": [
       "   Do Not Call  TotalVisits  Total Time Spent on Website  \\\n",
       "0            0            0                            0   \n",
       "1            0            5                          674   \n",
       "2            0            2                         1532   \n",
       "3            0            1                          305   \n",
       "4            0            2                         1428   \n",
       "\n",
       "   Page Views Per Visit  A free copy of Mastering The Interview  \\\n",
       "0                   0.0                                       0   \n",
       "1                   2.5                                       0   \n",
       "2                   2.0                                       1   \n",
       "3                   1.0                                       0   \n",
       "4                   1.0                                       0   \n",
       "\n",
       "   Lead Origin_Landing Page Submission  Lead Origin_Lead Add Form and Others  \\\n",
       "0                                    0                                     0   \n",
       "1                                    0                                     0   \n",
       "2                                    1                                     0   \n",
       "3                                    1                                     0   \n",
       "4                                    1                                     0   \n",
       "\n",
       "   Lead Source_Direct Traffic  Lead Source_Google  Lead Source_Live Chat  ...  \\\n",
       "0                           0                   0                      0  ...   \n",
       "1                           0                   0                      0  ...   \n",
       "2                           1                   0                      0  ...   \n",
       "3                           1                   0                      0  ...   \n",
       "4                           0                   1                      0  ...   \n",
       "\n",
       "   Last Notable Activity_Olark Chat Conversation  \\\n",
       "0                                              0   \n",
       "1                                              0   \n",
       "2                                              0   \n",
       "3                                              0   \n",
       "4                                              0   \n",
       "\n",
       "   Last Notable Activity_Page Visited on Website  \\\n",
       "0                                              0   \n",
       "1                                              0   \n",
       "2                                              0   \n",
       "3                                              0   \n",
       "4                                              0   \n",
       "\n",
       "   Last Notable Activity_Resubscribed to emails  \\\n",
       "0                                             0   \n",
       "1                                             0   \n",
       "2                                             0   \n",
       "3                                             0   \n",
       "4                                             0   \n",
       "\n",
       "   Last Notable Activity_SMS Sent  Last Notable Activity_Unreachable  \\\n",
       "0                               0                                  0   \n",
       "1                               0                                  0   \n",
       "2                               0                                  0   \n",
       "3                               0                                  0   \n",
       "4                               0                                  0   \n",
       "\n",
       "   Last Notable Activity_Unsubscribed  \\\n",
       "0                                   0   \n",
       "1                                   0   \n",
       "2                                   0   \n",
       "3                                   0   \n",
       "4                                   0   \n",
       "\n",
       "   Last Notable Activity_View in browser link Clicked  \\\n",
       "0                                                  0    \n",
       "1                                                  0    \n",
       "2                                                  0    \n",
       "3                                                  0    \n",
       "4                                                  0    \n",
       "\n",
       "   specialization_Industry Specializations  \\\n",
       "0                                        1   \n",
       "1                                        0   \n",
       "2                                        0   \n",
       "3                                        1   \n",
       "4                                        0   \n",
       "\n",
       "   specialization_Management Specializations  \\\n",
       "0                                          0   \n",
       "1                                          1   \n",
       "2                                          0   \n",
       "3                                          0   \n",
       "4                                          1   \n",
       "\n",
       "   city_Non-Mumbai Maharashtra Cities  \n",
       "0                                   0  \n",
       "1                                   0  \n",
       "2                                   0  \n",
       "3                                   0  \n",
       "4                                   0  \n",
       "\n",
       "[5 rows x 80 columns]"
      ]
     },
     "execution_count": 108,
     "metadata": {},
     "output_type": "execute_result"
    }
   ],
   "source": [
    "# Independent Variables\n",
    "X = df.drop('Converted', axis = 1)\n",
    "X.head()"
   ]
  },
  {
   "cell_type": "code",
   "execution_count": 109,
   "id": "e76c19a0",
   "metadata": {},
   "outputs": [],
   "source": [
    "# Splitting into train and test data at 70/30 Ratio\n",
    "X_train, X_test, y_train, y_test = train_test_split(X, y, train_size=0.7, test_size=0.3, random_state=100)"
   ]
  },
  {
   "cell_type": "code",
   "execution_count": 110,
   "id": "0a2b4202",
   "metadata": {},
   "outputs": [
    {
     "data": {
      "text/html": [
       "<div>\n",
       "<style scoped>\n",
       "    .dataframe tbody tr th:only-of-type {\n",
       "        vertical-align: middle;\n",
       "    }\n",
       "\n",
       "    .dataframe tbody tr th {\n",
       "        vertical-align: top;\n",
       "    }\n",
       "\n",
       "    .dataframe thead th {\n",
       "        text-align: right;\n",
       "    }\n",
       "</style>\n",
       "<table border=\"1\" class=\"dataframe\">\n",
       "  <thead>\n",
       "    <tr style=\"text-align: right;\">\n",
       "      <th></th>\n",
       "      <th>Do Not Call</th>\n",
       "      <th>TotalVisits</th>\n",
       "      <th>Total Time Spent on Website</th>\n",
       "      <th>Page Views Per Visit</th>\n",
       "      <th>A free copy of Mastering The Interview</th>\n",
       "      <th>Lead Origin_Landing Page Submission</th>\n",
       "      <th>Lead Origin_Lead Add Form and Others</th>\n",
       "      <th>Lead Source_Direct Traffic</th>\n",
       "      <th>Lead Source_Google</th>\n",
       "      <th>Lead Source_Live Chat</th>\n",
       "      <th>...</th>\n",
       "      <th>Last Notable Activity_Olark Chat Conversation</th>\n",
       "      <th>Last Notable Activity_Page Visited on Website</th>\n",
       "      <th>Last Notable Activity_Resubscribed to emails</th>\n",
       "      <th>Last Notable Activity_SMS Sent</th>\n",
       "      <th>Last Notable Activity_Unreachable</th>\n",
       "      <th>Last Notable Activity_Unsubscribed</th>\n",
       "      <th>Last Notable Activity_View in browser link Clicked</th>\n",
       "      <th>specialization_Industry Specializations</th>\n",
       "      <th>specialization_Management Specializations</th>\n",
       "      <th>city_Non-Mumbai Maharashtra Cities</th>\n",
       "    </tr>\n",
       "  </thead>\n",
       "  <tbody>\n",
       "    <tr>\n",
       "      <th>302</th>\n",
       "      <td>0</td>\n",
       "      <td>7</td>\n",
       "      <td>250</td>\n",
       "      <td>2.33</td>\n",
       "      <td>0</td>\n",
       "      <td>0</td>\n",
       "      <td>0</td>\n",
       "      <td>0</td>\n",
       "      <td>0</td>\n",
       "      <td>0</td>\n",
       "      <td>...</td>\n",
       "      <td>0</td>\n",
       "      <td>0</td>\n",
       "      <td>0</td>\n",
       "      <td>0</td>\n",
       "      <td>0</td>\n",
       "      <td>0</td>\n",
       "      <td>0</td>\n",
       "      <td>0</td>\n",
       "      <td>1</td>\n",
       "      <td>0</td>\n",
       "    </tr>\n",
       "    <tr>\n",
       "      <th>6087</th>\n",
       "      <td>0</td>\n",
       "      <td>0</td>\n",
       "      <td>0</td>\n",
       "      <td>0.00</td>\n",
       "      <td>0</td>\n",
       "      <td>0</td>\n",
       "      <td>0</td>\n",
       "      <td>0</td>\n",
       "      <td>0</td>\n",
       "      <td>0</td>\n",
       "      <td>...</td>\n",
       "      <td>0</td>\n",
       "      <td>0</td>\n",
       "      <td>0</td>\n",
       "      <td>0</td>\n",
       "      <td>0</td>\n",
       "      <td>0</td>\n",
       "      <td>0</td>\n",
       "      <td>1</td>\n",
       "      <td>0</td>\n",
       "      <td>0</td>\n",
       "    </tr>\n",
       "    <tr>\n",
       "      <th>1033</th>\n",
       "      <td>0</td>\n",
       "      <td>5</td>\n",
       "      <td>470</td>\n",
       "      <td>5.00</td>\n",
       "      <td>0</td>\n",
       "      <td>0</td>\n",
       "      <td>0</td>\n",
       "      <td>0</td>\n",
       "      <td>1</td>\n",
       "      <td>0</td>\n",
       "      <td>...</td>\n",
       "      <td>0</td>\n",
       "      <td>0</td>\n",
       "      <td>0</td>\n",
       "      <td>0</td>\n",
       "      <td>0</td>\n",
       "      <td>0</td>\n",
       "      <td>0</td>\n",
       "      <td>0</td>\n",
       "      <td>0</td>\n",
       "      <td>0</td>\n",
       "    </tr>\n",
       "    <tr>\n",
       "      <th>7656</th>\n",
       "      <td>0</td>\n",
       "      <td>6</td>\n",
       "      <td>352</td>\n",
       "      <td>6.00</td>\n",
       "      <td>1</td>\n",
       "      <td>1</td>\n",
       "      <td>0</td>\n",
       "      <td>1</td>\n",
       "      <td>0</td>\n",
       "      <td>0</td>\n",
       "      <td>...</td>\n",
       "      <td>0</td>\n",
       "      <td>0</td>\n",
       "      <td>0</td>\n",
       "      <td>1</td>\n",
       "      <td>0</td>\n",
       "      <td>0</td>\n",
       "      <td>0</td>\n",
       "      <td>0</td>\n",
       "      <td>1</td>\n",
       "      <td>0</td>\n",
       "    </tr>\n",
       "    <tr>\n",
       "      <th>3241</th>\n",
       "      <td>0</td>\n",
       "      <td>4</td>\n",
       "      <td>973</td>\n",
       "      <td>1.33</td>\n",
       "      <td>1</td>\n",
       "      <td>1</td>\n",
       "      <td>0</td>\n",
       "      <td>1</td>\n",
       "      <td>0</td>\n",
       "      <td>0</td>\n",
       "      <td>...</td>\n",
       "      <td>0</td>\n",
       "      <td>0</td>\n",
       "      <td>0</td>\n",
       "      <td>1</td>\n",
       "      <td>0</td>\n",
       "      <td>0</td>\n",
       "      <td>0</td>\n",
       "      <td>0</td>\n",
       "      <td>0</td>\n",
       "      <td>0</td>\n",
       "    </tr>\n",
       "  </tbody>\n",
       "</table>\n",
       "<p>5 rows × 80 columns</p>\n",
       "</div>"
      ],
      "text/plain": [
       "      Do Not Call  TotalVisits  Total Time Spent on Website  \\\n",
       "302             0            7                          250   \n",
       "6087            0            0                            0   \n",
       "1033            0            5                          470   \n",
       "7656            0            6                          352   \n",
       "3241            0            4                          973   \n",
       "\n",
       "      Page Views Per Visit  A free copy of Mastering The Interview  \\\n",
       "302                   2.33                                       0   \n",
       "6087                  0.00                                       0   \n",
       "1033                  5.00                                       0   \n",
       "7656                  6.00                                       1   \n",
       "3241                  1.33                                       1   \n",
       "\n",
       "      Lead Origin_Landing Page Submission  \\\n",
       "302                                     0   \n",
       "6087                                    0   \n",
       "1033                                    0   \n",
       "7656                                    1   \n",
       "3241                                    1   \n",
       "\n",
       "      Lead Origin_Lead Add Form and Others  Lead Source_Direct Traffic  \\\n",
       "302                                      0                           0   \n",
       "6087                                     0                           0   \n",
       "1033                                     0                           0   \n",
       "7656                                     0                           1   \n",
       "3241                                     0                           1   \n",
       "\n",
       "      Lead Source_Google  Lead Source_Live Chat  ...  \\\n",
       "302                    0                      0  ...   \n",
       "6087                   0                      0  ...   \n",
       "1033                   1                      0  ...   \n",
       "7656                   0                      0  ...   \n",
       "3241                   0                      0  ...   \n",
       "\n",
       "      Last Notable Activity_Olark Chat Conversation  \\\n",
       "302                                               0   \n",
       "6087                                              0   \n",
       "1033                                              0   \n",
       "7656                                              0   \n",
       "3241                                              0   \n",
       "\n",
       "      Last Notable Activity_Page Visited on Website  \\\n",
       "302                                               0   \n",
       "6087                                              0   \n",
       "1033                                              0   \n",
       "7656                                              0   \n",
       "3241                                              0   \n",
       "\n",
       "      Last Notable Activity_Resubscribed to emails  \\\n",
       "302                                              0   \n",
       "6087                                             0   \n",
       "1033                                             0   \n",
       "7656                                             0   \n",
       "3241                                             0   \n",
       "\n",
       "      Last Notable Activity_SMS Sent  Last Notable Activity_Unreachable  \\\n",
       "302                                0                                  0   \n",
       "6087                               0                                  0   \n",
       "1033                               0                                  0   \n",
       "7656                               1                                  0   \n",
       "3241                               1                                  0   \n",
       "\n",
       "      Last Notable Activity_Unsubscribed  \\\n",
       "302                                    0   \n",
       "6087                                   0   \n",
       "1033                                   0   \n",
       "7656                                   0   \n",
       "3241                                   0   \n",
       "\n",
       "      Last Notable Activity_View in browser link Clicked  \\\n",
       "302                                                   0    \n",
       "6087                                                  0    \n",
       "1033                                                  0    \n",
       "7656                                                  0    \n",
       "3241                                                  0    \n",
       "\n",
       "      specialization_Industry Specializations  \\\n",
       "302                                         0   \n",
       "6087                                        1   \n",
       "1033                                        0   \n",
       "7656                                        0   \n",
       "3241                                        0   \n",
       "\n",
       "      specialization_Management Specializations  \\\n",
       "302                                           1   \n",
       "6087                                          0   \n",
       "1033                                          0   \n",
       "7656                                          1   \n",
       "3241                                          0   \n",
       "\n",
       "      city_Non-Mumbai Maharashtra Cities  \n",
       "302                                    0  \n",
       "6087                                   0  \n",
       "1033                                   0  \n",
       "7656                                   0  \n",
       "3241                                   0  \n",
       "\n",
       "[5 rows x 80 columns]"
      ]
     },
     "execution_count": 110,
     "metadata": {},
     "output_type": "execute_result"
    }
   ],
   "source": [
    "X_train.head()"
   ]
  },
  {
   "cell_type": "code",
   "execution_count": 111,
   "id": "59f9592e",
   "metadata": {},
   "outputs": [
    {
     "data": {
      "text/html": [
       "<div>\n",
       "<style scoped>\n",
       "    .dataframe tbody tr th:only-of-type {\n",
       "        vertical-align: middle;\n",
       "    }\n",
       "\n",
       "    .dataframe tbody tr th {\n",
       "        vertical-align: top;\n",
       "    }\n",
       "\n",
       "    .dataframe thead th {\n",
       "        text-align: right;\n",
       "    }\n",
       "</style>\n",
       "<table border=\"1\" class=\"dataframe\">\n",
       "  <thead>\n",
       "    <tr style=\"text-align: right;\">\n",
       "      <th></th>\n",
       "      <th>Do Not Call</th>\n",
       "      <th>TotalVisits</th>\n",
       "      <th>Total Time Spent on Website</th>\n",
       "      <th>Page Views Per Visit</th>\n",
       "      <th>A free copy of Mastering The Interview</th>\n",
       "      <th>Lead Origin_Landing Page Submission</th>\n",
       "      <th>Lead Origin_Lead Add Form and Others</th>\n",
       "      <th>Lead Source_Direct Traffic</th>\n",
       "      <th>Lead Source_Google</th>\n",
       "      <th>Lead Source_Live Chat</th>\n",
       "      <th>...</th>\n",
       "      <th>Last Notable Activity_Olark Chat Conversation</th>\n",
       "      <th>Last Notable Activity_Page Visited on Website</th>\n",
       "      <th>Last Notable Activity_Resubscribed to emails</th>\n",
       "      <th>Last Notable Activity_SMS Sent</th>\n",
       "      <th>Last Notable Activity_Unreachable</th>\n",
       "      <th>Last Notable Activity_Unsubscribed</th>\n",
       "      <th>Last Notable Activity_View in browser link Clicked</th>\n",
       "      <th>specialization_Industry Specializations</th>\n",
       "      <th>specialization_Management Specializations</th>\n",
       "      <th>city_Non-Mumbai Maharashtra Cities</th>\n",
       "    </tr>\n",
       "  </thead>\n",
       "  <tbody>\n",
       "    <tr>\n",
       "      <th>6906</th>\n",
       "      <td>0</td>\n",
       "      <td>4</td>\n",
       "      <td>1530</td>\n",
       "      <td>2.0</td>\n",
       "      <td>0</td>\n",
       "      <td>1</td>\n",
       "      <td>0</td>\n",
       "      <td>1</td>\n",
       "      <td>0</td>\n",
       "      <td>0</td>\n",
       "      <td>...</td>\n",
       "      <td>0</td>\n",
       "      <td>0</td>\n",
       "      <td>0</td>\n",
       "      <td>1</td>\n",
       "      <td>0</td>\n",
       "      <td>0</td>\n",
       "      <td>0</td>\n",
       "      <td>0</td>\n",
       "      <td>1</td>\n",
       "      <td>0</td>\n",
       "    </tr>\n",
       "    <tr>\n",
       "      <th>1873</th>\n",
       "      <td>0</td>\n",
       "      <td>2</td>\n",
       "      <td>186</td>\n",
       "      <td>2.0</td>\n",
       "      <td>0</td>\n",
       "      <td>1</td>\n",
       "      <td>0</td>\n",
       "      <td>0</td>\n",
       "      <td>1</td>\n",
       "      <td>0</td>\n",
       "      <td>...</td>\n",
       "      <td>0</td>\n",
       "      <td>0</td>\n",
       "      <td>0</td>\n",
       "      <td>0</td>\n",
       "      <td>0</td>\n",
       "      <td>0</td>\n",
       "      <td>0</td>\n",
       "      <td>0</td>\n",
       "      <td>1</td>\n",
       "      <td>0</td>\n",
       "    </tr>\n",
       "    <tr>\n",
       "      <th>771</th>\n",
       "      <td>0</td>\n",
       "      <td>7</td>\n",
       "      <td>49</td>\n",
       "      <td>7.0</td>\n",
       "      <td>0</td>\n",
       "      <td>0</td>\n",
       "      <td>0</td>\n",
       "      <td>0</td>\n",
       "      <td>1</td>\n",
       "      <td>0</td>\n",
       "      <td>...</td>\n",
       "      <td>0</td>\n",
       "      <td>0</td>\n",
       "      <td>0</td>\n",
       "      <td>0</td>\n",
       "      <td>0</td>\n",
       "      <td>0</td>\n",
       "      <td>0</td>\n",
       "      <td>0</td>\n",
       "      <td>1</td>\n",
       "      <td>0</td>\n",
       "    </tr>\n",
       "    <tr>\n",
       "      <th>4495</th>\n",
       "      <td>0</td>\n",
       "      <td>4</td>\n",
       "      <td>144</td>\n",
       "      <td>4.0</td>\n",
       "      <td>1</td>\n",
       "      <td>1</td>\n",
       "      <td>0</td>\n",
       "      <td>0</td>\n",
       "      <td>1</td>\n",
       "      <td>0</td>\n",
       "      <td>...</td>\n",
       "      <td>0</td>\n",
       "      <td>0</td>\n",
       "      <td>0</td>\n",
       "      <td>0</td>\n",
       "      <td>0</td>\n",
       "      <td>0</td>\n",
       "      <td>0</td>\n",
       "      <td>0</td>\n",
       "      <td>1</td>\n",
       "      <td>0</td>\n",
       "    </tr>\n",
       "    <tr>\n",
       "      <th>9061</th>\n",
       "      <td>0</td>\n",
       "      <td>2</td>\n",
       "      <td>1788</td>\n",
       "      <td>2.0</td>\n",
       "      <td>1</td>\n",
       "      <td>1</td>\n",
       "      <td>0</td>\n",
       "      <td>1</td>\n",
       "      <td>0</td>\n",
       "      <td>0</td>\n",
       "      <td>...</td>\n",
       "      <td>0</td>\n",
       "      <td>0</td>\n",
       "      <td>0</td>\n",
       "      <td>0</td>\n",
       "      <td>0</td>\n",
       "      <td>0</td>\n",
       "      <td>0</td>\n",
       "      <td>0</td>\n",
       "      <td>1</td>\n",
       "      <td>0</td>\n",
       "    </tr>\n",
       "  </tbody>\n",
       "</table>\n",
       "<p>5 rows × 80 columns</p>\n",
       "</div>"
      ],
      "text/plain": [
       "      Do Not Call  TotalVisits  Total Time Spent on Website  \\\n",
       "6906            0            4                         1530   \n",
       "1873            0            2                          186   \n",
       "771             0            7                           49   \n",
       "4495            0            4                          144   \n",
       "9061            0            2                         1788   \n",
       "\n",
       "      Page Views Per Visit  A free copy of Mastering The Interview  \\\n",
       "6906                   2.0                                       0   \n",
       "1873                   2.0                                       0   \n",
       "771                    7.0                                       0   \n",
       "4495                   4.0                                       1   \n",
       "9061                   2.0                                       1   \n",
       "\n",
       "      Lead Origin_Landing Page Submission  \\\n",
       "6906                                    1   \n",
       "1873                                    1   \n",
       "771                                     0   \n",
       "4495                                    1   \n",
       "9061                                    1   \n",
       "\n",
       "      Lead Origin_Lead Add Form and Others  Lead Source_Direct Traffic  \\\n",
       "6906                                     0                           1   \n",
       "1873                                     0                           0   \n",
       "771                                      0                           0   \n",
       "4495                                     0                           0   \n",
       "9061                                     0                           1   \n",
       "\n",
       "      Lead Source_Google  Lead Source_Live Chat  ...  \\\n",
       "6906                   0                      0  ...   \n",
       "1873                   1                      0  ...   \n",
       "771                    1                      0  ...   \n",
       "4495                   1                      0  ...   \n",
       "9061                   0                      0  ...   \n",
       "\n",
       "      Last Notable Activity_Olark Chat Conversation  \\\n",
       "6906                                              0   \n",
       "1873                                              0   \n",
       "771                                               0   \n",
       "4495                                              0   \n",
       "9061                                              0   \n",
       "\n",
       "      Last Notable Activity_Page Visited on Website  \\\n",
       "6906                                              0   \n",
       "1873                                              0   \n",
       "771                                               0   \n",
       "4495                                              0   \n",
       "9061                                              0   \n",
       "\n",
       "      Last Notable Activity_Resubscribed to emails  \\\n",
       "6906                                             0   \n",
       "1873                                             0   \n",
       "771                                              0   \n",
       "4495                                             0   \n",
       "9061                                             0   \n",
       "\n",
       "      Last Notable Activity_SMS Sent  Last Notable Activity_Unreachable  \\\n",
       "6906                               1                                  0   \n",
       "1873                               0                                  0   \n",
       "771                                0                                  0   \n",
       "4495                               0                                  0   \n",
       "9061                               0                                  0   \n",
       "\n",
       "      Last Notable Activity_Unsubscribed  \\\n",
       "6906                                   0   \n",
       "1873                                   0   \n",
       "771                                    0   \n",
       "4495                                   0   \n",
       "9061                                   0   \n",
       "\n",
       "      Last Notable Activity_View in browser link Clicked  \\\n",
       "6906                                                  0    \n",
       "1873                                                  0    \n",
       "771                                                   0    \n",
       "4495                                                  0    \n",
       "9061                                                  0    \n",
       "\n",
       "      specialization_Industry Specializations  \\\n",
       "6906                                        0   \n",
       "1873                                        0   \n",
       "771                                         0   \n",
       "4495                                        0   \n",
       "9061                                        0   \n",
       "\n",
       "      specialization_Management Specializations  \\\n",
       "6906                                          1   \n",
       "1873                                          1   \n",
       "771                                           1   \n",
       "4495                                          1   \n",
       "9061                                          1   \n",
       "\n",
       "      city_Non-Mumbai Maharashtra Cities  \n",
       "6906                                   0  \n",
       "1873                                   0  \n",
       "771                                    0  \n",
       "4495                                   0  \n",
       "9061                                   0  \n",
       "\n",
       "[5 rows x 80 columns]"
      ]
     },
     "execution_count": 111,
     "metadata": {},
     "output_type": "execute_result"
    }
   ],
   "source": [
    "X_test.head()"
   ]
  },
  {
   "cell_type": "code",
   "execution_count": 112,
   "id": "4ea81812",
   "metadata": {},
   "outputs": [
    {
     "data": {
      "text/plain": [
       "302     0\n",
       "6087    0\n",
       "1033    0\n",
       "7656    0\n",
       "3241    1\n",
       "Name: Converted, dtype: int64"
      ]
     },
     "execution_count": 112,
     "metadata": {},
     "output_type": "execute_result"
    }
   ],
   "source": [
    "y_train.head()"
   ]
  },
  {
   "cell_type": "code",
   "execution_count": 113,
   "id": "5062d872",
   "metadata": {},
   "outputs": [
    {
     "data": {
      "text/plain": [
       "6906    1\n",
       "1873    0\n",
       "771     0\n",
       "4495    0\n",
       "9061    1\n",
       "Name: Converted, dtype: int64"
      ]
     },
     "execution_count": 113,
     "metadata": {},
     "output_type": "execute_result"
    }
   ],
   "source": [
    "y_test.head()"
   ]
  },
  {
   "cell_type": "code",
   "execution_count": 114,
   "id": "5782da36",
   "metadata": {},
   "outputs": [
    {
     "name": "stdout",
     "output_type": "stream",
     "text": [
      "<class 'pandas.core.frame.DataFrame'>\n",
      "Int64Index: 6363 entries, 302 to 5730\n",
      "Data columns (total 80 columns):\n",
      " #   Column                                                Non-Null Count  Dtype  \n",
      "---  ------                                                --------------  -----  \n",
      " 0   Do Not Call                                           6363 non-null   int64  \n",
      " 1   TotalVisits                                           6363 non-null   int32  \n",
      " 2   Total Time Spent on Website                           6363 non-null   int64  \n",
      " 3   Page Views Per Visit                                  6363 non-null   float64\n",
      " 4   A free copy of Mastering The Interview                6363 non-null   int64  \n",
      " 5   Lead Origin_Landing Page Submission                   6363 non-null   uint8  \n",
      " 6   Lead Origin_Lead Add Form and Others                  6363 non-null   uint8  \n",
      " 7   Lead Source_Direct Traffic                            6363 non-null   uint8  \n",
      " 8   Lead Source_Google                                    6363 non-null   uint8  \n",
      " 9   Lead Source_Live Chat                                 6363 non-null   uint8  \n",
      " 10  Lead Source_Olark Chat                                6363 non-null   uint8  \n",
      " 11  Lead Source_Organic Search                            6363 non-null   uint8  \n",
      " 12  Lead Source_Others                                    6363 non-null   uint8  \n",
      " 13  Lead Source_Reference                                 6363 non-null   uint8  \n",
      " 14  Lead Source_Referral Sites                            6363 non-null   uint8  \n",
      " 15  Lead Source_Social Media                              6363 non-null   uint8  \n",
      " 16  Lead Source_Welingak Website                          6363 non-null   uint8  \n",
      " 17  Last Activity_Email Bounced                           6363 non-null   uint8  \n",
      " 18  Last Activity_Email Link Clicked                      6363 non-null   uint8  \n",
      " 19  Last Activity_Email Opened                            6363 non-null   uint8  \n",
      " 20  Last Activity_Form Submitted on Website               6363 non-null   uint8  \n",
      " 21  Last Activity_Olark Chat Conversation                 6363 non-null   uint8  \n",
      " 22  Last Activity_Others                                  6363 non-null   uint8  \n",
      " 23  Last Activity_Page Visited on Website                 6363 non-null   uint8  \n",
      " 24  Last Activity_SMS Sent                                6363 non-null   uint8  \n",
      " 25  Specialization_Business Administration                6363 non-null   uint8  \n",
      " 26  Specialization_E-Business                             6363 non-null   uint8  \n",
      " 27  Specialization_E-COMMERCE                             6363 non-null   uint8  \n",
      " 28  Specialization_Finance Management                     6363 non-null   uint8  \n",
      " 29  Specialization_Healthcare Management                  6363 non-null   uint8  \n",
      " 30  Specialization_Hospitality Management                 6363 non-null   uint8  \n",
      " 31  Specialization_Human Resource Management              6363 non-null   uint8  \n",
      " 32  Specialization_IT Projects Management                 6363 non-null   uint8  \n",
      " 33  Specialization_International Business                 6363 non-null   uint8  \n",
      " 34  Specialization_Marketing Management                   6363 non-null   uint8  \n",
      " 35  Specialization_Media and Advertising                  6363 non-null   uint8  \n",
      " 36  Specialization_Not Specified                          6363 non-null   uint8  \n",
      " 37  Specialization_Operations Management                  6363 non-null   uint8  \n",
      " 38  Specialization_Retail Management                      6363 non-null   uint8  \n",
      " 39  Specialization_Rural and Agribusiness                 6363 non-null   uint8  \n",
      " 40  Specialization_Services Excellence                    6363 non-null   uint8  \n",
      " 41  Specialization_Supply Chain Management                6363 non-null   uint8  \n",
      " 42  Specialization_Travel and Tourism                     6363 non-null   uint8  \n",
      " 43  What is your current occupation_Housewife             6363 non-null   uint8  \n",
      " 44  What is your current occupation_Other                 6363 non-null   uint8  \n",
      " 45  What is your current occupation_Student               6363 non-null   uint8  \n",
      " 46  What is your current occupation_Unemployed            6363 non-null   uint8  \n",
      " 47  What is your current occupation_Working Professional  6363 non-null   uint8  \n",
      " 48  Tags_Closed by Horizzon                               6363 non-null   uint8  \n",
      " 49  Tags_Interested in other courses                      6363 non-null   uint8  \n",
      " 50  Tags_Lost to EINS                                     6363 non-null   uint8  \n",
      " 51  Tags_Not Specified                                    6363 non-null   uint8  \n",
      " 52  Tags_Other_Tags                                       6363 non-null   uint8  \n",
      " 53  Tags_Ringing                                          6363 non-null   uint8  \n",
      " 54  Tags_Will revert after reading the email              6363 non-null   uint8  \n",
      " 55  City_Non-Maharashtra Cities                           6363 non-null   uint8  \n",
      " 56  City_Non-Mumbai Maharashtra Cities                    6363 non-null   uint8  \n",
      " 57  City_Other Cities                                     6363 non-null   uint8  \n",
      " 58  City_Other Cities of Maharashtra                      6363 non-null   uint8  \n",
      " 59  City_Other Metro Cities                               6363 non-null   uint8  \n",
      " 60  City_Thane & Outskirts                                6363 non-null   uint8  \n",
      " 61  City_Tier II Cities                                   6363 non-null   uint8  \n",
      " 62  Last Notable Activity_Email Bounced                   6363 non-null   uint8  \n",
      " 63  Last Notable Activity_Email Link Clicked              6363 non-null   uint8  \n",
      " 64  Last Notable Activity_Email Marked Spam               6363 non-null   uint8  \n",
      " 65  Last Notable Activity_Email Opened                    6363 non-null   uint8  \n",
      " 66  Last Notable Activity_Email Received                  6363 non-null   uint8  \n",
      " 67  Last Notable Activity_Form Submitted on Website       6363 non-null   uint8  \n",
      " 68  Last Notable Activity_Had a Phone Conversation        6363 non-null   uint8  \n",
      " 69  Last Notable Activity_Modified                        6363 non-null   uint8  \n",
      " 70  Last Notable Activity_Olark Chat Conversation         6363 non-null   uint8  \n",
      " 71  Last Notable Activity_Page Visited on Website         6363 non-null   uint8  \n",
      " 72  Last Notable Activity_Resubscribed to emails          6363 non-null   uint8  \n",
      " 73  Last Notable Activity_SMS Sent                        6363 non-null   uint8  \n",
      " 74  Last Notable Activity_Unreachable                     6363 non-null   uint8  \n",
      " 75  Last Notable Activity_Unsubscribed                    6363 non-null   uint8  \n",
      " 76  Last Notable Activity_View in browser link Clicked    6363 non-null   uint8  \n",
      " 77  specialization_Industry Specializations               6363 non-null   uint8  \n",
      " 78  specialization_Management Specializations             6363 non-null   uint8  \n",
      " 79  city_Non-Mumbai Maharashtra Cities                    6363 non-null   uint8  \n",
      "dtypes: float64(1), int32(1), int64(3), uint8(75)\n",
      "memory usage: 739.5 KB\n"
     ]
    }
   ],
   "source": [
    "X_train.info()"
   ]
  },
  {
   "cell_type": "code",
   "execution_count": 115,
   "id": "e18c5890",
   "metadata": {},
   "outputs": [
    {
     "data": {
      "text/plain": [
       "(6363, 80)"
      ]
     },
     "execution_count": 115,
     "metadata": {},
     "output_type": "execute_result"
    }
   ],
   "source": [
    "X_train.shape"
   ]
  },
  {
   "cell_type": "code",
   "execution_count": 116,
   "id": "947fe063",
   "metadata": {},
   "outputs": [
    {
     "data": {
      "text/plain": [
       "(6363,)"
      ]
     },
     "execution_count": 116,
     "metadata": {},
     "output_type": "execute_result"
    }
   ],
   "source": [
    "y_train.shape"
   ]
  },
  {
   "cell_type": "code",
   "execution_count": 117,
   "id": "ed651c3b",
   "metadata": {},
   "outputs": [
    {
     "data": {
      "text/plain": [
       "(2727, 80)"
      ]
     },
     "execution_count": 117,
     "metadata": {},
     "output_type": "execute_result"
    }
   ],
   "source": [
    "X_test.shape"
   ]
  },
  {
   "cell_type": "code",
   "execution_count": 118,
   "id": "68af4cf0",
   "metadata": {},
   "outputs": [
    {
     "data": {
      "text/plain": [
       "(2727,)"
      ]
     },
     "execution_count": 118,
     "metadata": {},
     "output_type": "execute_result"
    }
   ],
   "source": [
    "y_test.shape"
   ]
  },
  {
   "cell_type": "markdown",
   "id": "9cc216f5",
   "metadata": {},
   "source": [
    "# Feature Scaling "
   ]
  },
  {
   "cell_type": "code",
   "execution_count": 119,
   "id": "ba655fbe",
   "metadata": {},
   "outputs": [
    {
     "data": {
      "text/html": [
       "<div>\n",
       "<style scoped>\n",
       "    .dataframe tbody tr th:only-of-type {\n",
       "        vertical-align: middle;\n",
       "    }\n",
       "\n",
       "    .dataframe tbody tr th {\n",
       "        vertical-align: top;\n",
       "    }\n",
       "\n",
       "    .dataframe thead th {\n",
       "        text-align: right;\n",
       "    }\n",
       "</style>\n",
       "<table border=\"1\" class=\"dataframe\">\n",
       "  <thead>\n",
       "    <tr style=\"text-align: right;\">\n",
       "      <th></th>\n",
       "      <th>Do Not Call</th>\n",
       "      <th>TotalVisits</th>\n",
       "      <th>Total Time Spent on Website</th>\n",
       "      <th>Page Views Per Visit</th>\n",
       "      <th>A free copy of Mastering The Interview</th>\n",
       "      <th>Lead Origin_Landing Page Submission</th>\n",
       "      <th>Lead Origin_Lead Add Form and Others</th>\n",
       "      <th>Lead Source_Direct Traffic</th>\n",
       "      <th>Lead Source_Google</th>\n",
       "      <th>Lead Source_Live Chat</th>\n",
       "      <th>...</th>\n",
       "      <th>Last Notable Activity_Olark Chat Conversation</th>\n",
       "      <th>Last Notable Activity_Page Visited on Website</th>\n",
       "      <th>Last Notable Activity_Resubscribed to emails</th>\n",
       "      <th>Last Notable Activity_SMS Sent</th>\n",
       "      <th>Last Notable Activity_Unreachable</th>\n",
       "      <th>Last Notable Activity_Unsubscribed</th>\n",
       "      <th>Last Notable Activity_View in browser link Clicked</th>\n",
       "      <th>specialization_Industry Specializations</th>\n",
       "      <th>specialization_Management Specializations</th>\n",
       "      <th>city_Non-Mumbai Maharashtra Cities</th>\n",
       "    </tr>\n",
       "  </thead>\n",
       "  <tbody>\n",
       "    <tr>\n",
       "      <th>302</th>\n",
       "      <td>0</td>\n",
       "      <td>1.336782</td>\n",
       "      <td>-0.428736</td>\n",
       "      <td>0.044021</td>\n",
       "      <td>0</td>\n",
       "      <td>0</td>\n",
       "      <td>0</td>\n",
       "      <td>0</td>\n",
       "      <td>0</td>\n",
       "      <td>0</td>\n",
       "      <td>...</td>\n",
       "      <td>0</td>\n",
       "      <td>0</td>\n",
       "      <td>0</td>\n",
       "      <td>0</td>\n",
       "      <td>0</td>\n",
       "      <td>0</td>\n",
       "      <td>0</td>\n",
       "      <td>0</td>\n",
       "      <td>1</td>\n",
       "      <td>0</td>\n",
       "    </tr>\n",
       "    <tr>\n",
       "      <th>6087</th>\n",
       "      <td>0</td>\n",
       "      <td>-1.094877</td>\n",
       "      <td>-0.887355</td>\n",
       "      <td>-1.206716</td>\n",
       "      <td>0</td>\n",
       "      <td>0</td>\n",
       "      <td>0</td>\n",
       "      <td>0</td>\n",
       "      <td>0</td>\n",
       "      <td>0</td>\n",
       "      <td>...</td>\n",
       "      <td>0</td>\n",
       "      <td>0</td>\n",
       "      <td>0</td>\n",
       "      <td>0</td>\n",
       "      <td>0</td>\n",
       "      <td>0</td>\n",
       "      <td>0</td>\n",
       "      <td>1</td>\n",
       "      <td>0</td>\n",
       "      <td>0</td>\n",
       "    </tr>\n",
       "    <tr>\n",
       "      <th>1033</th>\n",
       "      <td>0</td>\n",
       "      <td>0.642022</td>\n",
       "      <td>-0.025151</td>\n",
       "      <td>1.477269</td>\n",
       "      <td>0</td>\n",
       "      <td>0</td>\n",
       "      <td>0</td>\n",
       "      <td>0</td>\n",
       "      <td>1</td>\n",
       "      <td>0</td>\n",
       "      <td>...</td>\n",
       "      <td>0</td>\n",
       "      <td>0</td>\n",
       "      <td>0</td>\n",
       "      <td>0</td>\n",
       "      <td>0</td>\n",
       "      <td>0</td>\n",
       "      <td>0</td>\n",
       "      <td>0</td>\n",
       "      <td>0</td>\n",
       "      <td>0</td>\n",
       "    </tr>\n",
       "    <tr>\n",
       "      <th>7656</th>\n",
       "      <td>0</td>\n",
       "      <td>0.989402</td>\n",
       "      <td>-0.241619</td>\n",
       "      <td>2.014065</td>\n",
       "      <td>1</td>\n",
       "      <td>1</td>\n",
       "      <td>0</td>\n",
       "      <td>1</td>\n",
       "      <td>0</td>\n",
       "      <td>0</td>\n",
       "      <td>...</td>\n",
       "      <td>0</td>\n",
       "      <td>0</td>\n",
       "      <td>0</td>\n",
       "      <td>1</td>\n",
       "      <td>0</td>\n",
       "      <td>0</td>\n",
       "      <td>0</td>\n",
       "      <td>0</td>\n",
       "      <td>1</td>\n",
       "      <td>0</td>\n",
       "    </tr>\n",
       "    <tr>\n",
       "      <th>3241</th>\n",
       "      <td>0</td>\n",
       "      <td>0.294642</td>\n",
       "      <td>0.897591</td>\n",
       "      <td>-0.492776</td>\n",
       "      <td>1</td>\n",
       "      <td>1</td>\n",
       "      <td>0</td>\n",
       "      <td>1</td>\n",
       "      <td>0</td>\n",
       "      <td>0</td>\n",
       "      <td>...</td>\n",
       "      <td>0</td>\n",
       "      <td>0</td>\n",
       "      <td>0</td>\n",
       "      <td>1</td>\n",
       "      <td>0</td>\n",
       "      <td>0</td>\n",
       "      <td>0</td>\n",
       "      <td>0</td>\n",
       "      <td>0</td>\n",
       "      <td>0</td>\n",
       "    </tr>\n",
       "  </tbody>\n",
       "</table>\n",
       "<p>5 rows × 80 columns</p>\n",
       "</div>"
      ],
      "text/plain": [
       "      Do Not Call  TotalVisits  Total Time Spent on Website  \\\n",
       "302             0     1.336782                    -0.428736   \n",
       "6087            0    -1.094877                    -0.887355   \n",
       "1033            0     0.642022                    -0.025151   \n",
       "7656            0     0.989402                    -0.241619   \n",
       "3241            0     0.294642                     0.897591   \n",
       "\n",
       "      Page Views Per Visit  A free copy of Mastering The Interview  \\\n",
       "302               0.044021                                       0   \n",
       "6087             -1.206716                                       0   \n",
       "1033              1.477269                                       0   \n",
       "7656              2.014065                                       1   \n",
       "3241             -0.492776                                       1   \n",
       "\n",
       "      Lead Origin_Landing Page Submission  \\\n",
       "302                                     0   \n",
       "6087                                    0   \n",
       "1033                                    0   \n",
       "7656                                    1   \n",
       "3241                                    1   \n",
       "\n",
       "      Lead Origin_Lead Add Form and Others  Lead Source_Direct Traffic  \\\n",
       "302                                      0                           0   \n",
       "6087                                     0                           0   \n",
       "1033                                     0                           0   \n",
       "7656                                     0                           1   \n",
       "3241                                     0                           1   \n",
       "\n",
       "      Lead Source_Google  Lead Source_Live Chat  ...  \\\n",
       "302                    0                      0  ...   \n",
       "6087                   0                      0  ...   \n",
       "1033                   1                      0  ...   \n",
       "7656                   0                      0  ...   \n",
       "3241                   0                      0  ...   \n",
       "\n",
       "      Last Notable Activity_Olark Chat Conversation  \\\n",
       "302                                               0   \n",
       "6087                                              0   \n",
       "1033                                              0   \n",
       "7656                                              0   \n",
       "3241                                              0   \n",
       "\n",
       "      Last Notable Activity_Page Visited on Website  \\\n",
       "302                                               0   \n",
       "6087                                              0   \n",
       "1033                                              0   \n",
       "7656                                              0   \n",
       "3241                                              0   \n",
       "\n",
       "      Last Notable Activity_Resubscribed to emails  \\\n",
       "302                                              0   \n",
       "6087                                             0   \n",
       "1033                                             0   \n",
       "7656                                             0   \n",
       "3241                                             0   \n",
       "\n",
       "      Last Notable Activity_SMS Sent  Last Notable Activity_Unreachable  \\\n",
       "302                                0                                  0   \n",
       "6087                               0                                  0   \n",
       "1033                               0                                  0   \n",
       "7656                               1                                  0   \n",
       "3241                               1                                  0   \n",
       "\n",
       "      Last Notable Activity_Unsubscribed  \\\n",
       "302                                    0   \n",
       "6087                                   0   \n",
       "1033                                   0   \n",
       "7656                                   0   \n",
       "3241                                   0   \n",
       "\n",
       "      Last Notable Activity_View in browser link Clicked  \\\n",
       "302                                                   0    \n",
       "6087                                                  0    \n",
       "1033                                                  0    \n",
       "7656                                                  0    \n",
       "3241                                                  0    \n",
       "\n",
       "      specialization_Industry Specializations  \\\n",
       "302                                         0   \n",
       "6087                                        1   \n",
       "1033                                        0   \n",
       "7656                                        0   \n",
       "3241                                        0   \n",
       "\n",
       "      specialization_Management Specializations  \\\n",
       "302                                           1   \n",
       "6087                                          0   \n",
       "1033                                          0   \n",
       "7656                                          1   \n",
       "3241                                          0   \n",
       "\n",
       "      city_Non-Mumbai Maharashtra Cities  \n",
       "302                                    0  \n",
       "6087                                   0  \n",
       "1033                                   0  \n",
       "7656                                   0  \n",
       "3241                                   0  \n",
       "\n",
       "[5 rows x 80 columns]"
      ]
     },
     "execution_count": 119,
     "metadata": {},
     "output_type": "execute_result"
    }
   ],
   "source": [
    "scaler = StandardScaler()\n",
    "\n",
    "X_train[['TotalVisits','Total Time Spent on Website','Page Views Per Visit']] = scaler.fit_transform(\n",
    "    X_train[['TotalVisits','Total Time Spent on Website','Page Views Per Visit']])\n",
    "\n",
    "X_train.head()"
   ]
  },
  {
   "cell_type": "code",
   "execution_count": 120,
   "id": "55e327b3",
   "metadata": {},
   "outputs": [
    {
     "data": {
      "text/plain": [
       "38.448844884488445"
      ]
     },
     "execution_count": 120,
     "metadata": {},
     "output_type": "execute_result"
    }
   ],
   "source": [
    "# checking the conversion rate\n",
    "conversion =(sum(df['Converted'])/len(df['Converted'].index))*100\n",
    "conversion"
   ]
  },
  {
   "cell_type": "markdown",
   "id": "c07aff01",
   "metadata": {},
   "source": [
    "The conversion rate is 38.4%"
   ]
  },
  {
   "cell_type": "markdown",
   "id": "dd10c325",
   "metadata": {},
   "source": [
    "# Scaling of Data using Standard Scaler from SciKit Learn"
   ]
  },
  {
   "cell_type": "code",
   "execution_count": 121,
   "id": "c72cc967",
   "metadata": {},
   "outputs": [
    {
     "data": {
      "text/html": [
       "<div>\n",
       "<style scoped>\n",
       "    .dataframe tbody tr th:only-of-type {\n",
       "        vertical-align: middle;\n",
       "    }\n",
       "\n",
       "    .dataframe tbody tr th {\n",
       "        vertical-align: top;\n",
       "    }\n",
       "\n",
       "    .dataframe thead th {\n",
       "        text-align: right;\n",
       "    }\n",
       "</style>\n",
       "<table border=\"1\" class=\"dataframe\">\n",
       "  <thead>\n",
       "    <tr style=\"text-align: right;\">\n",
       "      <th></th>\n",
       "      <th>Do Not Call</th>\n",
       "      <th>TotalVisits</th>\n",
       "      <th>Total Time Spent on Website</th>\n",
       "      <th>Page Views Per Visit</th>\n",
       "      <th>A free copy of Mastering The Interview</th>\n",
       "      <th>Lead Origin_Landing Page Submission</th>\n",
       "      <th>Lead Origin_Lead Add Form and Others</th>\n",
       "      <th>Lead Source_Direct Traffic</th>\n",
       "      <th>Lead Source_Google</th>\n",
       "      <th>Lead Source_Live Chat</th>\n",
       "      <th>...</th>\n",
       "      <th>Last Notable Activity_Olark Chat Conversation</th>\n",
       "      <th>Last Notable Activity_Page Visited on Website</th>\n",
       "      <th>Last Notable Activity_Resubscribed to emails</th>\n",
       "      <th>Last Notable Activity_SMS Sent</th>\n",
       "      <th>Last Notable Activity_Unreachable</th>\n",
       "      <th>Last Notable Activity_Unsubscribed</th>\n",
       "      <th>Last Notable Activity_View in browser link Clicked</th>\n",
       "      <th>specialization_Industry Specializations</th>\n",
       "      <th>specialization_Management Specializations</th>\n",
       "      <th>city_Non-Mumbai Maharashtra Cities</th>\n",
       "    </tr>\n",
       "  </thead>\n",
       "  <tbody>\n",
       "    <tr>\n",
       "      <th>302</th>\n",
       "      <td>-0.017732</td>\n",
       "      <td>1.336782</td>\n",
       "      <td>-0.428736</td>\n",
       "      <td>0.044021</td>\n",
       "      <td>-0.659091</td>\n",
       "      <td>0</td>\n",
       "      <td>0</td>\n",
       "      <td>0</td>\n",
       "      <td>0</td>\n",
       "      <td>0</td>\n",
       "      <td>...</td>\n",
       "      <td>0</td>\n",
       "      <td>0</td>\n",
       "      <td>0</td>\n",
       "      <td>0</td>\n",
       "      <td>0</td>\n",
       "      <td>0</td>\n",
       "      <td>0</td>\n",
       "      <td>0</td>\n",
       "      <td>1</td>\n",
       "      <td>0</td>\n",
       "    </tr>\n",
       "    <tr>\n",
       "      <th>6087</th>\n",
       "      <td>-0.017732</td>\n",
       "      <td>-1.094877</td>\n",
       "      <td>-0.887355</td>\n",
       "      <td>-1.206716</td>\n",
       "      <td>-0.659091</td>\n",
       "      <td>0</td>\n",
       "      <td>0</td>\n",
       "      <td>0</td>\n",
       "      <td>0</td>\n",
       "      <td>0</td>\n",
       "      <td>...</td>\n",
       "      <td>0</td>\n",
       "      <td>0</td>\n",
       "      <td>0</td>\n",
       "      <td>0</td>\n",
       "      <td>0</td>\n",
       "      <td>0</td>\n",
       "      <td>0</td>\n",
       "      <td>1</td>\n",
       "      <td>0</td>\n",
       "      <td>0</td>\n",
       "    </tr>\n",
       "    <tr>\n",
       "      <th>1033</th>\n",
       "      <td>-0.017732</td>\n",
       "      <td>0.642022</td>\n",
       "      <td>-0.025151</td>\n",
       "      <td>1.477269</td>\n",
       "      <td>-0.659091</td>\n",
       "      <td>0</td>\n",
       "      <td>0</td>\n",
       "      <td>0</td>\n",
       "      <td>1</td>\n",
       "      <td>0</td>\n",
       "      <td>...</td>\n",
       "      <td>0</td>\n",
       "      <td>0</td>\n",
       "      <td>0</td>\n",
       "      <td>0</td>\n",
       "      <td>0</td>\n",
       "      <td>0</td>\n",
       "      <td>0</td>\n",
       "      <td>0</td>\n",
       "      <td>0</td>\n",
       "      <td>0</td>\n",
       "    </tr>\n",
       "    <tr>\n",
       "      <th>7656</th>\n",
       "      <td>-0.017732</td>\n",
       "      <td>0.989402</td>\n",
       "      <td>-0.241619</td>\n",
       "      <td>2.014065</td>\n",
       "      <td>1.517242</td>\n",
       "      <td>1</td>\n",
       "      <td>0</td>\n",
       "      <td>1</td>\n",
       "      <td>0</td>\n",
       "      <td>0</td>\n",
       "      <td>...</td>\n",
       "      <td>0</td>\n",
       "      <td>0</td>\n",
       "      <td>0</td>\n",
       "      <td>1</td>\n",
       "      <td>0</td>\n",
       "      <td>0</td>\n",
       "      <td>0</td>\n",
       "      <td>0</td>\n",
       "      <td>1</td>\n",
       "      <td>0</td>\n",
       "    </tr>\n",
       "    <tr>\n",
       "      <th>3241</th>\n",
       "      <td>-0.017732</td>\n",
       "      <td>0.294642</td>\n",
       "      <td>0.897591</td>\n",
       "      <td>-0.492776</td>\n",
       "      <td>1.517242</td>\n",
       "      <td>1</td>\n",
       "      <td>0</td>\n",
       "      <td>1</td>\n",
       "      <td>0</td>\n",
       "      <td>0</td>\n",
       "      <td>...</td>\n",
       "      <td>0</td>\n",
       "      <td>0</td>\n",
       "      <td>0</td>\n",
       "      <td>1</td>\n",
       "      <td>0</td>\n",
       "      <td>0</td>\n",
       "      <td>0</td>\n",
       "      <td>0</td>\n",
       "      <td>0</td>\n",
       "      <td>0</td>\n",
       "    </tr>\n",
       "  </tbody>\n",
       "</table>\n",
       "<p>5 rows × 80 columns</p>\n",
       "</div>"
      ],
      "text/plain": [
       "      Do Not Call  TotalVisits  Total Time Spent on Website  \\\n",
       "302     -0.017732     1.336782                    -0.428736   \n",
       "6087    -0.017732    -1.094877                    -0.887355   \n",
       "1033    -0.017732     0.642022                    -0.025151   \n",
       "7656    -0.017732     0.989402                    -0.241619   \n",
       "3241    -0.017732     0.294642                     0.897591   \n",
       "\n",
       "      Page Views Per Visit  A free copy of Mastering The Interview  \\\n",
       "302               0.044021                               -0.659091   \n",
       "6087             -1.206716                               -0.659091   \n",
       "1033              1.477269                               -0.659091   \n",
       "7656              2.014065                                1.517242   \n",
       "3241             -0.492776                                1.517242   \n",
       "\n",
       "      Lead Origin_Landing Page Submission  \\\n",
       "302                                     0   \n",
       "6087                                    0   \n",
       "1033                                    0   \n",
       "7656                                    1   \n",
       "3241                                    1   \n",
       "\n",
       "      Lead Origin_Lead Add Form and Others  Lead Source_Direct Traffic  \\\n",
       "302                                      0                           0   \n",
       "6087                                     0                           0   \n",
       "1033                                     0                           0   \n",
       "7656                                     0                           1   \n",
       "3241                                     0                           1   \n",
       "\n",
       "      Lead Source_Google  Lead Source_Live Chat  ...  \\\n",
       "302                    0                      0  ...   \n",
       "6087                   0                      0  ...   \n",
       "1033                   1                      0  ...   \n",
       "7656                   0                      0  ...   \n",
       "3241                   0                      0  ...   \n",
       "\n",
       "      Last Notable Activity_Olark Chat Conversation  \\\n",
       "302                                               0   \n",
       "6087                                              0   \n",
       "1033                                              0   \n",
       "7656                                              0   \n",
       "3241                                              0   \n",
       "\n",
       "      Last Notable Activity_Page Visited on Website  \\\n",
       "302                                               0   \n",
       "6087                                              0   \n",
       "1033                                              0   \n",
       "7656                                              0   \n",
       "3241                                              0   \n",
       "\n",
       "      Last Notable Activity_Resubscribed to emails  \\\n",
       "302                                              0   \n",
       "6087                                             0   \n",
       "1033                                             0   \n",
       "7656                                             0   \n",
       "3241                                             0   \n",
       "\n",
       "      Last Notable Activity_SMS Sent  Last Notable Activity_Unreachable  \\\n",
       "302                                0                                  0   \n",
       "6087                               0                                  0   \n",
       "1033                               0                                  0   \n",
       "7656                               1                                  0   \n",
       "3241                               1                                  0   \n",
       "\n",
       "      Last Notable Activity_Unsubscribed  \\\n",
       "302                                    0   \n",
       "6087                                   0   \n",
       "1033                                   0   \n",
       "7656                                   0   \n",
       "3241                                   0   \n",
       "\n",
       "      Last Notable Activity_View in browser link Clicked  \\\n",
       "302                                                   0    \n",
       "6087                                                  0    \n",
       "1033                                                  0    \n",
       "7656                                                  0    \n",
       "3241                                                  0    \n",
       "\n",
       "      specialization_Industry Specializations  \\\n",
       "302                                         0   \n",
       "6087                                        1   \n",
       "1033                                        0   \n",
       "7656                                        0   \n",
       "3241                                        0   \n",
       "\n",
       "      specialization_Management Specializations  \\\n",
       "302                                           1   \n",
       "6087                                          0   \n",
       "1033                                          0   \n",
       "7656                                          1   \n",
       "3241                                          0   \n",
       "\n",
       "      city_Non-Mumbai Maharashtra Cities  \n",
       "302                                    0  \n",
       "6087                                   0  \n",
       "1033                                   0  \n",
       "7656                                   0  \n",
       "3241                                   0  \n",
       "\n",
       "[5 rows x 80 columns]"
      ]
     },
     "execution_count": 121,
     "metadata": {},
     "output_type": "execute_result"
    }
   ],
   "source": [
    "#Importing Scaler\n",
    "from sklearn.preprocessing import StandardScaler\n",
    "scaler = StandardScaler()\n",
    "# Selecting numerical cols for scaling \n",
    "num_cols = X_train.select_dtypes(include=['float64', 'int64']).columns\n",
    "X_train[num_cols] = scaler.fit_transform(X_train[num_cols])\n",
    "X_train.head()"
   ]
  },
  {
   "cell_type": "markdown",
   "id": "f9a351cb",
   "metadata": {},
   "source": [
    "# Building Logistic Regression using Stats Model & RFE:"
   ]
  },
  {
   "cell_type": "code",
   "execution_count": 122,
   "id": "87321918",
   "metadata": {},
   "outputs": [],
   "source": [
    "# Importing Statsmodels\n",
    "import statsmodels.api as sm\n",
    "from sklearn.linear_model import LogisticRegression"
   ]
  },
  {
   "cell_type": "code",
   "execution_count": 123,
   "id": "af46d34f",
   "metadata": {},
   "outputs": [],
   "source": [
    "# initiate logistic regression\n",
    "logreg = LogisticRegression()\n",
    "\n",
    "from sklearn.feature_selection import RFE\n",
    "# running RFE with 15 variables \n",
    "rfe = RFE(logreg, n_features_to_select=15)\n",
    "rfe = rfe.fit(X_train, y_train)"
   ]
  },
  {
   "cell_type": "code",
   "execution_count": 124,
   "id": "9ded6585",
   "metadata": {},
   "outputs": [
    {
     "data": {
      "text/plain": [
       "array([False, False,  True, False, False, False,  True, False, False,\n",
       "       False,  True, False,  True, False, False, False,  True,  True,\n",
       "       False, False, False, False, False, False, False, False, False,\n",
       "       False, False, False, False, False, False, False, False, False,\n",
       "       False, False, False, False, False, False, False, False, False,\n",
       "       False, False, False,  True,  True,  True, False,  True,  True,\n",
       "        True, False, False, False, False, False, False, False, False,\n",
       "       False, False, False, False, False, False,  True,  True, False,\n",
       "       False,  True, False, False, False, False, False, False])"
      ]
     },
     "execution_count": 124,
     "metadata": {},
     "output_type": "execute_result"
    }
   ],
   "source": [
    "#printing the Output\n",
    "rfe.support_"
   ]
  },
  {
   "cell_type": "code",
   "execution_count": 125,
   "id": "0dd1919d",
   "metadata": {},
   "outputs": [
    {
     "data": {
      "text/plain": [
       "[('Do Not Call', False, 49),\n",
       " ('TotalVisits', False, 36),\n",
       " ('Total Time Spent on Website', True, 1),\n",
       " ('Page Views Per Visit', False, 37),\n",
       " ('A free copy of Mastering The Interview', False, 44),\n",
       " ('Lead Origin_Landing Page Submission', False, 9),\n",
       " ('Lead Origin_Lead Add Form and Others', True, 1),\n",
       " ('Lead Source_Direct Traffic', False, 16),\n",
       " ('Lead Source_Google', False, 18),\n",
       " ('Lead Source_Live Chat', False, 65),\n",
       " ('Lead Source_Olark Chat', True, 1),\n",
       " ('Lead Source_Organic Search', False, 15),\n",
       " ('Lead Source_Others', True, 1),\n",
       " ('Lead Source_Reference', False, 7),\n",
       " ('Lead Source_Referral Sites', False, 17),\n",
       " ('Lead Source_Social Media', False, 3),\n",
       " ('Lead Source_Welingak Website', True, 1),\n",
       " ('Last Activity_Email Bounced', True, 1),\n",
       " ('Last Activity_Email Link Clicked', False, 23),\n",
       " ('Last Activity_Email Opened', False, 20),\n",
       " ('Last Activity_Form Submitted on Website', False, 21),\n",
       " ('Last Activity_Olark Chat Conversation', False, 8),\n",
       " ('Last Activity_Others', False, 42),\n",
       " ('Last Activity_Page Visited on Website', False, 35),\n",
       " ('Last Activity_SMS Sent', False, 2),\n",
       " ('Specialization_Business Administration', False, 54),\n",
       " ('Specialization_E-Business', False, 53),\n",
       " ('Specialization_E-COMMERCE', False, 13),\n",
       " ('Specialization_Finance Management', False, 30),\n",
       " ('Specialization_Healthcare Management', False, 31),\n",
       " ('Specialization_Hospitality Management', False, 12),\n",
       " ('Specialization_Human Resource Management', False, 40),\n",
       " ('Specialization_IT Projects Management', False, 62),\n",
       " ('Specialization_International Business', False, 48),\n",
       " ('Specialization_Marketing Management', False, 52),\n",
       " ('Specialization_Media and Advertising', False, 43),\n",
       " ('Specialization_Not Specified', False, 39),\n",
       " ('Specialization_Operations Management', False, 47),\n",
       " ('Specialization_Retail Management', False, 28),\n",
       " ('Specialization_Rural and Agribusiness', False, 59),\n",
       " ('Specialization_Services Excellence', False, 32),\n",
       " ('Specialization_Supply Chain Management', False, 29),\n",
       " ('Specialization_Travel and Tourism', False, 11),\n",
       " ('What is your current occupation_Housewife', False, 26),\n",
       " ('What is your current occupation_Other', False, 41),\n",
       " ('What is your current occupation_Student', False, 14),\n",
       " ('What is your current occupation_Unemployed', False, 5),\n",
       " ('What is your current occupation_Working Professional', False, 46),\n",
       " ('Tags_Closed by Horizzon', True, 1),\n",
       " ('Tags_Interested in other courses', True, 1),\n",
       " ('Tags_Lost to EINS', True, 1),\n",
       " ('Tags_Not Specified', False, 6),\n",
       " ('Tags_Other_Tags', True, 1),\n",
       " ('Tags_Ringing', True, 1),\n",
       " ('Tags_Will revert after reading the email', True, 1),\n",
       " ('City_Non-Maharashtra Cities', False, 25),\n",
       " ('City_Non-Mumbai Maharashtra Cities', False, 51),\n",
       " ('City_Other Cities', False, 34),\n",
       " ('City_Other Cities of Maharashtra', False, 61),\n",
       " ('City_Other Metro Cities', False, 22),\n",
       " ('City_Thane & Outskirts', False, 57),\n",
       " ('City_Tier II Cities', False, 24),\n",
       " ('Last Notable Activity_Email Bounced', False, 38),\n",
       " ('Last Notable Activity_Email Link Clicked', False, 4),\n",
       " ('Last Notable Activity_Email Marked Spam', False, 64),\n",
       " ('Last Notable Activity_Email Opened', False, 60),\n",
       " ('Last Notable Activity_Email Received', False, 58),\n",
       " ('Last Notable Activity_Form Submitted on Website', False, 50),\n",
       " ('Last Notable Activity_Had a Phone Conversation', False, 19),\n",
       " ('Last Notable Activity_Modified', True, 1),\n",
       " ('Last Notable Activity_Olark Chat Conversation', True, 1),\n",
       " ('Last Notable Activity_Page Visited on Website', False, 45),\n",
       " ('Last Notable Activity_Resubscribed to emails', False, 56),\n",
       " ('Last Notable Activity_SMS Sent', True, 1),\n",
       " ('Last Notable Activity_Unreachable', False, 10),\n",
       " ('Last Notable Activity_Unsubscribed', False, 27),\n",
       " ('Last Notable Activity_View in browser link Clicked', False, 63),\n",
       " ('specialization_Industry Specializations', False, 55),\n",
       " ('specialization_Management Specializations', False, 33),\n",
       " ('city_Non-Mumbai Maharashtra Cities', False, 66)]"
      ]
     },
     "execution_count": 125,
     "metadata": {},
     "output_type": "execute_result"
    }
   ],
   "source": [
    "# Combining the data to understand the full RFE data\n",
    "Zipped_data = zip(X_train.columns, rfe.support_, rfe.ranking_)\n",
    "Zipped_data = list(Zipped_data)\n",
    "Zipped_data"
   ]
  },
  {
   "cell_type": "code",
   "execution_count": 126,
   "id": "29325f38",
   "metadata": {},
   "outputs": [
    {
     "data": {
      "text/plain": [
       "Index(['Total Time Spent on Website', 'Lead Origin_Lead Add Form and Others',\n",
       "       'Lead Source_Olark Chat', 'Lead Source_Others',\n",
       "       'Lead Source_Welingak Website', 'Last Activity_Email Bounced',\n",
       "       'Tags_Closed by Horizzon', 'Tags_Interested in other courses',\n",
       "       'Tags_Lost to EINS', 'Tags_Other_Tags', 'Tags_Ringing',\n",
       "       'Tags_Will revert after reading the email',\n",
       "       'Last Notable Activity_Modified',\n",
       "       'Last Notable Activity_Olark Chat Conversation',\n",
       "       'Last Notable Activity_SMS Sent'],\n",
       "      dtype='object')"
      ]
     },
     "execution_count": 126,
     "metadata": {},
     "output_type": "execute_result"
    }
   ],
   "source": [
    "# checking the rfe Supported columns\n",
    "rfe_supp_col = X_train.columns[rfe.support_]\n",
    "rfe_supp_col"
   ]
  },
  {
   "cell_type": "code",
   "execution_count": 127,
   "id": "85c13743",
   "metadata": {},
   "outputs": [
    {
     "data": {
      "text/plain": [
       "Index(['Do Not Call', 'TotalVisits', 'Page Views Per Visit',\n",
       "       'A free copy of Mastering The Interview',\n",
       "       'Lead Origin_Landing Page Submission', 'Lead Source_Direct Traffic',\n",
       "       'Lead Source_Google', 'Lead Source_Live Chat',\n",
       "       'Lead Source_Organic Search', 'Lead Source_Reference',\n",
       "       'Lead Source_Referral Sites', 'Lead Source_Social Media',\n",
       "       'Last Activity_Email Link Clicked', 'Last Activity_Email Opened',\n",
       "       'Last Activity_Form Submitted on Website',\n",
       "       'Last Activity_Olark Chat Conversation', 'Last Activity_Others',\n",
       "       'Last Activity_Page Visited on Website', 'Last Activity_SMS Sent',\n",
       "       'Specialization_Business Administration', 'Specialization_E-Business',\n",
       "       'Specialization_E-COMMERCE', 'Specialization_Finance Management',\n",
       "       'Specialization_Healthcare Management',\n",
       "       'Specialization_Hospitality Management',\n",
       "       'Specialization_Human Resource Management',\n",
       "       'Specialization_IT Projects Management',\n",
       "       'Specialization_International Business',\n",
       "       'Specialization_Marketing Management',\n",
       "       'Specialization_Media and Advertising', 'Specialization_Not Specified',\n",
       "       'Specialization_Operations Management',\n",
       "       'Specialization_Retail Management',\n",
       "       'Specialization_Rural and Agribusiness',\n",
       "       'Specialization_Services Excellence',\n",
       "       'Specialization_Supply Chain Management',\n",
       "       'Specialization_Travel and Tourism',\n",
       "       'What is your current occupation_Housewife',\n",
       "       'What is your current occupation_Other',\n",
       "       'What is your current occupation_Student',\n",
       "       'What is your current occupation_Unemployed',\n",
       "       'What is your current occupation_Working Professional',\n",
       "       'Tags_Not Specified', 'City_Non-Maharashtra Cities',\n",
       "       'City_Non-Mumbai Maharashtra Cities', 'City_Other Cities',\n",
       "       'City_Other Cities of Maharashtra', 'City_Other Metro Cities',\n",
       "       'City_Thane & Outskirts', 'City_Tier II Cities',\n",
       "       'Last Notable Activity_Email Bounced',\n",
       "       'Last Notable Activity_Email Link Clicked',\n",
       "       'Last Notable Activity_Email Marked Spam',\n",
       "       'Last Notable Activity_Email Opened',\n",
       "       'Last Notable Activity_Email Received',\n",
       "       'Last Notable Activity_Form Submitted on Website',\n",
       "       'Last Notable Activity_Had a Phone Conversation',\n",
       "       'Last Notable Activity_Page Visited on Website',\n",
       "       'Last Notable Activity_Resubscribed to emails',\n",
       "       'Last Notable Activity_Unreachable',\n",
       "       'Last Notable Activity_Unsubscribed',\n",
       "       'Last Notable Activity_View in browser link Clicked',\n",
       "       'specialization_Industry Specializations',\n",
       "       'specialization_Management Specializations',\n",
       "       'city_Non-Mumbai Maharashtra Cities'],\n",
       "      dtype='object')"
      ]
     },
     "execution_count": 127,
     "metadata": {},
     "output_type": "execute_result"
    }
   ],
   "source": [
    "# listing the columns which are not supported by RFE\n",
    "X_train.columns[~rfe.support_]"
   ]
  },
  {
   "cell_type": "markdown",
   "id": "ddb8572f",
   "metadata": {},
   "source": [
    "#  Now from here we can start building models for further analysis Assessing the model with statsmodel"
   ]
  },
  {
   "cell_type": "code",
   "execution_count": 128,
   "id": "245f0939",
   "metadata": {},
   "outputs": [
    {
     "data": {
      "text/html": [
       "<table class=\"simpletable\">\n",
       "<caption>Generalized Linear Model Regression Results</caption>\n",
       "<tr>\n",
       "  <th>Dep. Variable:</th>       <td>Converted</td>    <th>  No. Observations:  </th>  <td>  6363</td> \n",
       "</tr>\n",
       "<tr>\n",
       "  <th>Model:</th>                  <td>GLM</td>       <th>  Df Residuals:      </th>  <td>  6347</td> \n",
       "</tr>\n",
       "<tr>\n",
       "  <th>Model Family:</th>        <td>Binomial</td>     <th>  Df Model:          </th>  <td>    15</td> \n",
       "</tr>\n",
       "<tr>\n",
       "  <th>Link Function:</th>         <td>Logit</td>      <th>  Scale:             </th> <td>  1.0000</td>\n",
       "</tr>\n",
       "<tr>\n",
       "  <th>Method:</th>                <td>IRLS</td>       <th>  Log-Likelihood:    </th> <td> -1244.4</td>\n",
       "</tr>\n",
       "<tr>\n",
       "  <th>Date:</th>            <td>Mon, 22 May 2023</td> <th>  Deviance:          </th> <td>  2488.8</td>\n",
       "</tr>\n",
       "<tr>\n",
       "  <th>Time:</th>                <td>20:13:15</td>     <th>  Pearson chi2:      </th> <td>9.27e+03</td>\n",
       "</tr>\n",
       "<tr>\n",
       "  <th>No. Iterations:</th>          <td>8</td>        <th>  Pseudo R-squ. (CS):</th>  <td>0.6088</td> \n",
       "</tr>\n",
       "<tr>\n",
       "  <th>Covariance Type:</th>     <td>nonrobust</td>    <th>                     </th>     <td> </td>   \n",
       "</tr>\n",
       "</table>\n",
       "<table class=\"simpletable\">\n",
       "<tr>\n",
       "                        <td></td>                           <th>coef</th>     <th>std err</th>      <th>z</th>      <th>P>|z|</th>  <th>[0.025</th>    <th>0.975]</th>  \n",
       "</tr>\n",
       "<tr>\n",
       "  <th>const</th>                                         <td>   -1.6680</td> <td>    0.098</td> <td>  -17.042</td> <td> 0.000</td> <td>   -1.860</td> <td>   -1.476</td>\n",
       "</tr>\n",
       "<tr>\n",
       "  <th>Total Time Spent on Website</th>                   <td>    1.1063</td> <td>    0.061</td> <td>   18.079</td> <td> 0.000</td> <td>    0.986</td> <td>    1.226</td>\n",
       "</tr>\n",
       "<tr>\n",
       "  <th>Lead Origin_Lead Add Form and Others</th>          <td>    1.5018</td> <td>    0.330</td> <td>    4.545</td> <td> 0.000</td> <td>    0.854</td> <td>    2.149</td>\n",
       "</tr>\n",
       "<tr>\n",
       "  <th>Lead Source_Olark Chat</th>                        <td>    1.1810</td> <td>    0.146</td> <td>    8.091</td> <td> 0.000</td> <td>    0.895</td> <td>    1.467</td>\n",
       "</tr>\n",
       "<tr>\n",
       "  <th>Lead Source_Others</th>                            <td>    2.6816</td> <td>    1.023</td> <td>    2.621</td> <td> 0.009</td> <td>    0.677</td> <td>    4.687</td>\n",
       "</tr>\n",
       "<tr>\n",
       "  <th>Lead Source_Welingak Website</th>                  <td>    5.0898</td> <td>    1.075</td> <td>    4.735</td> <td> 0.000</td> <td>    2.983</td> <td>    7.196</td>\n",
       "</tr>\n",
       "<tr>\n",
       "  <th>Last Activity_Email Bounced</th>                   <td>   -2.0279</td> <td>    0.521</td> <td>   -3.889</td> <td> 0.000</td> <td>   -3.050</td> <td>   -1.006</td>\n",
       "</tr>\n",
       "<tr>\n",
       "  <th>Tags_Closed by Horizzon</th>                       <td>    6.5189</td> <td>    0.733</td> <td>    8.888</td> <td> 0.000</td> <td>    5.081</td> <td>    7.956</td>\n",
       "</tr>\n",
       "<tr>\n",
       "  <th>Tags_Interested in other courses</th>              <td>   -2.2603</td> <td>    0.414</td> <td>   -5.459</td> <td> 0.000</td> <td>   -3.072</td> <td>   -1.449</td>\n",
       "</tr>\n",
       "<tr>\n",
       "  <th>Tags_Lost to EINS</th>                             <td>    6.2185</td> <td>    0.732</td> <td>    8.496</td> <td> 0.000</td> <td>    4.784</td> <td>    7.653</td>\n",
       "</tr>\n",
       "<tr>\n",
       "  <th>Tags_Other_Tags</th>                               <td>   -2.7615</td> <td>    0.233</td> <td>  -11.854</td> <td> 0.000</td> <td>   -3.218</td> <td>   -2.305</td>\n",
       "</tr>\n",
       "<tr>\n",
       "  <th>Tags_Ringing</th>                                  <td>   -3.4384</td> <td>    0.239</td> <td>  -14.414</td> <td> 0.000</td> <td>   -3.906</td> <td>   -2.971</td>\n",
       "</tr>\n",
       "<tr>\n",
       "  <th>Tags_Will revert after reading the email</th>      <td>    4.3152</td> <td>    0.175</td> <td>   24.723</td> <td> 0.000</td> <td>    3.973</td> <td>    4.657</td>\n",
       "</tr>\n",
       "<tr>\n",
       "  <th>Last Notable Activity_Modified</th>                <td>   -1.0560</td> <td>    0.133</td> <td>   -7.935</td> <td> 0.000</td> <td>   -1.317</td> <td>   -0.795</td>\n",
       "</tr>\n",
       "<tr>\n",
       "  <th>Last Notable Activity_Olark Chat Conversation</th> <td>   -1.8180</td> <td>    0.429</td> <td>   -4.237</td> <td> 0.000</td> <td>   -2.659</td> <td>   -0.977</td>\n",
       "</tr>\n",
       "<tr>\n",
       "  <th>Last Notable Activity_SMS Sent</th>                <td>    2.1747</td> <td>    0.135</td> <td>   16.125</td> <td> 0.000</td> <td>    1.910</td> <td>    2.439</td>\n",
       "</tr>\n",
       "</table>"
      ],
      "text/plain": [
       "<class 'statsmodels.iolib.summary.Summary'>\n",
       "\"\"\"\n",
       "                 Generalized Linear Model Regression Results                  \n",
       "==============================================================================\n",
       "Dep. Variable:              Converted   No. Observations:                 6363\n",
       "Model:                            GLM   Df Residuals:                     6347\n",
       "Model Family:                Binomial   Df Model:                           15\n",
       "Link Function:                  Logit   Scale:                          1.0000\n",
       "Method:                          IRLS   Log-Likelihood:                -1244.4\n",
       "Date:                Mon, 22 May 2023   Deviance:                       2488.8\n",
       "Time:                        20:13:15   Pearson chi2:                 9.27e+03\n",
       "No. Iterations:                     8   Pseudo R-squ. (CS):             0.6088\n",
       "Covariance Type:            nonrobust                                         \n",
       "=================================================================================================================\n",
       "                                                    coef    std err          z      P>|z|      [0.025      0.975]\n",
       "-----------------------------------------------------------------------------------------------------------------\n",
       "const                                            -1.6680      0.098    -17.042      0.000      -1.860      -1.476\n",
       "Total Time Spent on Website                       1.1063      0.061     18.079      0.000       0.986       1.226\n",
       "Lead Origin_Lead Add Form and Others              1.5018      0.330      4.545      0.000       0.854       2.149\n",
       "Lead Source_Olark Chat                            1.1810      0.146      8.091      0.000       0.895       1.467\n",
       "Lead Source_Others                                2.6816      1.023      2.621      0.009       0.677       4.687\n",
       "Lead Source_Welingak Website                      5.0898      1.075      4.735      0.000       2.983       7.196\n",
       "Last Activity_Email Bounced                      -2.0279      0.521     -3.889      0.000      -3.050      -1.006\n",
       "Tags_Closed by Horizzon                           6.5189      0.733      8.888      0.000       5.081       7.956\n",
       "Tags_Interested in other courses                 -2.2603      0.414     -5.459      0.000      -3.072      -1.449\n",
       "Tags_Lost to EINS                                 6.2185      0.732      8.496      0.000       4.784       7.653\n",
       "Tags_Other_Tags                                  -2.7615      0.233    -11.854      0.000      -3.218      -2.305\n",
       "Tags_Ringing                                     -3.4384      0.239    -14.414      0.000      -3.906      -2.971\n",
       "Tags_Will revert after reading the email          4.3152      0.175     24.723      0.000       3.973       4.657\n",
       "Last Notable Activity_Modified                   -1.0560      0.133     -7.935      0.000      -1.317      -0.795\n",
       "Last Notable Activity_Olark Chat Conversation    -1.8180      0.429     -4.237      0.000      -2.659      -0.977\n",
       "Last Notable Activity_SMS Sent                    2.1747      0.135     16.125      0.000       1.910       2.439\n",
       "=================================================================================================================\n",
       "\"\"\""
      ]
     },
     "execution_count": 128,
     "metadata": {},
     "output_type": "execute_result"
    }
   ],
   "source": [
    "#Model building\n",
    "X_train_sm = sm.add_constant(X_train[rfe_supp_col])\n",
    "log_model1 = sm.GLM(y_train, X_train_sm, family = sm.families.Binomial())\n",
    "res = log_model1.fit()\n",
    "res.summary()"
   ]
  },
  {
   "cell_type": "markdown",
   "id": "2586574e",
   "metadata": {},
   "source": [
    "When evaluating the RFE , we should remove the variable that has highest P-value. So in this table, we can see that Lead Source_Others has the highest P-value and that should be dropped for further analysis."
   ]
  },
  {
   "cell_type": "code",
   "execution_count": 129,
   "id": "154dc6bc",
   "metadata": {},
   "outputs": [],
   "source": [
    "#dropping column with high p-value\n",
    "rfe_supp_col = rfe_supp_col.drop('Lead Source_Others',1)"
   ]
  },
  {
   "cell_type": "code",
   "execution_count": 130,
   "id": "b991c925",
   "metadata": {},
   "outputs": [
    {
     "data": {
      "text/html": [
       "<table class=\"simpletable\">\n",
       "<caption>Generalized Linear Model Regression Results</caption>\n",
       "<tr>\n",
       "  <th>Dep. Variable:</th>       <td>Converted</td>    <th>  No. Observations:  </th>  <td>  6363</td> \n",
       "</tr>\n",
       "<tr>\n",
       "  <th>Model:</th>                  <td>GLM</td>       <th>  Df Residuals:      </th>  <td>  6348</td> \n",
       "</tr>\n",
       "<tr>\n",
       "  <th>Model Family:</th>        <td>Binomial</td>     <th>  Df Model:          </th>  <td>    14</td> \n",
       "</tr>\n",
       "<tr>\n",
       "  <th>Link Function:</th>         <td>Logit</td>      <th>  Scale:             </th> <td>  1.0000</td>\n",
       "</tr>\n",
       "<tr>\n",
       "  <th>Method:</th>                <td>IRLS</td>       <th>  Log-Likelihood:    </th> <td> -1247.9</td>\n",
       "</tr>\n",
       "<tr>\n",
       "  <th>Date:</th>            <td>Mon, 22 May 2023</td> <th>  Deviance:          </th> <td>  2495.7</td>\n",
       "</tr>\n",
       "<tr>\n",
       "  <th>Time:</th>                <td>20:13:16</td>     <th>  Pearson chi2:      </th> <td>9.24e+03</td>\n",
       "</tr>\n",
       "<tr>\n",
       "  <th>No. Iterations:</th>          <td>8</td>        <th>  Pseudo R-squ. (CS):</th>  <td>0.6084</td> \n",
       "</tr>\n",
       "<tr>\n",
       "  <th>Covariance Type:</th>     <td>nonrobust</td>    <th>                     </th>     <td> </td>   \n",
       "</tr>\n",
       "</table>\n",
       "<table class=\"simpletable\">\n",
       "<tr>\n",
       "                        <td></td>                           <th>coef</th>     <th>std err</th>      <th>z</th>      <th>P>|z|</th>  <th>[0.025</th>    <th>0.975]</th>  \n",
       "</tr>\n",
       "<tr>\n",
       "  <th>const</th>                                         <td>   -1.6679</td> <td>    0.098</td> <td>  -17.064</td> <td> 0.000</td> <td>   -1.859</td> <td>   -1.476</td>\n",
       "</tr>\n",
       "<tr>\n",
       "  <th>Total Time Spent on Website</th>                   <td>    1.1057</td> <td>    0.061</td> <td>   18.165</td> <td> 0.000</td> <td>    0.986</td> <td>    1.225</td>\n",
       "</tr>\n",
       "<tr>\n",
       "  <th>Lead Origin_Lead Add Form and Others</th>          <td>    1.7632</td> <td>    0.320</td> <td>    5.505</td> <td> 0.000</td> <td>    1.135</td> <td>    2.391</td>\n",
       "</tr>\n",
       "<tr>\n",
       "  <th>Lead Source_Olark Chat</th>                        <td>    1.1771</td> <td>    0.146</td> <td>    8.087</td> <td> 0.000</td> <td>    0.892</td> <td>    1.462</td>\n",
       "</tr>\n",
       "<tr>\n",
       "  <th>Lead Source_Welingak Website</th>                  <td>    4.8084</td> <td>    1.069</td> <td>    4.496</td> <td> 0.000</td> <td>    2.712</td> <td>    6.904</td>\n",
       "</tr>\n",
       "<tr>\n",
       "  <th>Last Activity_Email Bounced</th>                   <td>   -1.9007</td> <td>    0.509</td> <td>   -3.734</td> <td> 0.000</td> <td>   -2.898</td> <td>   -0.903</td>\n",
       "</tr>\n",
       "<tr>\n",
       "  <th>Tags_Closed by Horizzon</th>                       <td>    6.4114</td> <td>    0.730</td> <td>    8.777</td> <td> 0.000</td> <td>    4.980</td> <td>    7.843</td>\n",
       "</tr>\n",
       "<tr>\n",
       "  <th>Tags_Interested in other courses</th>              <td>   -2.2723</td> <td>    0.414</td> <td>   -5.492</td> <td> 0.000</td> <td>   -3.083</td> <td>   -1.461</td>\n",
       "</tr>\n",
       "<tr>\n",
       "  <th>Tags_Lost to EINS</th>                             <td>    6.1887</td> <td>    0.731</td> <td>    8.471</td> <td> 0.000</td> <td>    4.757</td> <td>    7.621</td>\n",
       "</tr>\n",
       "<tr>\n",
       "  <th>Tags_Other_Tags</th>                               <td>   -2.7693</td> <td>    0.233</td> <td>  -11.892</td> <td> 0.000</td> <td>   -3.226</td> <td>   -2.313</td>\n",
       "</tr>\n",
       "<tr>\n",
       "  <th>Tags_Ringing</th>                                  <td>   -3.4330</td> <td>    0.237</td> <td>  -14.462</td> <td> 0.000</td> <td>   -3.898</td> <td>   -2.968</td>\n",
       "</tr>\n",
       "<tr>\n",
       "  <th>Tags_Will revert after reading the email</th>      <td>    4.2769</td> <td>    0.172</td> <td>   24.829</td> <td> 0.000</td> <td>    3.939</td> <td>    4.615</td>\n",
       "</tr>\n",
       "<tr>\n",
       "  <th>Last Notable Activity_Modified</th>                <td>   -1.0442</td> <td>    0.133</td> <td>   -7.872</td> <td> 0.000</td> <td>   -1.304</td> <td>   -0.784</td>\n",
       "</tr>\n",
       "<tr>\n",
       "  <th>Last Notable Activity_Olark Chat Conversation</th> <td>   -1.8081</td> <td>    0.428</td> <td>   -4.227</td> <td> 0.000</td> <td>   -2.647</td> <td>   -0.970</td>\n",
       "</tr>\n",
       "<tr>\n",
       "  <th>Last Notable Activity_SMS Sent</th>                <td>    2.1810</td> <td>    0.135</td> <td>   16.190</td> <td> 0.000</td> <td>    1.917</td> <td>    2.445</td>\n",
       "</tr>\n",
       "</table>"
      ],
      "text/plain": [
       "<class 'statsmodels.iolib.summary.Summary'>\n",
       "\"\"\"\n",
       "                 Generalized Linear Model Regression Results                  \n",
       "==============================================================================\n",
       "Dep. Variable:              Converted   No. Observations:                 6363\n",
       "Model:                            GLM   Df Residuals:                     6348\n",
       "Model Family:                Binomial   Df Model:                           14\n",
       "Link Function:                  Logit   Scale:                          1.0000\n",
       "Method:                          IRLS   Log-Likelihood:                -1247.9\n",
       "Date:                Mon, 22 May 2023   Deviance:                       2495.7\n",
       "Time:                        20:13:16   Pearson chi2:                 9.24e+03\n",
       "No. Iterations:                     8   Pseudo R-squ. (CS):             0.6084\n",
       "Covariance Type:            nonrobust                                         \n",
       "=================================================================================================================\n",
       "                                                    coef    std err          z      P>|z|      [0.025      0.975]\n",
       "-----------------------------------------------------------------------------------------------------------------\n",
       "const                                            -1.6679      0.098    -17.064      0.000      -1.859      -1.476\n",
       "Total Time Spent on Website                       1.1057      0.061     18.165      0.000       0.986       1.225\n",
       "Lead Origin_Lead Add Form and Others              1.7632      0.320      5.505      0.000       1.135       2.391\n",
       "Lead Source_Olark Chat                            1.1771      0.146      8.087      0.000       0.892       1.462\n",
       "Lead Source_Welingak Website                      4.8084      1.069      4.496      0.000       2.712       6.904\n",
       "Last Activity_Email Bounced                      -1.9007      0.509     -3.734      0.000      -2.898      -0.903\n",
       "Tags_Closed by Horizzon                           6.4114      0.730      8.777      0.000       4.980       7.843\n",
       "Tags_Interested in other courses                 -2.2723      0.414     -5.492      0.000      -3.083      -1.461\n",
       "Tags_Lost to EINS                                 6.1887      0.731      8.471      0.000       4.757       7.621\n",
       "Tags_Other_Tags                                  -2.7693      0.233    -11.892      0.000      -3.226      -2.313\n",
       "Tags_Ringing                                     -3.4330      0.237    -14.462      0.000      -3.898      -2.968\n",
       "Tags_Will revert after reading the email          4.2769      0.172     24.829      0.000       3.939       4.615\n",
       "Last Notable Activity_Modified                   -1.0442      0.133     -7.872      0.000      -1.304      -0.784\n",
       "Last Notable Activity_Olark Chat Conversation    -1.8081      0.428     -4.227      0.000      -2.647      -0.970\n",
       "Last Notable Activity_SMS Sent                    2.1810      0.135     16.190      0.000       1.917       2.445\n",
       "=================================================================================================================\n",
       "\"\"\""
      ]
     },
     "execution_count": 130,
     "metadata": {},
     "output_type": "execute_result"
    }
   ],
   "source": [
    "#model after removing the Lead Source Referral Sites\n",
    "X_train_sm = sm.add_constant(X_train[rfe_supp_col])\n",
    "log_model1 = sm.GLM(y_train, X_train_sm, family = sm.families.Binomial())\n",
    "res = log_model1.fit()\n",
    "res.summary()"
   ]
  },
  {
   "cell_type": "markdown",
   "id": "49ebb086",
   "metadata": {},
   "source": [
    "Now we can see that all the variables have their the p-values equal to 0. So we can check for the VIF Variance Inflation Factor for checking if there are any correlation between the variables"
   ]
  },
  {
   "cell_type": "markdown",
   "id": "6e42b4ed",
   "metadata": {},
   "source": [
    "# VIF Variance Inflation Factor for checking correlation between variables"
   ]
  },
  {
   "cell_type": "code",
   "execution_count": 131,
   "id": "c9ddd144",
   "metadata": {},
   "outputs": [],
   "source": [
    "#Importing VIF from Stasmodels\n",
    "from statsmodels.stats.outliers_influence import variance_inflation_factor"
   ]
  },
  {
   "cell_type": "code",
   "execution_count": 132,
   "id": "48e392d6",
   "metadata": {},
   "outputs": [
    {
     "data": {
      "text/html": [
       "<div>\n",
       "<style scoped>\n",
       "    .dataframe tbody tr th:only-of-type {\n",
       "        vertical-align: middle;\n",
       "    }\n",
       "\n",
       "    .dataframe tbody tr th {\n",
       "        vertical-align: top;\n",
       "    }\n",
       "\n",
       "    .dataframe thead th {\n",
       "        text-align: right;\n",
       "    }\n",
       "</style>\n",
       "<table border=\"1\" class=\"dataframe\">\n",
       "  <thead>\n",
       "    <tr style=\"text-align: right;\">\n",
       "      <th></th>\n",
       "      <th>Features</th>\n",
       "      <th>VIF</th>\n",
       "    </tr>\n",
       "  </thead>\n",
       "  <tbody>\n",
       "    <tr>\n",
       "      <th>1</th>\n",
       "      <td>Lead Origin_Lead Add Form and Others</td>\n",
       "      <td>1.76</td>\n",
       "    </tr>\n",
       "    <tr>\n",
       "      <th>11</th>\n",
       "      <td>Last Notable Activity_Modified</td>\n",
       "      <td>1.65</td>\n",
       "    </tr>\n",
       "    <tr>\n",
       "      <th>10</th>\n",
       "      <td>Tags_Will revert after reading the email</td>\n",
       "      <td>1.58</td>\n",
       "    </tr>\n",
       "    <tr>\n",
       "      <th>13</th>\n",
       "      <td>Last Notable Activity_SMS Sent</td>\n",
       "      <td>1.48</td>\n",
       "    </tr>\n",
       "    <tr>\n",
       "      <th>2</th>\n",
       "      <td>Lead Source_Olark Chat</td>\n",
       "      <td>1.44</td>\n",
       "    </tr>\n",
       "    <tr>\n",
       "      <th>0</th>\n",
       "      <td>Total Time Spent on Website</td>\n",
       "      <td>1.39</td>\n",
       "    </tr>\n",
       "    <tr>\n",
       "      <th>3</th>\n",
       "      <td>Lead Source_Welingak Website</td>\n",
       "      <td>1.28</td>\n",
       "    </tr>\n",
       "    <tr>\n",
       "      <th>5</th>\n",
       "      <td>Tags_Closed by Horizzon</td>\n",
       "      <td>1.27</td>\n",
       "    </tr>\n",
       "    <tr>\n",
       "      <th>8</th>\n",
       "      <td>Tags_Other_Tags</td>\n",
       "      <td>1.17</td>\n",
       "    </tr>\n",
       "    <tr>\n",
       "      <th>6</th>\n",
       "      <td>Tags_Interested in other courses</td>\n",
       "      <td>1.12</td>\n",
       "    </tr>\n",
       "    <tr>\n",
       "      <th>9</th>\n",
       "      <td>Tags_Ringing</td>\n",
       "      <td>1.12</td>\n",
       "    </tr>\n",
       "    <tr>\n",
       "      <th>4</th>\n",
       "      <td>Last Activity_Email Bounced</td>\n",
       "      <td>1.08</td>\n",
       "    </tr>\n",
       "    <tr>\n",
       "      <th>7</th>\n",
       "      <td>Tags_Lost to EINS</td>\n",
       "      <td>1.06</td>\n",
       "    </tr>\n",
       "    <tr>\n",
       "      <th>12</th>\n",
       "      <td>Last Notable Activity_Olark Chat Conversation</td>\n",
       "      <td>1.06</td>\n",
       "    </tr>\n",
       "  </tbody>\n",
       "</table>\n",
       "</div>"
      ],
      "text/plain": [
       "                                         Features   VIF\n",
       "1            Lead Origin_Lead Add Form and Others  1.76\n",
       "11                 Last Notable Activity_Modified  1.65\n",
       "10       Tags_Will revert after reading the email  1.58\n",
       "13                 Last Notable Activity_SMS Sent  1.48\n",
       "2                          Lead Source_Olark Chat  1.44\n",
       "0                     Total Time Spent on Website  1.39\n",
       "3                    Lead Source_Welingak Website  1.28\n",
       "5                         Tags_Closed by Horizzon  1.27\n",
       "8                                 Tags_Other_Tags  1.17\n",
       "6                Tags_Interested in other courses  1.12\n",
       "9                                    Tags_Ringing  1.12\n",
       "4                     Last Activity_Email Bounced  1.08\n",
       "7                               Tags_Lost to EINS  1.06\n",
       "12  Last Notable Activity_Olark Chat Conversation  1.06"
      ]
     },
     "execution_count": 132,
     "metadata": {},
     "output_type": "execute_result"
    }
   ],
   "source": [
    "# Create a dataframe that will contain the names of all the feature variables and their respective VIFs\n",
    "vif = pd.DataFrame()\n",
    "vif['Features'] = X_train[rfe_supp_col].columns\n",
    "vif['VIF'] = [variance_inflation_factor(X_train[rfe_supp_col].values, i) for i in range(X_train[rfe_supp_col].shape[1])]\n",
    "vif['VIF'] = round(vif['VIF'], 2)\n",
    "vif = vif.sort_values(by = \"VIF\", ascending = False)\n",
    "vif"
   ]
  },
  {
   "cell_type": "markdown",
   "id": "f1a182bb",
   "metadata": {},
   "source": [
    "Since all the values are below 5, we can go ahead to interpret Probabilities, Lead Score and Predictions on Train Data\n",
    "\n"
   ]
  },
  {
   "cell_type": "markdown",
   "id": "e370c07c",
   "metadata": {},
   "source": [
    "# Model Evaluation"
   ]
  },
  {
   "cell_type": "code",
   "execution_count": 133,
   "id": "57b9c33b",
   "metadata": {},
   "outputs": [
    {
     "data": {
      "text/plain": [
       "302     0.105083\n",
       "6087    0.011927\n",
       "1033    0.155025\n",
       "7656    0.039656\n",
       "3241    0.996929\n",
       "5738    0.070295\n",
       "7366    0.005039\n",
       "3680    0.031755\n",
       "4170    0.996643\n",
       "43      0.099860\n",
       "dtype: float64"
      ]
     },
     "execution_count": 133,
     "metadata": {},
     "output_type": "execute_result"
    }
   ],
   "source": [
    "# Predicting the 10 values of the train set\n",
    "y_train_pred = res.predict(X_train_sm)\n",
    "y_train_pred[:10]"
   ]
  },
  {
   "cell_type": "code",
   "execution_count": 134,
   "id": "37cc40e8",
   "metadata": {},
   "outputs": [
    {
     "data": {
      "text/plain": [
       "array([0.1050828 , 0.01192718, 0.155025  , 0.03965625, 0.99692862,\n",
       "       0.0702955 , 0.00503876, 0.03175524, 0.99664285, 0.09986014])"
      ]
     },
     "execution_count": 134,
     "metadata": {},
     "output_type": "execute_result"
    }
   ],
   "source": [
    "y_train_pred = y_train_pred.values.reshape(-1)\n",
    "y_train_pred[:10]"
   ]
  },
  {
   "cell_type": "code",
   "execution_count": 135,
   "id": "7870c74e",
   "metadata": {},
   "outputs": [
    {
     "data": {
      "text/html": [
       "<div>\n",
       "<style scoped>\n",
       "    .dataframe tbody tr th:only-of-type {\n",
       "        vertical-align: middle;\n",
       "    }\n",
       "\n",
       "    .dataframe tbody tr th {\n",
       "        vertical-align: top;\n",
       "    }\n",
       "\n",
       "    .dataframe thead th {\n",
       "        text-align: right;\n",
       "    }\n",
       "</style>\n",
       "<table border=\"1\" class=\"dataframe\">\n",
       "  <thead>\n",
       "    <tr style=\"text-align: right;\">\n",
       "      <th></th>\n",
       "      <th>Converted</th>\n",
       "      <th>Converted_prob</th>\n",
       "      <th>Prospect ID</th>\n",
       "    </tr>\n",
       "  </thead>\n",
       "  <tbody>\n",
       "    <tr>\n",
       "      <th>0</th>\n",
       "      <td>0</td>\n",
       "      <td>0.105083</td>\n",
       "      <td>302</td>\n",
       "    </tr>\n",
       "    <tr>\n",
       "      <th>1</th>\n",
       "      <td>0</td>\n",
       "      <td>0.011927</td>\n",
       "      <td>6087</td>\n",
       "    </tr>\n",
       "    <tr>\n",
       "      <th>2</th>\n",
       "      <td>0</td>\n",
       "      <td>0.155025</td>\n",
       "      <td>1033</td>\n",
       "    </tr>\n",
       "    <tr>\n",
       "      <th>3</th>\n",
       "      <td>0</td>\n",
       "      <td>0.039656</td>\n",
       "      <td>7656</td>\n",
       "    </tr>\n",
       "    <tr>\n",
       "      <th>4</th>\n",
       "      <td>1</td>\n",
       "      <td>0.996929</td>\n",
       "      <td>3241</td>\n",
       "    </tr>\n",
       "  </tbody>\n",
       "</table>\n",
       "</div>"
      ],
      "text/plain": [
       "   Converted  Converted_prob  Prospect ID\n",
       "0          0        0.105083          302\n",
       "1          0        0.011927         6087\n",
       "2          0        0.155025         1033\n",
       "3          0        0.039656         7656\n",
       "4          1        0.996929         3241"
      ]
     },
     "execution_count": 135,
     "metadata": {},
     "output_type": "execute_result"
    }
   ],
   "source": [
    "#Converting the predicted variable into a dataframe\n",
    "y_train_pred_final = pd.DataFrame({'Converted':y_train.values, 'Converted_prob':y_train_pred})\n",
    "#Setting Prospect ID as Index\n",
    "y_train_pred_final['Prospect ID'] = y_train.index\n",
    "\n",
    "y_train_pred_final.head()"
   ]
  },
  {
   "cell_type": "code",
   "execution_count": 136,
   "id": "c34635d5",
   "metadata": {},
   "outputs": [
    {
     "data": {
      "text/html": [
       "<div>\n",
       "<style scoped>\n",
       "    .dataframe tbody tr th:only-of-type {\n",
       "        vertical-align: middle;\n",
       "    }\n",
       "\n",
       "    .dataframe tbody tr th {\n",
       "        vertical-align: top;\n",
       "    }\n",
       "\n",
       "    .dataframe thead th {\n",
       "        text-align: right;\n",
       "    }\n",
       "</style>\n",
       "<table border=\"1\" class=\"dataframe\">\n",
       "  <thead>\n",
       "    <tr style=\"text-align: right;\">\n",
       "      <th></th>\n",
       "      <th>Converted</th>\n",
       "      <th>Converted_prob</th>\n",
       "      <th>Prospect ID</th>\n",
       "      <th>Predicted</th>\n",
       "    </tr>\n",
       "  </thead>\n",
       "  <tbody>\n",
       "    <tr>\n",
       "      <th>0</th>\n",
       "      <td>0</td>\n",
       "      <td>0.105083</td>\n",
       "      <td>302</td>\n",
       "      <td>0</td>\n",
       "    </tr>\n",
       "    <tr>\n",
       "      <th>1</th>\n",
       "      <td>0</td>\n",
       "      <td>0.011927</td>\n",
       "      <td>6087</td>\n",
       "      <td>0</td>\n",
       "    </tr>\n",
       "    <tr>\n",
       "      <th>2</th>\n",
       "      <td>0</td>\n",
       "      <td>0.155025</td>\n",
       "      <td>1033</td>\n",
       "      <td>0</td>\n",
       "    </tr>\n",
       "    <tr>\n",
       "      <th>3</th>\n",
       "      <td>0</td>\n",
       "      <td>0.039656</td>\n",
       "      <td>7656</td>\n",
       "      <td>0</td>\n",
       "    </tr>\n",
       "    <tr>\n",
       "      <th>4</th>\n",
       "      <td>1</td>\n",
       "      <td>0.996929</td>\n",
       "      <td>3241</td>\n",
       "      <td>1</td>\n",
       "    </tr>\n",
       "  </tbody>\n",
       "</table>\n",
       "</div>"
      ],
      "text/plain": [
       "   Converted  Converted_prob  Prospect ID  Predicted\n",
       "0          0        0.105083          302          0\n",
       "1          0        0.011927         6087          0\n",
       "2          0        0.155025         1033          0\n",
       "3          0        0.039656         7656          0\n",
       "4          1        0.996929         3241          1"
      ]
     },
     "execution_count": 136,
     "metadata": {},
     "output_type": "execute_result"
    }
   ],
   "source": [
    "# Predicting the output and to see how the model performs\n",
    "y_train_pred_final['Predicted'] = y_train_pred_final.Converted_prob.map(lambda x: 1 if x > 0.5 else 0)\n",
    "# check the head\n",
    "y_train_pred_final.head()"
   ]
  },
  {
   "cell_type": "code",
   "execution_count": 137,
   "id": "593e6e83",
   "metadata": {},
   "outputs": [
    {
     "name": "stdout",
     "output_type": "stream",
     "text": [
      "[[3769  166]\n",
      " [ 294 2134]]\n"
     ]
    }
   ],
   "source": [
    "# Now we can check how the model performs using the Confusion Matrix\n",
    "\n",
    "# Importing metrics from SKlearn\n",
    "from sklearn import metrics\n",
    "confusion_matrix = metrics.confusion_matrix(y_train_pred_final.Converted, y_train_pred_final.Predicted)\n",
    "print(confusion_matrix)"
   ]
  },
  {
   "cell_type": "code",
   "execution_count": 138,
   "id": "b140601d",
   "metadata": {},
   "outputs": [
    {
     "name": "stdout",
     "output_type": "stream",
     "text": [
      "0.9277070564199277\n"
     ]
    }
   ],
   "source": [
    "# Printing the overall accuracy of the model\n",
    "print(metrics.accuracy_score(y_train_pred_final.Converted, y_train_pred_final.Predicted))"
   ]
  },
  {
   "cell_type": "code",
   "execution_count": 139,
   "id": "959f828a",
   "metadata": {},
   "outputs": [],
   "source": [
    "TP = confusion_matrix[1,1] #True positive\n",
    "TN = confusion_matrix[0,0] #True negetive\n",
    "FP = confusion_matrix[0,1] #False positive\n",
    "FN = confusion_matrix[1,0] #False negative"
   ]
  },
  {
   "cell_type": "code",
   "execution_count": 140,
   "id": "a2a0739e",
   "metadata": {},
   "outputs": [
    {
     "name": "stdout",
     "output_type": "stream",
     "text": [
      "True positive is  2134\n",
      "True negetive is  3769\n",
      "False positive is  166\n",
      "False negetive is  294\n"
     ]
    }
   ],
   "source": [
    "print (\"True positive is \", TP)\n",
    "print (\"True negetive is \", TN)\n",
    "print (\"False positive is \", FP)\n",
    "print (\"False negetive is \", FN)"
   ]
  },
  {
   "cell_type": "markdown",
   "id": "ed50da13",
   "metadata": {},
   "source": [
    "# Here we can see that we have got a very good predition with the model\n"
   ]
  },
  {
   "cell_type": "markdown",
   "id": "ebf4e9a7",
   "metadata": {},
   "source": [
    "# Now we need to Check on the sensitivity and Specificity"
   ]
  },
  {
   "cell_type": "code",
   "execution_count": 141,
   "id": "c90592a3",
   "metadata": {},
   "outputs": [
    {
     "name": "stdout",
     "output_type": "stream",
     "text": [
      "Sensitivity is  87.89 %\n"
     ]
    }
   ],
   "source": [
    "# Sensitivity\n",
    "Sensitivity = round(TP / float(TP+FN)*100,2)\n",
    "print('Sensitivity is ' ,Sensitivity,'%')"
   ]
  },
  {
   "cell_type": "code",
   "execution_count": 142,
   "id": "eae6b432",
   "metadata": {},
   "outputs": [
    {
     "name": "stdout",
     "output_type": "stream",
     "text": [
      "Sensitivity is  95.78 %\n"
     ]
    }
   ],
   "source": [
    "# Specificity\n",
    "Specificity = round(TN / float(TN+FP)*100,2)\n",
    "print('Sensitivity is ' ,Specificity,'%')"
   ]
  },
  {
   "cell_type": "markdown",
   "id": "8fc0f076",
   "metadata": {},
   "source": [
    "# Calculate False Postive Rate\n",
    "#In technical terms, the false positive rate is defined as the probability of falsely rejecting the null hypothesis.\n",
    "print(FP/ float(TN+FP))"
   ]
  },
  {
   "cell_type": "code",
   "execution_count": 143,
   "id": "119ab520",
   "metadata": {},
   "outputs": [
    {
     "name": "stdout",
     "output_type": "stream",
     "text": [
      "0.9278260869565217\n"
     ]
    }
   ],
   "source": [
    "# positive predictive value \n",
    "print(TP/ float(TP+FP))"
   ]
  },
  {
   "cell_type": "code",
   "execution_count": 144,
   "id": "7226eff7",
   "metadata": {},
   "outputs": [
    {
     "name": "stdout",
     "output_type": "stream",
     "text": [
      "0.9276396751169087\n"
     ]
    }
   ],
   "source": [
    "# Negative predictive value\n",
    "print(TN/ float(TN+FN))"
   ]
  },
  {
   "cell_type": "markdown",
   "id": "afd70255",
   "metadata": {},
   "source": [
    "# From the above Analysis, it clear that we have a very good predictive model\n"
   ]
  },
  {
   "cell_type": "markdown",
   "id": "ebe8026b",
   "metadata": {},
   "source": [
    "# PLOTTING ROC CURVE"
   ]
  },
  {
   "cell_type": "code",
   "execution_count": 145,
   "id": "ef638ce6",
   "metadata": {},
   "outputs": [],
   "source": [
    "def draw_roc( actual, probs ):\n",
    "    fpr, tpr, thresholds = metrics.roc_curve( actual, probs,\n",
    "                                              drop_intermediate = False )\n",
    "    auc_score = metrics.roc_auc_score( actual, probs )\n",
    "    plt.figure(figsize=(5, 5))\n",
    "    plt.plot( fpr, tpr, label='ROC curve (area = %0.2f)' % auc_score )\n",
    "    plt.plot([0, 1], [0, 1], 'k--')\n",
    "    plt.xlim([0.0, 1.0])\n",
    "    plt.ylim([0.0, 1.05])\n",
    "    plt.xlabel('False Positive Rate or [1 - True Negative Rate]')\n",
    "    plt.ylabel('True Positive Rate')\n",
    "    plt.title('Receiver operating characteristic')\n",
    "    plt.legend(loc=\"lower right\")\n",
    "    plt.show()\n",
    "\n",
    "    return None"
   ]
  },
  {
   "cell_type": "code",
   "execution_count": 146,
   "id": "9c99957f",
   "metadata": {},
   "outputs": [],
   "source": [
    "fpr, tpr, thresholds = metrics.roc_curve(y_train_pred_final.Converted, y_train_pred_final.Converted_prob, drop_intermediate = False)"
   ]
  },
  {
   "cell_type": "code",
   "execution_count": 147,
   "id": "78805c1d",
   "metadata": {},
   "outputs": [
    {
     "data": {
      "text/plain": [
       "<Figure size 1500x1500 with 0 Axes>"
      ]
     },
     "metadata": {},
     "output_type": "display_data"
    },
    {
     "data": {
      "image/png": "[encoded data removed]",
      "text/plain": [
       "<Figure size 500x500 with 1 Axes>"
      ]
     },
     "metadata": {},
     "output_type": "display_data"
    }
   ],
   "source": [
    "plt.figure(figsize=(15,15))\n",
    "draw_roc(y_train_pred_final.Converted, y_train_pred_final.Converted_prob)\n",
    "plt.show();"
   ]
  },
  {
   "cell_type": "markdown",
   "id": "b3703820",
   "metadata": {},
   "source": [
    "Generally, the ROC Curve should be a value close to 1 to be a good model. Here we are getting a good value of 0.97 indicating a good predictive model."
   ]
  },
  {
   "cell_type": "markdown",
   "id": "37c5277e",
   "metadata": {},
   "source": [
    "# Finding Optimal Cutoff Point"
   ]
  },
  {
   "cell_type": "code",
   "execution_count": 148,
   "id": "f6474b06",
   "metadata": {},
   "outputs": [
    {
     "data": {
      "text/html": [
       "<div>\n",
       "<style scoped>\n",
       "    .dataframe tbody tr th:only-of-type {\n",
       "        vertical-align: middle;\n",
       "    }\n",
       "\n",
       "    .dataframe tbody tr th {\n",
       "        vertical-align: top;\n",
       "    }\n",
       "\n",
       "    .dataframe thead th {\n",
       "        text-align: right;\n",
       "    }\n",
       "</style>\n",
       "<table border=\"1\" class=\"dataframe\">\n",
       "  <thead>\n",
       "    <tr style=\"text-align: right;\">\n",
       "      <th></th>\n",
       "      <th>Converted</th>\n",
       "      <th>Converted_prob</th>\n",
       "      <th>Prospect ID</th>\n",
       "      <th>Predicted</th>\n",
       "      <th>0.0</th>\n",
       "      <th>0.1</th>\n",
       "      <th>0.2</th>\n",
       "      <th>0.3</th>\n",
       "      <th>0.4</th>\n",
       "      <th>0.5</th>\n",
       "      <th>0.6</th>\n",
       "      <th>0.7</th>\n",
       "      <th>0.8</th>\n",
       "      <th>0.9</th>\n",
       "    </tr>\n",
       "  </thead>\n",
       "  <tbody>\n",
       "    <tr>\n",
       "      <th>0</th>\n",
       "      <td>0</td>\n",
       "      <td>0.105083</td>\n",
       "      <td>302</td>\n",
       "      <td>0</td>\n",
       "      <td>1</td>\n",
       "      <td>1</td>\n",
       "      <td>0</td>\n",
       "      <td>0</td>\n",
       "      <td>0</td>\n",
       "      <td>0</td>\n",
       "      <td>0</td>\n",
       "      <td>0</td>\n",
       "      <td>0</td>\n",
       "      <td>0</td>\n",
       "    </tr>\n",
       "    <tr>\n",
       "      <th>1</th>\n",
       "      <td>0</td>\n",
       "      <td>0.011927</td>\n",
       "      <td>6087</td>\n",
       "      <td>0</td>\n",
       "      <td>1</td>\n",
       "      <td>0</td>\n",
       "      <td>0</td>\n",
       "      <td>0</td>\n",
       "      <td>0</td>\n",
       "      <td>0</td>\n",
       "      <td>0</td>\n",
       "      <td>0</td>\n",
       "      <td>0</td>\n",
       "      <td>0</td>\n",
       "    </tr>\n",
       "    <tr>\n",
       "      <th>2</th>\n",
       "      <td>0</td>\n",
       "      <td>0.155025</td>\n",
       "      <td>1033</td>\n",
       "      <td>0</td>\n",
       "      <td>1</td>\n",
       "      <td>1</td>\n",
       "      <td>0</td>\n",
       "      <td>0</td>\n",
       "      <td>0</td>\n",
       "      <td>0</td>\n",
       "      <td>0</td>\n",
       "      <td>0</td>\n",
       "      <td>0</td>\n",
       "      <td>0</td>\n",
       "    </tr>\n",
       "    <tr>\n",
       "      <th>3</th>\n",
       "      <td>0</td>\n",
       "      <td>0.039656</td>\n",
       "      <td>7656</td>\n",
       "      <td>0</td>\n",
       "      <td>1</td>\n",
       "      <td>0</td>\n",
       "      <td>0</td>\n",
       "      <td>0</td>\n",
       "      <td>0</td>\n",
       "      <td>0</td>\n",
       "      <td>0</td>\n",
       "      <td>0</td>\n",
       "      <td>0</td>\n",
       "      <td>0</td>\n",
       "    </tr>\n",
       "    <tr>\n",
       "      <th>4</th>\n",
       "      <td>1</td>\n",
       "      <td>0.996929</td>\n",
       "      <td>3241</td>\n",
       "      <td>1</td>\n",
       "      <td>1</td>\n",
       "      <td>1</td>\n",
       "      <td>1</td>\n",
       "      <td>1</td>\n",
       "      <td>1</td>\n",
       "      <td>1</td>\n",
       "      <td>1</td>\n",
       "      <td>1</td>\n",
       "      <td>1</td>\n",
       "      <td>1</td>\n",
       "    </tr>\n",
       "  </tbody>\n",
       "</table>\n",
       "</div>"
      ],
      "text/plain": [
       "   Converted  Converted_prob  Prospect ID  Predicted  0.0  0.1  0.2  0.3  0.4  \\\n",
       "0          0        0.105083          302          0    1    1    0    0    0   \n",
       "1          0        0.011927         6087          0    1    0    0    0    0   \n",
       "2          0        0.155025         1033          0    1    1    0    0    0   \n",
       "3          0        0.039656         7656          0    1    0    0    0    0   \n",
       "4          1        0.996929         3241          1    1    1    1    1    1   \n",
       "\n",
       "   0.5  0.6  0.7  0.8  0.9  \n",
       "0    0    0    0    0    0  \n",
       "1    0    0    0    0    0  \n",
       "2    0    0    0    0    0  \n",
       "3    0    0    0    0    0  \n",
       "4    1    1    1    1    1  "
      ]
     },
     "execution_count": 148,
     "metadata": {},
     "output_type": "execute_result"
    }
   ],
   "source": [
    "# Let's create columns with different probability cutoffs \n",
    "numbers = [float(x)/10 for x in range(10)]\n",
    "for i in numbers:\n",
    "    y_train_pred_final[i]= y_train_pred_final.Converted_prob.map(lambda x: 1 if x > i else 0)\n",
    "y_train_pred_final.head()"
   ]
  },
  {
   "cell_type": "code",
   "execution_count": 149,
   "id": "a122eee6",
   "metadata": {},
   "outputs": [
    {
     "name": "stdout",
     "output_type": "stream",
     "text": [
      "     prob  accuracy     sensi     speci\n",
      "0.0   0.0  0.381581  1.000000  0.000000\n",
      "0.1   0.1  0.849914  0.966639  0.777891\n",
      "0.2   0.2  0.914191  0.927924  0.905718\n",
      "0.3   0.3  0.922678  0.914333  0.927827\n",
      "0.4   0.4  0.925035  0.898682  0.941296\n",
      "0.5   0.5  0.927707  0.878913  0.957814\n",
      "0.6   0.6  0.929593  0.863674  0.970267\n",
      "0.7   0.7  0.919378  0.821252  0.979924\n",
      "0.8   0.8  0.910734  0.792010  0.983990\n",
      "0.9   0.9  0.889832  0.725700  0.991105\n"
     ]
    }
   ],
   "source": [
    "# Now let's calculate accuracy sensitivity and specificity for various probability cutoffs.\n",
    "cutoff_df = pd.DataFrame( columns = ['prob','accuracy','sensi','speci'])\n",
    "from sklearn.metrics import confusion_matrix\n",
    "\n",
    "# TP = confusion[1,1] # true positive \n",
    "# TN = confusion[0,0] # true negatives\n",
    "# FP = confusion[0,1] # false positives\n",
    "# FN = confusion[1,0] # false negatives\n",
    "\n",
    "num = [0.0,0.1,0.2,0.3,0.4,0.5,0.6,0.7,0.8,0.9]\n",
    "for i in num:\n",
    "    cm1 = metrics.confusion_matrix(y_train_pred_final.Converted, y_train_pred_final[i] )\n",
    "    total1=sum(sum(cm1))\n",
    "    accuracy = (cm1[0,0]+cm1[1,1])/total1\n",
    "    \n",
    "    speci = cm1[0,0]/(cm1[0,0]+cm1[0,1])\n",
    "    sensi = cm1[1,1]/(cm1[1,0]+cm1[1,1])\n",
    "    cutoff_df.loc[i] =[ i ,accuracy,sensi,speci]\n",
    "print(cutoff_df)"
   ]
  },
  {
   "cell_type": "code",
   "execution_count": 150,
   "id": "1cf365f7",
   "metadata": {},
   "outputs": [
    {
     "data": {
      "image/png": "[encoded data removed]",
      "text/plain": [
       "<Figure size 640x480 with 1 Axes>"
      ]
     },
     "metadata": {},
     "output_type": "display_data"
    }
   ],
   "source": [
    "# Let's plot accuracy sensitivity and specificity for various probabilities.\n",
    "cutoff_df.plot.line(x='prob', y=['accuracy','sensi','speci'])\n",
    "plt.show()"
   ]
  },
  {
   "cell_type": "code",
   "execution_count": 151,
   "id": "0e22c180",
   "metadata": {},
   "outputs": [
    {
     "data": {
      "text/html": [
       "<div>\n",
       "<style scoped>\n",
       "    .dataframe tbody tr th:only-of-type {\n",
       "        vertical-align: middle;\n",
       "    }\n",
       "\n",
       "    .dataframe tbody tr th {\n",
       "        vertical-align: top;\n",
       "    }\n",
       "\n",
       "    .dataframe thead th {\n",
       "        text-align: right;\n",
       "    }\n",
       "</style>\n",
       "<table border=\"1\" class=\"dataframe\">\n",
       "  <thead>\n",
       "    <tr style=\"text-align: right;\">\n",
       "      <th></th>\n",
       "      <th>Converted</th>\n",
       "      <th>Converted_prob</th>\n",
       "      <th>Prospect ID</th>\n",
       "      <th>Predicted</th>\n",
       "      <th>0.0</th>\n",
       "      <th>0.1</th>\n",
       "      <th>0.2</th>\n",
       "      <th>0.3</th>\n",
       "      <th>0.4</th>\n",
       "      <th>0.5</th>\n",
       "      <th>0.6</th>\n",
       "      <th>0.7</th>\n",
       "      <th>0.8</th>\n",
       "      <th>0.9</th>\n",
       "      <th>final_Predicted</th>\n",
       "    </tr>\n",
       "  </thead>\n",
       "  <tbody>\n",
       "    <tr>\n",
       "      <th>0</th>\n",
       "      <td>0</td>\n",
       "      <td>0.105083</td>\n",
       "      <td>302</td>\n",
       "      <td>0</td>\n",
       "      <td>1</td>\n",
       "      <td>1</td>\n",
       "      <td>0</td>\n",
       "      <td>0</td>\n",
       "      <td>0</td>\n",
       "      <td>0</td>\n",
       "      <td>0</td>\n",
       "      <td>0</td>\n",
       "      <td>0</td>\n",
       "      <td>0</td>\n",
       "      <td>0</td>\n",
       "    </tr>\n",
       "    <tr>\n",
       "      <th>1</th>\n",
       "      <td>0</td>\n",
       "      <td>0.011927</td>\n",
       "      <td>6087</td>\n",
       "      <td>0</td>\n",
       "      <td>1</td>\n",
       "      <td>0</td>\n",
       "      <td>0</td>\n",
       "      <td>0</td>\n",
       "      <td>0</td>\n",
       "      <td>0</td>\n",
       "      <td>0</td>\n",
       "      <td>0</td>\n",
       "      <td>0</td>\n",
       "      <td>0</td>\n",
       "      <td>0</td>\n",
       "    </tr>\n",
       "    <tr>\n",
       "      <th>2</th>\n",
       "      <td>0</td>\n",
       "      <td>0.155025</td>\n",
       "      <td>1033</td>\n",
       "      <td>0</td>\n",
       "      <td>1</td>\n",
       "      <td>1</td>\n",
       "      <td>0</td>\n",
       "      <td>0</td>\n",
       "      <td>0</td>\n",
       "      <td>0</td>\n",
       "      <td>0</td>\n",
       "      <td>0</td>\n",
       "      <td>0</td>\n",
       "      <td>0</td>\n",
       "      <td>0</td>\n",
       "    </tr>\n",
       "    <tr>\n",
       "      <th>3</th>\n",
       "      <td>0</td>\n",
       "      <td>0.039656</td>\n",
       "      <td>7656</td>\n",
       "      <td>0</td>\n",
       "      <td>1</td>\n",
       "      <td>0</td>\n",
       "      <td>0</td>\n",
       "      <td>0</td>\n",
       "      <td>0</td>\n",
       "      <td>0</td>\n",
       "      <td>0</td>\n",
       "      <td>0</td>\n",
       "      <td>0</td>\n",
       "      <td>0</td>\n",
       "      <td>0</td>\n",
       "    </tr>\n",
       "    <tr>\n",
       "      <th>4</th>\n",
       "      <td>1</td>\n",
       "      <td>0.996929</td>\n",
       "      <td>3241</td>\n",
       "      <td>1</td>\n",
       "      <td>1</td>\n",
       "      <td>1</td>\n",
       "      <td>1</td>\n",
       "      <td>1</td>\n",
       "      <td>1</td>\n",
       "      <td>1</td>\n",
       "      <td>1</td>\n",
       "      <td>1</td>\n",
       "      <td>1</td>\n",
       "      <td>1</td>\n",
       "      <td>1</td>\n",
       "    </tr>\n",
       "  </tbody>\n",
       "</table>\n",
       "</div>"
      ],
      "text/plain": [
       "   Converted  Converted_prob  Prospect ID  Predicted  0.0  0.1  0.2  0.3  0.4  \\\n",
       "0          0        0.105083          302          0    1    1    0    0    0   \n",
       "1          0        0.011927         6087          0    1    0    0    0    0   \n",
       "2          0        0.155025         1033          0    1    1    0    0    0   \n",
       "3          0        0.039656         7656          0    1    0    0    0    0   \n",
       "4          1        0.996929         3241          1    1    1    1    1    1   \n",
       "\n",
       "   0.5  0.6  0.7  0.8  0.9  final_Predicted  \n",
       "0    0    0    0    0    0                0  \n",
       "1    0    0    0    0    0                0  \n",
       "2    0    0    0    0    0                0  \n",
       "3    0    0    0    0    0                0  \n",
       "4    1    1    1    1    1                1  "
      ]
     },
     "execution_count": 151,
     "metadata": {},
     "output_type": "execute_result"
    }
   ],
   "source": [
    "#### From the curve above, 0.3 is the optimum point to take it as a cutoff probability.\n",
    "y_train_pred_final['final_Predicted'] = y_train_pred_final.Converted_prob.map(lambda x: 1 if x > 0.3 else 0)\n",
    "y_train_pred_final.head()"
   ]
  },
  {
   "cell_type": "code",
   "execution_count": 152,
   "id": "ba662eff",
   "metadata": {},
   "outputs": [
    {
     "data": {
      "text/html": [
       "<div>\n",
       "<style scoped>\n",
       "    .dataframe tbody tr th:only-of-type {\n",
       "        vertical-align: middle;\n",
       "    }\n",
       "\n",
       "    .dataframe tbody tr th {\n",
       "        vertical-align: top;\n",
       "    }\n",
       "\n",
       "    .dataframe thead th {\n",
       "        text-align: right;\n",
       "    }\n",
       "</style>\n",
       "<table border=\"1\" class=\"dataframe\">\n",
       "  <thead>\n",
       "    <tr style=\"text-align: right;\">\n",
       "      <th></th>\n",
       "      <th>Converted</th>\n",
       "      <th>Converted_prob</th>\n",
       "      <th>Prospect ID</th>\n",
       "      <th>final_Predicted</th>\n",
       "      <th>Lead_Score</th>\n",
       "    </tr>\n",
       "  </thead>\n",
       "  <tbody>\n",
       "    <tr>\n",
       "      <th>0</th>\n",
       "      <td>0</td>\n",
       "      <td>0.105083</td>\n",
       "      <td>302</td>\n",
       "      <td>0</td>\n",
       "      <td>11</td>\n",
       "    </tr>\n",
       "    <tr>\n",
       "      <th>1</th>\n",
       "      <td>0</td>\n",
       "      <td>0.011927</td>\n",
       "      <td>6087</td>\n",
       "      <td>0</td>\n",
       "      <td>1</td>\n",
       "    </tr>\n",
       "    <tr>\n",
       "      <th>2</th>\n",
       "      <td>0</td>\n",
       "      <td>0.155025</td>\n",
       "      <td>1033</td>\n",
       "      <td>0</td>\n",
       "      <td>16</td>\n",
       "    </tr>\n",
       "    <tr>\n",
       "      <th>3</th>\n",
       "      <td>0</td>\n",
       "      <td>0.039656</td>\n",
       "      <td>7656</td>\n",
       "      <td>0</td>\n",
       "      <td>4</td>\n",
       "    </tr>\n",
       "    <tr>\n",
       "      <th>4</th>\n",
       "      <td>1</td>\n",
       "      <td>0.996929</td>\n",
       "      <td>3241</td>\n",
       "      <td>1</td>\n",
       "      <td>100</td>\n",
       "    </tr>\n",
       "  </tbody>\n",
       "</table>\n",
       "</div>"
      ],
      "text/plain": [
       "   Converted  Converted_prob  Prospect ID  final_Predicted  Lead_Score\n",
       "0          0        0.105083          302                0          11\n",
       "1          0        0.011927         6087                0           1\n",
       "2          0        0.155025         1033                0          16\n",
       "3          0        0.039656         7656                0           4\n",
       "4          1        0.996929         3241                1         100"
      ]
     },
     "execution_count": 152,
     "metadata": {},
     "output_type": "execute_result"
    }
   ],
   "source": [
    "y_train_pred_final['Lead_Score'] = y_train_pred_final.Converted_prob.map( lambda x: round(x*100))\n",
    "y_train_pred_final[['Converted','Converted_prob','Prospect ID','final_Predicted','Lead_Score']].head()"
   ]
  },
  {
   "cell_type": "code",
   "execution_count": 153,
   "id": "9ec96a8d",
   "metadata": {},
   "outputs": [
    {
     "data": {
      "text/plain": [
       "0.9226779820839227"
      ]
     },
     "execution_count": 153,
     "metadata": {},
     "output_type": "execute_result"
    }
   ],
   "source": [
    "# Let's check the overall accuracy.\n",
    "metrics.accuracy_score(y_train_pred_final.Converted, y_train_pred_final.final_Predicted)"
   ]
  },
  {
   "cell_type": "code",
   "execution_count": 154,
   "id": "4a619993",
   "metadata": {},
   "outputs": [
    {
     "data": {
      "text/plain": [
       "array([[3651,  284],\n",
       "       [ 208, 2220]], dtype=int64)"
      ]
     },
     "execution_count": 154,
     "metadata": {},
     "output_type": "execute_result"
    }
   ],
   "source": [
    "confusion2 = metrics.confusion_matrix(y_train_pred_final.Converted, y_train_pred_final.final_Predicted)\n",
    "confusion2"
   ]
  },
  {
   "cell_type": "code",
   "execution_count": 155,
   "id": "80a678a4",
   "metadata": {},
   "outputs": [],
   "source": [
    "TP = confusion2[1,1] # true positive \n",
    "TN = confusion2[0,0] # true negatives\n",
    "FP = confusion2[0,1] # false positives\n",
    "FN = confusion2[1,0] # false negatives"
   ]
  },
  {
   "cell_type": "code",
   "execution_count": 156,
   "id": "354a56d4",
   "metadata": {},
   "outputs": [
    {
     "data": {
      "text/plain": [
       "0.914332784184514"
      ]
     },
     "execution_count": 156,
     "metadata": {},
     "output_type": "execute_result"
    }
   ],
   "source": [
    "#sensitivity of our logistic regression model\n",
    "TP / float(TP+FN)"
   ]
  },
  {
   "cell_type": "code",
   "execution_count": 157,
   "id": "778fa9c1",
   "metadata": {},
   "outputs": [
    {
     "data": {
      "text/plain": [
       "0.9278271918678526"
      ]
     },
     "execution_count": 157,
     "metadata": {},
     "output_type": "execute_result"
    }
   ],
   "source": [
    "#specificity of our logistic regression model\n",
    "TN / float(TN+FP)"
   ]
  },
  {
   "cell_type": "markdown",
   "id": "c8a48abd",
   "metadata": {},
   "source": [
    "# Observation:"
   ]
  },
  {
   "cell_type": "markdown",
   "id": "7e92ca75",
   "metadata": {},
   "source": [
    "So as we can see above the model seems to be performing well. The ROC curve has a value of 0.97, which is very good. We have the following values for the Train Data:\n",
    "\n",
    "Accuracy : 92.26%\n",
    "\n",
    "Sensitivity : 91.43%\n",
    "\n",
    "Specificity : 92.78%\n",
    "\n",
    "Some of the other Stats are derived below, indicating the False Positive Rate, Positive Predictive Value,Negative Predictive Values, Precision & Recall."
   ]
  },
  {
   "cell_type": "code",
   "execution_count": 158,
   "id": "e79a7deb",
   "metadata": {},
   "outputs": [
    {
     "name": "stdout",
     "output_type": "stream",
     "text": [
      "0.0721728081321474\n"
     ]
    }
   ],
   "source": [
    "# Calculate False Postive Rate - predicting conversion when customer does not have convert\n",
    "print(FP/ float(TN+FP))"
   ]
  },
  {
   "cell_type": "code",
   "execution_count": 159,
   "id": "e03f7a4e",
   "metadata": {},
   "outputs": [
    {
     "name": "stdout",
     "output_type": "stream",
     "text": [
      "0.8865814696485623\n"
     ]
    }
   ],
   "source": [
    "# Positive predictive value\n",
    "print (TP / float(TP+FP))"
   ]
  },
  {
   "cell_type": "code",
   "execution_count": 160,
   "id": "d8ea8d5f",
   "metadata": {},
   "outputs": [
    {
     "name": "stdout",
     "output_type": "stream",
     "text": [
      "0.9461000259134491\n"
     ]
    }
   ],
   "source": [
    "# Negative predictive value\n",
    "print (TN / float(TN+FN))"
   ]
  },
  {
   "cell_type": "code",
   "execution_count": 161,
   "id": "a660b550",
   "metadata": {},
   "outputs": [
    {
     "data": {
      "text/plain": [
       "array([[3651,  284],\n",
       "       [ 208, 2220]], dtype=int64)"
      ]
     },
     "execution_count": 161,
     "metadata": {},
     "output_type": "execute_result"
    }
   ],
   "source": [
    "#Looking at the confusion matrix again\n",
    "confusion = metrics.confusion_matrix(y_train_pred_final.Converted, y_train_pred_final.final_Predicted)\n",
    "confusion"
   ]
  },
  {
   "cell_type": "code",
   "execution_count": 162,
   "id": "e6e1ecee",
   "metadata": {},
   "outputs": [
    {
     "data": {
      "text/plain": [
       "0.8865814696485623"
      ]
     },
     "execution_count": 162,
     "metadata": {},
     "output_type": "execute_result"
    }
   ],
   "source": [
    "# Precision\n",
    "TP / TP + FP\n",
    "confusion[1,1]/(confusion[0,1]+confusion[1,1])"
   ]
  },
  {
   "cell_type": "code",
   "execution_count": 163,
   "id": "336c9be4",
   "metadata": {},
   "outputs": [
    {
     "data": {
      "text/plain": [
       "0.914332784184514"
      ]
     },
     "execution_count": 163,
     "metadata": {},
     "output_type": "execute_result"
    }
   ],
   "source": [
    "# Recall\n",
    "TP / TP + FN\n",
    "confusion[1,1]/(confusion[1,0]+confusion[1,1])"
   ]
  },
  {
   "cell_type": "code",
   "execution_count": 164,
   "id": "86f9af50",
   "metadata": {},
   "outputs": [],
   "source": [
    "from sklearn.metrics import precision_score, recall_score"
   ]
  },
  {
   "cell_type": "code",
   "execution_count": 165,
   "id": "b64dbc06",
   "metadata": {},
   "outputs": [
    {
     "data": {
      "text/plain": [
       "0.8865814696485623"
      ]
     },
     "execution_count": 165,
     "metadata": {},
     "output_type": "execute_result"
    }
   ],
   "source": [
    "precision_score(y_train_pred_final.Converted , y_train_pred_final.final_Predicted)"
   ]
  },
  {
   "cell_type": "code",
   "execution_count": 166,
   "id": "bcc0e842",
   "metadata": {},
   "outputs": [
    {
     "data": {
      "text/plain": [
       "0.914332784184514"
      ]
     },
     "execution_count": 166,
     "metadata": {},
     "output_type": "execute_result"
    }
   ],
   "source": [
    "recall_score(y_train_pred_final.Converted, y_train_pred_final.final_Predicted)"
   ]
  },
  {
   "cell_type": "code",
   "execution_count": 167,
   "id": "297a6c51",
   "metadata": {},
   "outputs": [],
   "source": [
    "from sklearn.metrics import precision_recall_curve"
   ]
  },
  {
   "cell_type": "code",
   "execution_count": 168,
   "id": "fb1f7de6",
   "metadata": {},
   "outputs": [],
   "source": [
    "y_train_pred_final.Converted, y_train_pred_final.final_Predicted\n",
    "p, r, thresholds = precision_recall_curve(y_train_pred_final.Converted, y_train_pred_final.Converted_prob)"
   ]
  },
  {
   "cell_type": "code",
   "execution_count": 169,
   "id": "4112a2f4",
   "metadata": {},
   "outputs": [
    {
     "data": {
      "image/png": "[encoded data removed]",
      "text/plain": [
       "<Figure size 640x480 with 1 Axes>"
      ]
     },
     "metadata": {},
     "output_type": "display_data"
    }
   ],
   "source": [
    "plt.plot(thresholds, p[:-1], \"g-\")\n",
    "plt.plot(thresholds, r[:-1], \"r-\")\n",
    "plt.show()"
   ]
  },
  {
   "cell_type": "code",
   "execution_count": 170,
   "id": "90dd0c1a",
   "metadata": {},
   "outputs": [
    {
     "data": {
      "text/html": [
       "<div>\n",
       "<style scoped>\n",
       "    .dataframe tbody tr th:only-of-type {\n",
       "        vertical-align: middle;\n",
       "    }\n",
       "\n",
       "    .dataframe tbody tr th {\n",
       "        vertical-align: top;\n",
       "    }\n",
       "\n",
       "    .dataframe thead th {\n",
       "        text-align: right;\n",
       "    }\n",
       "</style>\n",
       "<table border=\"1\" class=\"dataframe\">\n",
       "  <thead>\n",
       "    <tr style=\"text-align: right;\">\n",
       "      <th></th>\n",
       "      <th>Do Not Call</th>\n",
       "      <th>TotalVisits</th>\n",
       "      <th>Total Time Spent on Website</th>\n",
       "      <th>Page Views Per Visit</th>\n",
       "      <th>A free copy of Mastering The Interview</th>\n",
       "      <th>Lead Origin_Landing Page Submission</th>\n",
       "      <th>Lead Origin_Lead Add Form and Others</th>\n",
       "      <th>Lead Source_Direct Traffic</th>\n",
       "      <th>Lead Source_Google</th>\n",
       "      <th>Lead Source_Live Chat</th>\n",
       "      <th>...</th>\n",
       "      <th>Last Notable Activity_Olark Chat Conversation</th>\n",
       "      <th>Last Notable Activity_Page Visited on Website</th>\n",
       "      <th>Last Notable Activity_Resubscribed to emails</th>\n",
       "      <th>Last Notable Activity_SMS Sent</th>\n",
       "      <th>Last Notable Activity_Unreachable</th>\n",
       "      <th>Last Notable Activity_Unsubscribed</th>\n",
       "      <th>Last Notable Activity_View in browser link Clicked</th>\n",
       "      <th>specialization_Industry Specializations</th>\n",
       "      <th>specialization_Management Specializations</th>\n",
       "      <th>city_Non-Mumbai Maharashtra Cities</th>\n",
       "    </tr>\n",
       "  </thead>\n",
       "  <tbody>\n",
       "    <tr>\n",
       "      <th>6906</th>\n",
       "      <td>0.0</td>\n",
       "      <td>4</td>\n",
       "      <td>1.891958</td>\n",
       "      <td>-0.154745</td>\n",
       "      <td>-0.685047</td>\n",
       "      <td>1</td>\n",
       "      <td>0</td>\n",
       "      <td>1</td>\n",
       "      <td>0</td>\n",
       "      <td>0</td>\n",
       "      <td>...</td>\n",
       "      <td>0</td>\n",
       "      <td>0</td>\n",
       "      <td>0</td>\n",
       "      <td>1</td>\n",
       "      <td>0</td>\n",
       "      <td>0</td>\n",
       "      <td>0</td>\n",
       "      <td>0</td>\n",
       "      <td>1</td>\n",
       "      <td>0</td>\n",
       "    </tr>\n",
       "    <tr>\n",
       "      <th>1873</th>\n",
       "      <td>0.0</td>\n",
       "      <td>2</td>\n",
       "      <td>-0.542475</td>\n",
       "      <td>-0.154745</td>\n",
       "      <td>-0.685047</td>\n",
       "      <td>1</td>\n",
       "      <td>0</td>\n",
       "      <td>0</td>\n",
       "      <td>1</td>\n",
       "      <td>0</td>\n",
       "      <td>...</td>\n",
       "      <td>0</td>\n",
       "      <td>0</td>\n",
       "      <td>0</td>\n",
       "      <td>0</td>\n",
       "      <td>0</td>\n",
       "      <td>0</td>\n",
       "      <td>0</td>\n",
       "      <td>0</td>\n",
       "      <td>1</td>\n",
       "      <td>0</td>\n",
       "    </tr>\n",
       "    <tr>\n",
       "      <th>771</th>\n",
       "      <td>0.0</td>\n",
       "      <td>7</td>\n",
       "      <td>-0.790628</td>\n",
       "      <td>2.446282</td>\n",
       "      <td>-0.685047</td>\n",
       "      <td>0</td>\n",
       "      <td>0</td>\n",
       "      <td>0</td>\n",
       "      <td>1</td>\n",
       "      <td>0</td>\n",
       "      <td>...</td>\n",
       "      <td>0</td>\n",
       "      <td>0</td>\n",
       "      <td>0</td>\n",
       "      <td>0</td>\n",
       "      <td>0</td>\n",
       "      <td>0</td>\n",
       "      <td>0</td>\n",
       "      <td>0</td>\n",
       "      <td>1</td>\n",
       "      <td>0</td>\n",
       "    </tr>\n",
       "    <tr>\n",
       "      <th>4495</th>\n",
       "      <td>0.0</td>\n",
       "      <td>4</td>\n",
       "      <td>-0.618551</td>\n",
       "      <td>0.885666</td>\n",
       "      <td>1.459755</td>\n",
       "      <td>1</td>\n",
       "      <td>0</td>\n",
       "      <td>0</td>\n",
       "      <td>1</td>\n",
       "      <td>0</td>\n",
       "      <td>...</td>\n",
       "      <td>0</td>\n",
       "      <td>0</td>\n",
       "      <td>0</td>\n",
       "      <td>0</td>\n",
       "      <td>0</td>\n",
       "      <td>0</td>\n",
       "      <td>0</td>\n",
       "      <td>0</td>\n",
       "      <td>1</td>\n",
       "      <td>0</td>\n",
       "    </tr>\n",
       "    <tr>\n",
       "      <th>9061</th>\n",
       "      <td>0.0</td>\n",
       "      <td>2</td>\n",
       "      <td>2.359282</td>\n",
       "      <td>-0.154745</td>\n",
       "      <td>1.459755</td>\n",
       "      <td>1</td>\n",
       "      <td>0</td>\n",
       "      <td>1</td>\n",
       "      <td>0</td>\n",
       "      <td>0</td>\n",
       "      <td>...</td>\n",
       "      <td>0</td>\n",
       "      <td>0</td>\n",
       "      <td>0</td>\n",
       "      <td>0</td>\n",
       "      <td>0</td>\n",
       "      <td>0</td>\n",
       "      <td>0</td>\n",
       "      <td>0</td>\n",
       "      <td>1</td>\n",
       "      <td>0</td>\n",
       "    </tr>\n",
       "  </tbody>\n",
       "</table>\n",
       "<p>5 rows × 80 columns</p>\n",
       "</div>"
      ],
      "text/plain": [
       "      Do Not Call  TotalVisits  Total Time Spent on Website  \\\n",
       "6906          0.0            4                     1.891958   \n",
       "1873          0.0            2                    -0.542475   \n",
       "771           0.0            7                    -0.790628   \n",
       "4495          0.0            4                    -0.618551   \n",
       "9061          0.0            2                     2.359282   \n",
       "\n",
       "      Page Views Per Visit  A free copy of Mastering The Interview  \\\n",
       "6906             -0.154745                               -0.685047   \n",
       "1873             -0.154745                               -0.685047   \n",
       "771               2.446282                               -0.685047   \n",
       "4495              0.885666                                1.459755   \n",
       "9061             -0.154745                                1.459755   \n",
       "\n",
       "      Lead Origin_Landing Page Submission  \\\n",
       "6906                                    1   \n",
       "1873                                    1   \n",
       "771                                     0   \n",
       "4495                                    1   \n",
       "9061                                    1   \n",
       "\n",
       "      Lead Origin_Lead Add Form and Others  Lead Source_Direct Traffic  \\\n",
       "6906                                     0                           1   \n",
       "1873                                     0                           0   \n",
       "771                                      0                           0   \n",
       "4495                                     0                           0   \n",
       "9061                                     0                           1   \n",
       "\n",
       "      Lead Source_Google  Lead Source_Live Chat  ...  \\\n",
       "6906                   0                      0  ...   \n",
       "1873                   1                      0  ...   \n",
       "771                    1                      0  ...   \n",
       "4495                   1                      0  ...   \n",
       "9061                   0                      0  ...   \n",
       "\n",
       "      Last Notable Activity_Olark Chat Conversation  \\\n",
       "6906                                              0   \n",
       "1873                                              0   \n",
       "771                                               0   \n",
       "4495                                              0   \n",
       "9061                                              0   \n",
       "\n",
       "      Last Notable Activity_Page Visited on Website  \\\n",
       "6906                                              0   \n",
       "1873                                              0   \n",
       "771                                               0   \n",
       "4495                                              0   \n",
       "9061                                              0   \n",
       "\n",
       "      Last Notable Activity_Resubscribed to emails  \\\n",
       "6906                                             0   \n",
       "1873                                             0   \n",
       "771                                              0   \n",
       "4495                                             0   \n",
       "9061                                             0   \n",
       "\n",
       "      Last Notable Activity_SMS Sent  Last Notable Activity_Unreachable  \\\n",
       "6906                               1                                  0   \n",
       "1873                               0                                  0   \n",
       "771                                0                                  0   \n",
       "4495                               0                                  0   \n",
       "9061                               0                                  0   \n",
       "\n",
       "      Last Notable Activity_Unsubscribed  \\\n",
       "6906                                   0   \n",
       "1873                                   0   \n",
       "771                                    0   \n",
       "4495                                   0   \n",
       "9061                                   0   \n",
       "\n",
       "      Last Notable Activity_View in browser link Clicked  \\\n",
       "6906                                                  0    \n",
       "1873                                                  0    \n",
       "771                                                   0    \n",
       "4495                                                  0    \n",
       "9061                                                  0    \n",
       "\n",
       "      specialization_Industry Specializations  \\\n",
       "6906                                        0   \n",
       "1873                                        0   \n",
       "771                                         0   \n",
       "4495                                        0   \n",
       "9061                                        0   \n",
       "\n",
       "      specialization_Management Specializations  \\\n",
       "6906                                          1   \n",
       "1873                                          1   \n",
       "771                                           1   \n",
       "4495                                          1   \n",
       "9061                                          1   \n",
       "\n",
       "      city_Non-Mumbai Maharashtra Cities  \n",
       "6906                                   0  \n",
       "1873                                   0  \n",
       "771                                    0  \n",
       "4495                                   0  \n",
       "9061                                   0  \n",
       "\n",
       "[5 rows x 80 columns]"
      ]
     },
     "execution_count": 170,
     "metadata": {},
     "output_type": "execute_result"
    }
   ],
   "source": [
    "#scaling test set\n",
    "num_cols=X_test.select_dtypes(include=['float64', 'int64']).columns\n",
    "\n",
    "X_test[num_cols] = scaler.fit_transform(X_test[num_cols])\n",
    "\n",
    "X_test.head()"
   ]
  },
  {
   "cell_type": "code",
   "execution_count": 171,
   "id": "0b8e1fa7",
   "metadata": {},
   "outputs": [],
   "source": [
    "X_test[['Do Not Call', 'Total Time Spent on Website', 'Page Views Per Visit','A free copy of Mastering The Interview']] = scaler.transform(X_test[['Do Not Call', 'Total Time Spent on Website', 'Page Views Per Visit','A free copy of Mastering The Interview']])"
   ]
  },
  {
   "cell_type": "code",
   "execution_count": 172,
   "id": "e3045a81",
   "metadata": {},
   "outputs": [],
   "source": [
    "col = X_train.columns"
   ]
  },
  {
   "cell_type": "markdown",
   "id": "2ba96de6",
   "metadata": {},
   "source": [
    "# PREDICTIONS ON TEST SET"
   ]
  },
  {
   "cell_type": "code",
   "execution_count": 173,
   "id": "97f673f6",
   "metadata": {},
   "outputs": [
    {
     "data": {
      "text/html": [
       "<div>\n",
       "<style scoped>\n",
       "    .dataframe tbody tr th:only-of-type {\n",
       "        vertical-align: middle;\n",
       "    }\n",
       "\n",
       "    .dataframe tbody tr th {\n",
       "        vertical-align: top;\n",
       "    }\n",
       "\n",
       "    .dataframe thead th {\n",
       "        text-align: right;\n",
       "    }\n",
       "</style>\n",
       "<table border=\"1\" class=\"dataframe\">\n",
       "  <thead>\n",
       "    <tr style=\"text-align: right;\">\n",
       "      <th></th>\n",
       "      <th>Do Not Call</th>\n",
       "      <th>TotalVisits</th>\n",
       "      <th>Total Time Spent on Website</th>\n",
       "      <th>Page Views Per Visit</th>\n",
       "      <th>A free copy of Mastering The Interview</th>\n",
       "      <th>Lead Origin_Landing Page Submission</th>\n",
       "      <th>Lead Origin_Lead Add Form and Others</th>\n",
       "      <th>Lead Source_Direct Traffic</th>\n",
       "      <th>Lead Source_Google</th>\n",
       "      <th>Lead Source_Live Chat</th>\n",
       "      <th>...</th>\n",
       "      <th>Last Notable Activity_Olark Chat Conversation</th>\n",
       "      <th>Last Notable Activity_Page Visited on Website</th>\n",
       "      <th>Last Notable Activity_Resubscribed to emails</th>\n",
       "      <th>Last Notable Activity_SMS Sent</th>\n",
       "      <th>Last Notable Activity_Unreachable</th>\n",
       "      <th>Last Notable Activity_Unsubscribed</th>\n",
       "      <th>Last Notable Activity_View in browser link Clicked</th>\n",
       "      <th>specialization_Industry Specializations</th>\n",
       "      <th>specialization_Management Specializations</th>\n",
       "      <th>city_Non-Mumbai Maharashtra Cities</th>\n",
       "    </tr>\n",
       "  </thead>\n",
       "  <tbody>\n",
       "    <tr>\n",
       "      <th>302</th>\n",
       "      <td>-0.017732</td>\n",
       "      <td>1.336782</td>\n",
       "      <td>-0.428736</td>\n",
       "      <td>0.044021</td>\n",
       "      <td>-0.659091</td>\n",
       "      <td>0</td>\n",
       "      <td>0</td>\n",
       "      <td>0</td>\n",
       "      <td>0</td>\n",
       "      <td>0</td>\n",
       "      <td>...</td>\n",
       "      <td>0</td>\n",
       "      <td>0</td>\n",
       "      <td>0</td>\n",
       "      <td>0</td>\n",
       "      <td>0</td>\n",
       "      <td>0</td>\n",
       "      <td>0</td>\n",
       "      <td>0</td>\n",
       "      <td>1</td>\n",
       "      <td>0</td>\n",
       "    </tr>\n",
       "    <tr>\n",
       "      <th>6087</th>\n",
       "      <td>-0.017732</td>\n",
       "      <td>-1.094877</td>\n",
       "      <td>-0.887355</td>\n",
       "      <td>-1.206716</td>\n",
       "      <td>-0.659091</td>\n",
       "      <td>0</td>\n",
       "      <td>0</td>\n",
       "      <td>0</td>\n",
       "      <td>0</td>\n",
       "      <td>0</td>\n",
       "      <td>...</td>\n",
       "      <td>0</td>\n",
       "      <td>0</td>\n",
       "      <td>0</td>\n",
       "      <td>0</td>\n",
       "      <td>0</td>\n",
       "      <td>0</td>\n",
       "      <td>0</td>\n",
       "      <td>1</td>\n",
       "      <td>0</td>\n",
       "      <td>0</td>\n",
       "    </tr>\n",
       "    <tr>\n",
       "      <th>1033</th>\n",
       "      <td>-0.017732</td>\n",
       "      <td>0.642022</td>\n",
       "      <td>-0.025151</td>\n",
       "      <td>1.477269</td>\n",
       "      <td>-0.659091</td>\n",
       "      <td>0</td>\n",
       "      <td>0</td>\n",
       "      <td>0</td>\n",
       "      <td>1</td>\n",
       "      <td>0</td>\n",
       "      <td>...</td>\n",
       "      <td>0</td>\n",
       "      <td>0</td>\n",
       "      <td>0</td>\n",
       "      <td>0</td>\n",
       "      <td>0</td>\n",
       "      <td>0</td>\n",
       "      <td>0</td>\n",
       "      <td>0</td>\n",
       "      <td>0</td>\n",
       "      <td>0</td>\n",
       "    </tr>\n",
       "    <tr>\n",
       "      <th>7656</th>\n",
       "      <td>-0.017732</td>\n",
       "      <td>0.989402</td>\n",
       "      <td>-0.241619</td>\n",
       "      <td>2.014065</td>\n",
       "      <td>1.517242</td>\n",
       "      <td>1</td>\n",
       "      <td>0</td>\n",
       "      <td>1</td>\n",
       "      <td>0</td>\n",
       "      <td>0</td>\n",
       "      <td>...</td>\n",
       "      <td>0</td>\n",
       "      <td>0</td>\n",
       "      <td>0</td>\n",
       "      <td>1</td>\n",
       "      <td>0</td>\n",
       "      <td>0</td>\n",
       "      <td>0</td>\n",
       "      <td>0</td>\n",
       "      <td>1</td>\n",
       "      <td>0</td>\n",
       "    </tr>\n",
       "    <tr>\n",
       "      <th>3241</th>\n",
       "      <td>-0.017732</td>\n",
       "      <td>0.294642</td>\n",
       "      <td>0.897591</td>\n",
       "      <td>-0.492776</td>\n",
       "      <td>1.517242</td>\n",
       "      <td>1</td>\n",
       "      <td>0</td>\n",
       "      <td>1</td>\n",
       "      <td>0</td>\n",
       "      <td>0</td>\n",
       "      <td>...</td>\n",
       "      <td>0</td>\n",
       "      <td>0</td>\n",
       "      <td>0</td>\n",
       "      <td>1</td>\n",
       "      <td>0</td>\n",
       "      <td>0</td>\n",
       "      <td>0</td>\n",
       "      <td>0</td>\n",
       "      <td>0</td>\n",
       "      <td>0</td>\n",
       "    </tr>\n",
       "    <tr>\n",
       "      <th>...</th>\n",
       "      <td>...</td>\n",
       "      <td>...</td>\n",
       "      <td>...</td>\n",
       "      <td>...</td>\n",
       "      <td>...</td>\n",
       "      <td>...</td>\n",
       "      <td>...</td>\n",
       "      <td>...</td>\n",
       "      <td>...</td>\n",
       "      <td>...</td>\n",
       "      <td>...</td>\n",
       "      <td>...</td>\n",
       "      <td>...</td>\n",
       "      <td>...</td>\n",
       "      <td>...</td>\n",
       "      <td>...</td>\n",
       "      <td>...</td>\n",
       "      <td>...</td>\n",
       "      <td>...</td>\n",
       "      <td>...</td>\n",
       "      <td>...</td>\n",
       "    </tr>\n",
       "    <tr>\n",
       "      <th>360</th>\n",
       "      <td>-0.017732</td>\n",
       "      <td>-1.094877</td>\n",
       "      <td>-0.887355</td>\n",
       "      <td>-1.206716</td>\n",
       "      <td>-0.659091</td>\n",
       "      <td>0</td>\n",
       "      <td>0</td>\n",
       "      <td>0</td>\n",
       "      <td>0</td>\n",
       "      <td>0</td>\n",
       "      <td>...</td>\n",
       "      <td>0</td>\n",
       "      <td>0</td>\n",
       "      <td>0</td>\n",
       "      <td>0</td>\n",
       "      <td>0</td>\n",
       "      <td>0</td>\n",
       "      <td>0</td>\n",
       "      <td>0</td>\n",
       "      <td>1</td>\n",
       "      <td>0</td>\n",
       "    </tr>\n",
       "    <tr>\n",
       "      <th>81</th>\n",
       "      <td>-0.017732</td>\n",
       "      <td>-0.052738</td>\n",
       "      <td>-0.252626</td>\n",
       "      <td>-0.133122</td>\n",
       "      <td>-0.659091</td>\n",
       "      <td>0</td>\n",
       "      <td>1</td>\n",
       "      <td>0</td>\n",
       "      <td>0</td>\n",
       "      <td>0</td>\n",
       "      <td>...</td>\n",
       "      <td>0</td>\n",
       "      <td>0</td>\n",
       "      <td>0</td>\n",
       "      <td>0</td>\n",
       "      <td>0</td>\n",
       "      <td>0</td>\n",
       "      <td>0</td>\n",
       "      <td>1</td>\n",
       "      <td>0</td>\n",
       "      <td>0</td>\n",
       "    </tr>\n",
       "    <tr>\n",
       "      <th>8171</th>\n",
       "      <td>-0.017732</td>\n",
       "      <td>1.336782</td>\n",
       "      <td>1.130570</td>\n",
       "      <td>0.044021</td>\n",
       "      <td>1.517242</td>\n",
       "      <td>1</td>\n",
       "      <td>0</td>\n",
       "      <td>1</td>\n",
       "      <td>0</td>\n",
       "      <td>0</td>\n",
       "      <td>...</td>\n",
       "      <td>1</td>\n",
       "      <td>0</td>\n",
       "      <td>0</td>\n",
       "      <td>0</td>\n",
       "      <td>0</td>\n",
       "      <td>0</td>\n",
       "      <td>0</td>\n",
       "      <td>0</td>\n",
       "      <td>1</td>\n",
       "      <td>0</td>\n",
       "    </tr>\n",
       "    <tr>\n",
       "      <th>7048</th>\n",
       "      <td>-0.017732</td>\n",
       "      <td>2.031542</td>\n",
       "      <td>1.374555</td>\n",
       "      <td>1.208870</td>\n",
       "      <td>1.517242</td>\n",
       "      <td>1</td>\n",
       "      <td>0</td>\n",
       "      <td>0</td>\n",
       "      <td>0</td>\n",
       "      <td>0</td>\n",
       "      <td>...</td>\n",
       "      <td>0</td>\n",
       "      <td>0</td>\n",
       "      <td>0</td>\n",
       "      <td>0</td>\n",
       "      <td>0</td>\n",
       "      <td>0</td>\n",
       "      <td>0</td>\n",
       "      <td>0</td>\n",
       "      <td>1</td>\n",
       "      <td>0</td>\n",
       "    </tr>\n",
       "    <tr>\n",
       "      <th>5730</th>\n",
       "      <td>-0.017732</td>\n",
       "      <td>2.726302</td>\n",
       "      <td>-0.832321</td>\n",
       "      <td>1.745667</td>\n",
       "      <td>1.517242</td>\n",
       "      <td>1</td>\n",
       "      <td>0</td>\n",
       "      <td>0</td>\n",
       "      <td>0</td>\n",
       "      <td>0</td>\n",
       "      <td>...</td>\n",
       "      <td>0</td>\n",
       "      <td>0</td>\n",
       "      <td>0</td>\n",
       "      <td>0</td>\n",
       "      <td>0</td>\n",
       "      <td>0</td>\n",
       "      <td>0</td>\n",
       "      <td>0</td>\n",
       "      <td>1</td>\n",
       "      <td>0</td>\n",
       "    </tr>\n",
       "  </tbody>\n",
       "</table>\n",
       "<p>6363 rows × 80 columns</p>\n",
       "</div>"
      ],
      "text/plain": [
       "      Do Not Call  TotalVisits  Total Time Spent on Website  \\\n",
       "302     -0.017732     1.336782                    -0.428736   \n",
       "6087    -0.017732    -1.094877                    -0.887355   \n",
       "1033    -0.017732     0.642022                    -0.025151   \n",
       "7656    -0.017732     0.989402                    -0.241619   \n",
       "3241    -0.017732     0.294642                     0.897591   \n",
       "...           ...          ...                          ...   \n",
       "360     -0.017732    -1.094877                    -0.887355   \n",
       "81      -0.017732    -0.052738                    -0.252626   \n",
       "8171    -0.017732     1.336782                     1.130570   \n",
       "7048    -0.017732     2.031542                     1.374555   \n",
       "5730    -0.017732     2.726302                    -0.832321   \n",
       "\n",
       "      Page Views Per Visit  A free copy of Mastering The Interview  \\\n",
       "302               0.044021                               -0.659091   \n",
       "6087             -1.206716                               -0.659091   \n",
       "1033              1.477269                               -0.659091   \n",
       "7656              2.014065                                1.517242   \n",
       "3241             -0.492776                                1.517242   \n",
       "...                    ...                                     ...   \n",
       "360              -1.206716                               -0.659091   \n",
       "81               -0.133122                               -0.659091   \n",
       "8171              0.044021                                1.517242   \n",
       "7048              1.208870                                1.517242   \n",
       "5730              1.745667                                1.517242   \n",
       "\n",
       "      Lead Origin_Landing Page Submission  \\\n",
       "302                                     0   \n",
       "6087                                    0   \n",
       "1033                                    0   \n",
       "7656                                    1   \n",
       "3241                                    1   \n",
       "...                                   ...   \n",
       "360                                     0   \n",
       "81                                      0   \n",
       "8171                                    1   \n",
       "7048                                    1   \n",
       "5730                                    1   \n",
       "\n",
       "      Lead Origin_Lead Add Form and Others  Lead Source_Direct Traffic  \\\n",
       "302                                      0                           0   \n",
       "6087                                     0                           0   \n",
       "1033                                     0                           0   \n",
       "7656                                     0                           1   \n",
       "3241                                     0                           1   \n",
       "...                                    ...                         ...   \n",
       "360                                      0                           0   \n",
       "81                                       1                           0   \n",
       "8171                                     0                           1   \n",
       "7048                                     0                           0   \n",
       "5730                                     0                           0   \n",
       "\n",
       "      Lead Source_Google  Lead Source_Live Chat  ...  \\\n",
       "302                    0                      0  ...   \n",
       "6087                   0                      0  ...   \n",
       "1033                   1                      0  ...   \n",
       "7656                   0                      0  ...   \n",
       "3241                   0                      0  ...   \n",
       "...                  ...                    ...  ...   \n",
       "360                    0                      0  ...   \n",
       "81                     0                      0  ...   \n",
       "8171                   0                      0  ...   \n",
       "7048                   0                      0  ...   \n",
       "5730                   0                      0  ...   \n",
       "\n",
       "      Last Notable Activity_Olark Chat Conversation  \\\n",
       "302                                               0   \n",
       "6087                                              0   \n",
       "1033                                              0   \n",
       "7656                                              0   \n",
       "3241                                              0   \n",
       "...                                             ...   \n",
       "360                                               0   \n",
       "81                                                0   \n",
       "8171                                              1   \n",
       "7048                                              0   \n",
       "5730                                              0   \n",
       "\n",
       "      Last Notable Activity_Page Visited on Website  \\\n",
       "302                                               0   \n",
       "6087                                              0   \n",
       "1033                                              0   \n",
       "7656                                              0   \n",
       "3241                                              0   \n",
       "...                                             ...   \n",
       "360                                               0   \n",
       "81                                                0   \n",
       "8171                                              0   \n",
       "7048                                              0   \n",
       "5730                                              0   \n",
       "\n",
       "      Last Notable Activity_Resubscribed to emails  \\\n",
       "302                                              0   \n",
       "6087                                             0   \n",
       "1033                                             0   \n",
       "7656                                             0   \n",
       "3241                                             0   \n",
       "...                                            ...   \n",
       "360                                              0   \n",
       "81                                               0   \n",
       "8171                                             0   \n",
       "7048                                             0   \n",
       "5730                                             0   \n",
       "\n",
       "      Last Notable Activity_SMS Sent  Last Notable Activity_Unreachable  \\\n",
       "302                                0                                  0   \n",
       "6087                               0                                  0   \n",
       "1033                               0                                  0   \n",
       "7656                               1                                  0   \n",
       "3241                               1                                  0   \n",
       "...                              ...                                ...   \n",
       "360                                0                                  0   \n",
       "81                                 0                                  0   \n",
       "8171                               0                                  0   \n",
       "7048                               0                                  0   \n",
       "5730                               0                                  0   \n",
       "\n",
       "      Last Notable Activity_Unsubscribed  \\\n",
       "302                                    0   \n",
       "6087                                   0   \n",
       "1033                                   0   \n",
       "7656                                   0   \n",
       "3241                                   0   \n",
       "...                                  ...   \n",
       "360                                    0   \n",
       "81                                     0   \n",
       "8171                                   0   \n",
       "7048                                   0   \n",
       "5730                                   0   \n",
       "\n",
       "      Last Notable Activity_View in browser link Clicked  \\\n",
       "302                                                   0    \n",
       "6087                                                  0    \n",
       "1033                                                  0    \n",
       "7656                                                  0    \n",
       "3241                                                  0    \n",
       "...                                                 ...    \n",
       "360                                                   0    \n",
       "81                                                    0    \n",
       "8171                                                  0    \n",
       "7048                                                  0    \n",
       "5730                                                  0    \n",
       "\n",
       "      specialization_Industry Specializations  \\\n",
       "302                                         0   \n",
       "6087                                        1   \n",
       "1033                                        0   \n",
       "7656                                        0   \n",
       "3241                                        0   \n",
       "...                                       ...   \n",
       "360                                         0   \n",
       "81                                          1   \n",
       "8171                                        0   \n",
       "7048                                        0   \n",
       "5730                                        0   \n",
       "\n",
       "      specialization_Management Specializations  \\\n",
       "302                                           1   \n",
       "6087                                          0   \n",
       "1033                                          0   \n",
       "7656                                          1   \n",
       "3241                                          0   \n",
       "...                                         ...   \n",
       "360                                           1   \n",
       "81                                            0   \n",
       "8171                                          1   \n",
       "7048                                          1   \n",
       "5730                                          1   \n",
       "\n",
       "      city_Non-Mumbai Maharashtra Cities  \n",
       "302                                    0  \n",
       "6087                                   0  \n",
       "1033                                   0  \n",
       "7656                                   0  \n",
       "3241                                   0  \n",
       "...                                  ...  \n",
       "360                                    0  \n",
       "81                                     0  \n",
       "8171                                   0  \n",
       "7048                                   0  \n",
       "5730                                   0  \n",
       "\n",
       "[6363 rows x 80 columns]"
      ]
     },
     "execution_count": 173,
     "metadata": {},
     "output_type": "execute_result"
    }
   ],
   "source": [
    "# Select the columns in X_train for X_test as well\n",
    "X_test = X_train[col]\n",
    "X_test"
   ]
  },
  {
   "cell_type": "code",
   "execution_count": 174,
   "id": "f3147962",
   "metadata": {},
   "outputs": [],
   "source": [
    "X_test_sm = sm.add_constant(X_test)"
   ]
  },
  {
   "cell_type": "code",
   "execution_count": 175,
   "id": "665d9af5",
   "metadata": {},
   "outputs": [
    {
     "data": {
      "text/html": [
       "<div>\n",
       "<style scoped>\n",
       "    .dataframe tbody tr th:only-of-type {\n",
       "        vertical-align: middle;\n",
       "    }\n",
       "\n",
       "    .dataframe tbody tr th {\n",
       "        vertical-align: top;\n",
       "    }\n",
       "\n",
       "    .dataframe thead th {\n",
       "        text-align: right;\n",
       "    }\n",
       "</style>\n",
       "<table border=\"1\" class=\"dataframe\">\n",
       "  <thead>\n",
       "    <tr style=\"text-align: right;\">\n",
       "      <th></th>\n",
       "      <th>const</th>\n",
       "      <th>Do Not Call</th>\n",
       "      <th>TotalVisits</th>\n",
       "      <th>Total Time Spent on Website</th>\n",
       "      <th>Page Views Per Visit</th>\n",
       "      <th>A free copy of Mastering The Interview</th>\n",
       "      <th>Lead Origin_Landing Page Submission</th>\n",
       "      <th>Lead Origin_Lead Add Form and Others</th>\n",
       "      <th>Lead Source_Direct Traffic</th>\n",
       "      <th>Lead Source_Google</th>\n",
       "      <th>...</th>\n",
       "      <th>Last Notable Activity_Olark Chat Conversation</th>\n",
       "      <th>Last Notable Activity_Page Visited on Website</th>\n",
       "      <th>Last Notable Activity_Resubscribed to emails</th>\n",
       "      <th>Last Notable Activity_SMS Sent</th>\n",
       "      <th>Last Notable Activity_Unreachable</th>\n",
       "      <th>Last Notable Activity_Unsubscribed</th>\n",
       "      <th>Last Notable Activity_View in browser link Clicked</th>\n",
       "      <th>specialization_Industry Specializations</th>\n",
       "      <th>specialization_Management Specializations</th>\n",
       "      <th>city_Non-Mumbai Maharashtra Cities</th>\n",
       "    </tr>\n",
       "  </thead>\n",
       "  <tbody>\n",
       "    <tr>\n",
       "      <th>302</th>\n",
       "      <td>1.0</td>\n",
       "      <td>-0.017732</td>\n",
       "      <td>1.336782</td>\n",
       "      <td>-0.428736</td>\n",
       "      <td>0.044021</td>\n",
       "      <td>-0.659091</td>\n",
       "      <td>0</td>\n",
       "      <td>0</td>\n",
       "      <td>0</td>\n",
       "      <td>0</td>\n",
       "      <td>...</td>\n",
       "      <td>0</td>\n",
       "      <td>0</td>\n",
       "      <td>0</td>\n",
       "      <td>0</td>\n",
       "      <td>0</td>\n",
       "      <td>0</td>\n",
       "      <td>0</td>\n",
       "      <td>0</td>\n",
       "      <td>1</td>\n",
       "      <td>0</td>\n",
       "    </tr>\n",
       "    <tr>\n",
       "      <th>6087</th>\n",
       "      <td>1.0</td>\n",
       "      <td>-0.017732</td>\n",
       "      <td>-1.094877</td>\n",
       "      <td>-0.887355</td>\n",
       "      <td>-1.206716</td>\n",
       "      <td>-0.659091</td>\n",
       "      <td>0</td>\n",
       "      <td>0</td>\n",
       "      <td>0</td>\n",
       "      <td>0</td>\n",
       "      <td>...</td>\n",
       "      <td>0</td>\n",
       "      <td>0</td>\n",
       "      <td>0</td>\n",
       "      <td>0</td>\n",
       "      <td>0</td>\n",
       "      <td>0</td>\n",
       "      <td>0</td>\n",
       "      <td>1</td>\n",
       "      <td>0</td>\n",
       "      <td>0</td>\n",
       "    </tr>\n",
       "    <tr>\n",
       "      <th>1033</th>\n",
       "      <td>1.0</td>\n",
       "      <td>-0.017732</td>\n",
       "      <td>0.642022</td>\n",
       "      <td>-0.025151</td>\n",
       "      <td>1.477269</td>\n",
       "      <td>-0.659091</td>\n",
       "      <td>0</td>\n",
       "      <td>0</td>\n",
       "      <td>0</td>\n",
       "      <td>1</td>\n",
       "      <td>...</td>\n",
       "      <td>0</td>\n",
       "      <td>0</td>\n",
       "      <td>0</td>\n",
       "      <td>0</td>\n",
       "      <td>0</td>\n",
       "      <td>0</td>\n",
       "      <td>0</td>\n",
       "      <td>0</td>\n",
       "      <td>0</td>\n",
       "      <td>0</td>\n",
       "    </tr>\n",
       "    <tr>\n",
       "      <th>7656</th>\n",
       "      <td>1.0</td>\n",
       "      <td>-0.017732</td>\n",
       "      <td>0.989402</td>\n",
       "      <td>-0.241619</td>\n",
       "      <td>2.014065</td>\n",
       "      <td>1.517242</td>\n",
       "      <td>1</td>\n",
       "      <td>0</td>\n",
       "      <td>1</td>\n",
       "      <td>0</td>\n",
       "      <td>...</td>\n",
       "      <td>0</td>\n",
       "      <td>0</td>\n",
       "      <td>0</td>\n",
       "      <td>1</td>\n",
       "      <td>0</td>\n",
       "      <td>0</td>\n",
       "      <td>0</td>\n",
       "      <td>0</td>\n",
       "      <td>1</td>\n",
       "      <td>0</td>\n",
       "    </tr>\n",
       "    <tr>\n",
       "      <th>3241</th>\n",
       "      <td>1.0</td>\n",
       "      <td>-0.017732</td>\n",
       "      <td>0.294642</td>\n",
       "      <td>0.897591</td>\n",
       "      <td>-0.492776</td>\n",
       "      <td>1.517242</td>\n",
       "      <td>1</td>\n",
       "      <td>0</td>\n",
       "      <td>1</td>\n",
       "      <td>0</td>\n",
       "      <td>...</td>\n",
       "      <td>0</td>\n",
       "      <td>0</td>\n",
       "      <td>0</td>\n",
       "      <td>1</td>\n",
       "      <td>0</td>\n",
       "      <td>0</td>\n",
       "      <td>0</td>\n",
       "      <td>0</td>\n",
       "      <td>0</td>\n",
       "      <td>0</td>\n",
       "    </tr>\n",
       "    <tr>\n",
       "      <th>...</th>\n",
       "      <td>...</td>\n",
       "      <td>...</td>\n",
       "      <td>...</td>\n",
       "      <td>...</td>\n",
       "      <td>...</td>\n",
       "      <td>...</td>\n",
       "      <td>...</td>\n",
       "      <td>...</td>\n",
       "      <td>...</td>\n",
       "      <td>...</td>\n",
       "      <td>...</td>\n",
       "      <td>...</td>\n",
       "      <td>...</td>\n",
       "      <td>...</td>\n",
       "      <td>...</td>\n",
       "      <td>...</td>\n",
       "      <td>...</td>\n",
       "      <td>...</td>\n",
       "      <td>...</td>\n",
       "      <td>...</td>\n",
       "      <td>...</td>\n",
       "    </tr>\n",
       "    <tr>\n",
       "      <th>360</th>\n",
       "      <td>1.0</td>\n",
       "      <td>-0.017732</td>\n",
       "      <td>-1.094877</td>\n",
       "      <td>-0.887355</td>\n",
       "      <td>-1.206716</td>\n",
       "      <td>-0.659091</td>\n",
       "      <td>0</td>\n",
       "      <td>0</td>\n",
       "      <td>0</td>\n",
       "      <td>0</td>\n",
       "      <td>...</td>\n",
       "      <td>0</td>\n",
       "      <td>0</td>\n",
       "      <td>0</td>\n",
       "      <td>0</td>\n",
       "      <td>0</td>\n",
       "      <td>0</td>\n",
       "      <td>0</td>\n",
       "      <td>0</td>\n",
       "      <td>1</td>\n",
       "      <td>0</td>\n",
       "    </tr>\n",
       "    <tr>\n",
       "      <th>81</th>\n",
       "      <td>1.0</td>\n",
       "      <td>-0.017732</td>\n",
       "      <td>-0.052738</td>\n",
       "      <td>-0.252626</td>\n",
       "      <td>-0.133122</td>\n",
       "      <td>-0.659091</td>\n",
       "      <td>0</td>\n",
       "      <td>1</td>\n",
       "      <td>0</td>\n",
       "      <td>0</td>\n",
       "      <td>...</td>\n",
       "      <td>0</td>\n",
       "      <td>0</td>\n",
       "      <td>0</td>\n",
       "      <td>0</td>\n",
       "      <td>0</td>\n",
       "      <td>0</td>\n",
       "      <td>0</td>\n",
       "      <td>1</td>\n",
       "      <td>0</td>\n",
       "      <td>0</td>\n",
       "    </tr>\n",
       "    <tr>\n",
       "      <th>8171</th>\n",
       "      <td>1.0</td>\n",
       "      <td>-0.017732</td>\n",
       "      <td>1.336782</td>\n",
       "      <td>1.130570</td>\n",
       "      <td>0.044021</td>\n",
       "      <td>1.517242</td>\n",
       "      <td>1</td>\n",
       "      <td>0</td>\n",
       "      <td>1</td>\n",
       "      <td>0</td>\n",
       "      <td>...</td>\n",
       "      <td>1</td>\n",
       "      <td>0</td>\n",
       "      <td>0</td>\n",
       "      <td>0</td>\n",
       "      <td>0</td>\n",
       "      <td>0</td>\n",
       "      <td>0</td>\n",
       "      <td>0</td>\n",
       "      <td>1</td>\n",
       "      <td>0</td>\n",
       "    </tr>\n",
       "    <tr>\n",
       "      <th>7048</th>\n",
       "      <td>1.0</td>\n",
       "      <td>-0.017732</td>\n",
       "      <td>2.031542</td>\n",
       "      <td>1.374555</td>\n",
       "      <td>1.208870</td>\n",
       "      <td>1.517242</td>\n",
       "      <td>1</td>\n",
       "      <td>0</td>\n",
       "      <td>0</td>\n",
       "      <td>0</td>\n",
       "      <td>...</td>\n",
       "      <td>0</td>\n",
       "      <td>0</td>\n",
       "      <td>0</td>\n",
       "      <td>0</td>\n",
       "      <td>0</td>\n",
       "      <td>0</td>\n",
       "      <td>0</td>\n",
       "      <td>0</td>\n",
       "      <td>1</td>\n",
       "      <td>0</td>\n",
       "    </tr>\n",
       "    <tr>\n",
       "      <th>5730</th>\n",
       "      <td>1.0</td>\n",
       "      <td>-0.017732</td>\n",
       "      <td>2.726302</td>\n",
       "      <td>-0.832321</td>\n",
       "      <td>1.745667</td>\n",
       "      <td>1.517242</td>\n",
       "      <td>1</td>\n",
       "      <td>0</td>\n",
       "      <td>0</td>\n",
       "      <td>0</td>\n",
       "      <td>...</td>\n",
       "      <td>0</td>\n",
       "      <td>0</td>\n",
       "      <td>0</td>\n",
       "      <td>0</td>\n",
       "      <td>0</td>\n",
       "      <td>0</td>\n",
       "      <td>0</td>\n",
       "      <td>0</td>\n",
       "      <td>1</td>\n",
       "      <td>0</td>\n",
       "    </tr>\n",
       "  </tbody>\n",
       "</table>\n",
       "<p>6363 rows × 81 columns</p>\n",
       "</div>"
      ],
      "text/plain": [
       "      const  Do Not Call  TotalVisits  Total Time Spent on Website  \\\n",
       "302     1.0    -0.017732     1.336782                    -0.428736   \n",
       "6087    1.0    -0.017732    -1.094877                    -0.887355   \n",
       "1033    1.0    -0.017732     0.642022                    -0.025151   \n",
       "7656    1.0    -0.017732     0.989402                    -0.241619   \n",
       "3241    1.0    -0.017732     0.294642                     0.897591   \n",
       "...     ...          ...          ...                          ...   \n",
       "360     1.0    -0.017732    -1.094877                    -0.887355   \n",
       "81      1.0    -0.017732    -0.052738                    -0.252626   \n",
       "8171    1.0    -0.017732     1.336782                     1.130570   \n",
       "7048    1.0    -0.017732     2.031542                     1.374555   \n",
       "5730    1.0    -0.017732     2.726302                    -0.832321   \n",
       "\n",
       "      Page Views Per Visit  A free copy of Mastering The Interview  \\\n",
       "302               0.044021                               -0.659091   \n",
       "6087             -1.206716                               -0.659091   \n",
       "1033              1.477269                               -0.659091   \n",
       "7656              2.014065                                1.517242   \n",
       "3241             -0.492776                                1.517242   \n",
       "...                    ...                                     ...   \n",
       "360              -1.206716                               -0.659091   \n",
       "81               -0.133122                               -0.659091   \n",
       "8171              0.044021                                1.517242   \n",
       "7048              1.208870                                1.517242   \n",
       "5730              1.745667                                1.517242   \n",
       "\n",
       "      Lead Origin_Landing Page Submission  \\\n",
       "302                                     0   \n",
       "6087                                    0   \n",
       "1033                                    0   \n",
       "7656                                    1   \n",
       "3241                                    1   \n",
       "...                                   ...   \n",
       "360                                     0   \n",
       "81                                      0   \n",
       "8171                                    1   \n",
       "7048                                    1   \n",
       "5730                                    1   \n",
       "\n",
       "      Lead Origin_Lead Add Form and Others  Lead Source_Direct Traffic  \\\n",
       "302                                      0                           0   \n",
       "6087                                     0                           0   \n",
       "1033                                     0                           0   \n",
       "7656                                     0                           1   \n",
       "3241                                     0                           1   \n",
       "...                                    ...                         ...   \n",
       "360                                      0                           0   \n",
       "81                                       1                           0   \n",
       "8171                                     0                           1   \n",
       "7048                                     0                           0   \n",
       "5730                                     0                           0   \n",
       "\n",
       "      Lead Source_Google  ...  Last Notable Activity_Olark Chat Conversation  \\\n",
       "302                    0  ...                                              0   \n",
       "6087                   0  ...                                              0   \n",
       "1033                   1  ...                                              0   \n",
       "7656                   0  ...                                              0   \n",
       "3241                   0  ...                                              0   \n",
       "...                  ...  ...                                            ...   \n",
       "360                    0  ...                                              0   \n",
       "81                     0  ...                                              0   \n",
       "8171                   0  ...                                              1   \n",
       "7048                   0  ...                                              0   \n",
       "5730                   0  ...                                              0   \n",
       "\n",
       "      Last Notable Activity_Page Visited on Website  \\\n",
       "302                                               0   \n",
       "6087                                              0   \n",
       "1033                                              0   \n",
       "7656                                              0   \n",
       "3241                                              0   \n",
       "...                                             ...   \n",
       "360                                               0   \n",
       "81                                                0   \n",
       "8171                                              0   \n",
       "7048                                              0   \n",
       "5730                                              0   \n",
       "\n",
       "      Last Notable Activity_Resubscribed to emails  \\\n",
       "302                                              0   \n",
       "6087                                             0   \n",
       "1033                                             0   \n",
       "7656                                             0   \n",
       "3241                                             0   \n",
       "...                                            ...   \n",
       "360                                              0   \n",
       "81                                               0   \n",
       "8171                                             0   \n",
       "7048                                             0   \n",
       "5730                                             0   \n",
       "\n",
       "      Last Notable Activity_SMS Sent  Last Notable Activity_Unreachable  \\\n",
       "302                                0                                  0   \n",
       "6087                               0                                  0   \n",
       "1033                               0                                  0   \n",
       "7656                               1                                  0   \n",
       "3241                               1                                  0   \n",
       "...                              ...                                ...   \n",
       "360                                0                                  0   \n",
       "81                                 0                                  0   \n",
       "8171                               0                                  0   \n",
       "7048                               0                                  0   \n",
       "5730                               0                                  0   \n",
       "\n",
       "      Last Notable Activity_Unsubscribed  \\\n",
       "302                                    0   \n",
       "6087                                   0   \n",
       "1033                                   0   \n",
       "7656                                   0   \n",
       "3241                                   0   \n",
       "...                                  ...   \n",
       "360                                    0   \n",
       "81                                     0   \n",
       "8171                                   0   \n",
       "7048                                   0   \n",
       "5730                                   0   \n",
       "\n",
       "      Last Notable Activity_View in browser link Clicked  \\\n",
       "302                                                   0    \n",
       "6087                                                  0    \n",
       "1033                                                  0    \n",
       "7656                                                  0    \n",
       "3241                                                  0    \n",
       "...                                                 ...    \n",
       "360                                                   0    \n",
       "81                                                    0    \n",
       "8171                                                  0    \n",
       "7048                                                  0    \n",
       "5730                                                  0    \n",
       "\n",
       "      specialization_Industry Specializations  \\\n",
       "302                                         0   \n",
       "6087                                        1   \n",
       "1033                                        0   \n",
       "7656                                        0   \n",
       "3241                                        0   \n",
       "...                                       ...   \n",
       "360                                         0   \n",
       "81                                          1   \n",
       "8171                                        0   \n",
       "7048                                        0   \n",
       "5730                                        0   \n",
       "\n",
       "      specialization_Management Specializations  \\\n",
       "302                                           1   \n",
       "6087                                          0   \n",
       "1033                                          0   \n",
       "7656                                          1   \n",
       "3241                                          0   \n",
       "...                                         ...   \n",
       "360                                           1   \n",
       "81                                            0   \n",
       "8171                                          1   \n",
       "7048                                          1   \n",
       "5730                                          1   \n",
       "\n",
       "      city_Non-Mumbai Maharashtra Cities  \n",
       "302                                    0  \n",
       "6087                                   0  \n",
       "1033                                   0  \n",
       "7656                                   0  \n",
       "3241                                   0  \n",
       "...                                  ...  \n",
       "360                                    0  \n",
       "81                                     0  \n",
       "8171                                   0  \n",
       "7048                                   0  \n",
       "5730                                   0  \n",
       "\n",
       "[6363 rows x 81 columns]"
      ]
     },
     "execution_count": 175,
     "metadata": {},
     "output_type": "execute_result"
    }
   ],
   "source": [
    "X_test_sm"
   ]
  },
  {
   "cell_type": "code",
   "execution_count": 176,
   "id": "53143f3b",
   "metadata": {},
   "outputs": [],
   "source": [
    "#y_test_pred = res.predict(X_test_sm)"
   ]
  },
  {
   "cell_type": "code",
   "execution_count": 177,
   "id": "36a7cd3a",
   "metadata": {},
   "outputs": [],
   "source": [
    "from sklearn.linear_model import LogisticRegression\n",
    "from sklearn.metrics import accuracy_score"
   ]
  },
  {
   "cell_type": "code",
   "execution_count": 178,
   "id": "fa551793",
   "metadata": {},
   "outputs": [],
   "source": [
    "Xscaled  = scaler.fit_transform(X_train)\n",
    "logreg.fit(Xscaled, y_train.values.ravel())\n",
    "y_test_pred = logreg.predict(scaler.fit_transform(X_test))"
   ]
  },
  {
   "cell_type": "code",
   "execution_count": 179,
   "id": "a9aa7742",
   "metadata": {},
   "outputs": [
    {
     "data": {
      "text/plain": [
       "array([0, 0, 0, 0, 1, 0, 0, 0, 1, 0], dtype=int64)"
      ]
     },
     "execution_count": 179,
     "metadata": {},
     "output_type": "execute_result"
    }
   ],
   "source": [
    "y_test_pred[:10]"
   ]
  },
  {
   "cell_type": "code",
   "execution_count": 180,
   "id": "a36af0ed",
   "metadata": {},
   "outputs": [],
   "source": [
    "# Converting y_pred to a dataframe which is an array\n",
    "y_pred_1 = pd.DataFrame(y_test_pred)"
   ]
  },
  {
   "cell_type": "code",
   "execution_count": 181,
   "id": "dd6d8ff8",
   "metadata": {},
   "outputs": [
    {
     "data": {
      "text/html": [
       "<div>\n",
       "<style scoped>\n",
       "    .dataframe tbody tr th:only-of-type {\n",
       "        vertical-align: middle;\n",
       "    }\n",
       "\n",
       "    .dataframe tbody tr th {\n",
       "        vertical-align: top;\n",
       "    }\n",
       "\n",
       "    .dataframe thead th {\n",
       "        text-align: right;\n",
       "    }\n",
       "</style>\n",
       "<table border=\"1\" class=\"dataframe\">\n",
       "  <thead>\n",
       "    <tr style=\"text-align: right;\">\n",
       "      <th></th>\n",
       "      <th>0</th>\n",
       "    </tr>\n",
       "  </thead>\n",
       "  <tbody>\n",
       "    <tr>\n",
       "      <th>0</th>\n",
       "      <td>0</td>\n",
       "    </tr>\n",
       "    <tr>\n",
       "      <th>1</th>\n",
       "      <td>0</td>\n",
       "    </tr>\n",
       "    <tr>\n",
       "      <th>2</th>\n",
       "      <td>0</td>\n",
       "    </tr>\n",
       "    <tr>\n",
       "      <th>3</th>\n",
       "      <td>0</td>\n",
       "    </tr>\n",
       "    <tr>\n",
       "      <th>4</th>\n",
       "      <td>1</td>\n",
       "    </tr>\n",
       "  </tbody>\n",
       "</table>\n",
       "</div>"
      ],
      "text/plain": [
       "   0\n",
       "0  0\n",
       "1  0\n",
       "2  0\n",
       "3  0\n",
       "4  1"
      ]
     },
     "execution_count": 181,
     "metadata": {},
     "output_type": "execute_result"
    }
   ],
   "source": [
    "#check the head\n",
    "y_pred_1.head()"
   ]
  },
  {
   "cell_type": "code",
   "execution_count": 182,
   "id": "823d5672",
   "metadata": {},
   "outputs": [],
   "source": [
    "# Converting y_test to dataframe\n",
    "y_test_df = pd.DataFrame(y_test)"
   ]
  },
  {
   "cell_type": "code",
   "execution_count": 183,
   "id": "218d59cc",
   "metadata": {},
   "outputs": [],
   "source": [
    "# Putting CustID to index\n",
    "y_test_df['Prospect ID'] = y_test_df.index"
   ]
  },
  {
   "cell_type": "code",
   "execution_count": 184,
   "id": "12255127",
   "metadata": {},
   "outputs": [],
   "source": [
    "# Removing index for both dataframes to append them side by side\n",
    "y_pred_1.reset_index(drop=True, inplace=True)\n",
    "y_test_df.reset_index(drop=True, inplace=True)"
   ]
  },
  {
   "cell_type": "code",
   "execution_count": 185,
   "id": "ed75970d",
   "metadata": {},
   "outputs": [],
   "source": [
    "# Appending y_test_df and y_pred_1\n",
    "y_pred_final = pd.concat([y_test_df, y_pred_1],axis=1)"
   ]
  },
  {
   "cell_type": "code",
   "execution_count": 186,
   "id": "efd17d7c",
   "metadata": {},
   "outputs": [
    {
     "data": {
      "text/html": [
       "<div>\n",
       "<style scoped>\n",
       "    .dataframe tbody tr th:only-of-type {\n",
       "        vertical-align: middle;\n",
       "    }\n",
       "\n",
       "    .dataframe tbody tr th {\n",
       "        vertical-align: top;\n",
       "    }\n",
       "\n",
       "    .dataframe thead th {\n",
       "        text-align: right;\n",
       "    }\n",
       "</style>\n",
       "<table border=\"1\" class=\"dataframe\">\n",
       "  <thead>\n",
       "    <tr style=\"text-align: right;\">\n",
       "      <th></th>\n",
       "      <th>Converted</th>\n",
       "      <th>Prospect ID</th>\n",
       "      <th>0</th>\n",
       "    </tr>\n",
       "  </thead>\n",
       "  <tbody>\n",
       "    <tr>\n",
       "      <th>0</th>\n",
       "      <td>1.0</td>\n",
       "      <td>6906.0</td>\n",
       "      <td>0</td>\n",
       "    </tr>\n",
       "    <tr>\n",
       "      <th>1</th>\n",
       "      <td>0.0</td>\n",
       "      <td>1873.0</td>\n",
       "      <td>0</td>\n",
       "    </tr>\n",
       "    <tr>\n",
       "      <th>2</th>\n",
       "      <td>0.0</td>\n",
       "      <td>771.0</td>\n",
       "      <td>0</td>\n",
       "    </tr>\n",
       "    <tr>\n",
       "      <th>3</th>\n",
       "      <td>0.0</td>\n",
       "      <td>4495.0</td>\n",
       "      <td>0</td>\n",
       "    </tr>\n",
       "    <tr>\n",
       "      <th>4</th>\n",
       "      <td>1.0</td>\n",
       "      <td>9061.0</td>\n",
       "      <td>1</td>\n",
       "    </tr>\n",
       "  </tbody>\n",
       "</table>\n",
       "</div>"
      ],
      "text/plain": [
       "   Converted  Prospect ID  0\n",
       "0        1.0       6906.0  0\n",
       "1        0.0       1873.0  0\n",
       "2        0.0        771.0  0\n",
       "3        0.0       4495.0  0\n",
       "4        1.0       9061.0  1"
      ]
     },
     "execution_count": 186,
     "metadata": {},
     "output_type": "execute_result"
    }
   ],
   "source": [
    "y_pred_final.head()"
   ]
  },
  {
   "cell_type": "code",
   "execution_count": 187,
   "id": "0c66cd44",
   "metadata": {},
   "outputs": [],
   "source": [
    "# Renaming the column\n",
    "y_pred_final= y_pred_final.rename(columns={ 0 : 'Converted_prob'})"
   ]
  },
  {
   "cell_type": "code",
   "execution_count": 188,
   "id": "0524443d",
   "metadata": {},
   "outputs": [
    {
     "data": {
      "text/html": [
       "<div>\n",
       "<style scoped>\n",
       "    .dataframe tbody tr th:only-of-type {\n",
       "        vertical-align: middle;\n",
       "    }\n",
       "\n",
       "    .dataframe tbody tr th {\n",
       "        vertical-align: top;\n",
       "    }\n",
       "\n",
       "    .dataframe thead th {\n",
       "        text-align: right;\n",
       "    }\n",
       "</style>\n",
       "<table border=\"1\" class=\"dataframe\">\n",
       "  <thead>\n",
       "    <tr style=\"text-align: right;\">\n",
       "      <th></th>\n",
       "      <th>Converted</th>\n",
       "      <th>Prospect ID</th>\n",
       "      <th>Converted_prob</th>\n",
       "    </tr>\n",
       "  </thead>\n",
       "  <tbody>\n",
       "    <tr>\n",
       "      <th>0</th>\n",
       "      <td>1.0</td>\n",
       "      <td>6906.0</td>\n",
       "      <td>0</td>\n",
       "    </tr>\n",
       "    <tr>\n",
       "      <th>1</th>\n",
       "      <td>0.0</td>\n",
       "      <td>1873.0</td>\n",
       "      <td>0</td>\n",
       "    </tr>\n",
       "    <tr>\n",
       "      <th>2</th>\n",
       "      <td>0.0</td>\n",
       "      <td>771.0</td>\n",
       "      <td>0</td>\n",
       "    </tr>\n",
       "    <tr>\n",
       "      <th>3</th>\n",
       "      <td>0.0</td>\n",
       "      <td>4495.0</td>\n",
       "      <td>0</td>\n",
       "    </tr>\n",
       "    <tr>\n",
       "      <th>4</th>\n",
       "      <td>1.0</td>\n",
       "      <td>9061.0</td>\n",
       "      <td>1</td>\n",
       "    </tr>\n",
       "  </tbody>\n",
       "</table>\n",
       "</div>"
      ],
      "text/plain": [
       "   Converted  Prospect ID  Converted_prob\n",
       "0        1.0       6906.0               0\n",
       "1        0.0       1873.0               0\n",
       "2        0.0        771.0               0\n",
       "3        0.0       4495.0               0\n",
       "4        1.0       9061.0               1"
      ]
     },
     "execution_count": 188,
     "metadata": {},
     "output_type": "execute_result"
    }
   ],
   "source": [
    "y_pred_final.head()"
   ]
  },
  {
   "cell_type": "code",
   "execution_count": 189,
   "id": "5f64dacc",
   "metadata": {},
   "outputs": [],
   "source": [
    "# Rearranging the columns\n",
    "y_pred_final = y_pred_final[['Prospect ID','Converted','Converted_prob']]\n",
    "y_pred_final['Lead_Score'] = y_pred_final.Converted_prob.map( lambda x: round(x*100))"
   ]
  },
  {
   "cell_type": "code",
   "execution_count": 190,
   "id": "bb87f828",
   "metadata": {},
   "outputs": [
    {
     "data": {
      "text/html": [
       "<div>\n",
       "<style scoped>\n",
       "    .dataframe tbody tr th:only-of-type {\n",
       "        vertical-align: middle;\n",
       "    }\n",
       "\n",
       "    .dataframe tbody tr th {\n",
       "        vertical-align: top;\n",
       "    }\n",
       "\n",
       "    .dataframe thead th {\n",
       "        text-align: right;\n",
       "    }\n",
       "</style>\n",
       "<table border=\"1\" class=\"dataframe\">\n",
       "  <thead>\n",
       "    <tr style=\"text-align: right;\">\n",
       "      <th></th>\n",
       "      <th>Prospect ID</th>\n",
       "      <th>Converted</th>\n",
       "      <th>Converted_prob</th>\n",
       "      <th>Lead_Score</th>\n",
       "    </tr>\n",
       "  </thead>\n",
       "  <tbody>\n",
       "    <tr>\n",
       "      <th>0</th>\n",
       "      <td>6906.0</td>\n",
       "      <td>1.0</td>\n",
       "      <td>0</td>\n",
       "      <td>0</td>\n",
       "    </tr>\n",
       "    <tr>\n",
       "      <th>1</th>\n",
       "      <td>1873.0</td>\n",
       "      <td>0.0</td>\n",
       "      <td>0</td>\n",
       "      <td>0</td>\n",
       "    </tr>\n",
       "    <tr>\n",
       "      <th>2</th>\n",
       "      <td>771.0</td>\n",
       "      <td>0.0</td>\n",
       "      <td>0</td>\n",
       "      <td>0</td>\n",
       "    </tr>\n",
       "    <tr>\n",
       "      <th>3</th>\n",
       "      <td>4495.0</td>\n",
       "      <td>0.0</td>\n",
       "      <td>0</td>\n",
       "      <td>0</td>\n",
       "    </tr>\n",
       "    <tr>\n",
       "      <th>4</th>\n",
       "      <td>9061.0</td>\n",
       "      <td>1.0</td>\n",
       "      <td>1</td>\n",
       "      <td>100</td>\n",
       "    </tr>\n",
       "  </tbody>\n",
       "</table>\n",
       "</div>"
      ],
      "text/plain": [
       "   Prospect ID  Converted  Converted_prob  Lead_Score\n",
       "0       6906.0        1.0               0           0\n",
       "1       1873.0        0.0               0           0\n",
       "2        771.0        0.0               0           0\n",
       "3       4495.0        0.0               0           0\n",
       "4       9061.0        1.0               1         100"
      ]
     },
     "execution_count": 190,
     "metadata": {},
     "output_type": "execute_result"
    }
   ],
   "source": [
    "#head of y_pred_final\n",
    "y_pred_final.head()"
   ]
  },
  {
   "cell_type": "code",
   "execution_count": 191,
   "id": "54437783",
   "metadata": {},
   "outputs": [],
   "source": [
    "y_pred_final['final_Predicted'] = y_pred_final.Converted_prob.map(lambda x: 1 if x > 0.3 else 0)"
   ]
  },
  {
   "cell_type": "code",
   "execution_count": 192,
   "id": "adc09dc3",
   "metadata": {},
   "outputs": [
    {
     "data": {
      "text/html": [
       "<div>\n",
       "<style scoped>\n",
       "    .dataframe tbody tr th:only-of-type {\n",
       "        vertical-align: middle;\n",
       "    }\n",
       "\n",
       "    .dataframe tbody tr th {\n",
       "        vertical-align: top;\n",
       "    }\n",
       "\n",
       "    .dataframe thead th {\n",
       "        text-align: right;\n",
       "    }\n",
       "</style>\n",
       "<table border=\"1\" class=\"dataframe\">\n",
       "  <thead>\n",
       "    <tr style=\"text-align: right;\">\n",
       "      <th></th>\n",
       "      <th>Prospect ID</th>\n",
       "      <th>Converted</th>\n",
       "      <th>Converted_prob</th>\n",
       "      <th>Lead_Score</th>\n",
       "      <th>final_Predicted</th>\n",
       "    </tr>\n",
       "  </thead>\n",
       "  <tbody>\n",
       "    <tr>\n",
       "      <th>0</th>\n",
       "      <td>6906.0</td>\n",
       "      <td>1.0</td>\n",
       "      <td>0</td>\n",
       "      <td>0</td>\n",
       "      <td>0</td>\n",
       "    </tr>\n",
       "    <tr>\n",
       "      <th>1</th>\n",
       "      <td>1873.0</td>\n",
       "      <td>0.0</td>\n",
       "      <td>0</td>\n",
       "      <td>0</td>\n",
       "      <td>0</td>\n",
       "    </tr>\n",
       "    <tr>\n",
       "      <th>2</th>\n",
       "      <td>771.0</td>\n",
       "      <td>0.0</td>\n",
       "      <td>0</td>\n",
       "      <td>0</td>\n",
       "      <td>0</td>\n",
       "    </tr>\n",
       "    <tr>\n",
       "      <th>3</th>\n",
       "      <td>4495.0</td>\n",
       "      <td>0.0</td>\n",
       "      <td>0</td>\n",
       "      <td>0</td>\n",
       "      <td>0</td>\n",
       "    </tr>\n",
       "    <tr>\n",
       "      <th>4</th>\n",
       "      <td>9061.0</td>\n",
       "      <td>1.0</td>\n",
       "      <td>1</td>\n",
       "      <td>100</td>\n",
       "      <td>1</td>\n",
       "    </tr>\n",
       "  </tbody>\n",
       "</table>\n",
       "</div>"
      ],
      "text/plain": [
       "   Prospect ID  Converted  Converted_prob  Lead_Score  final_Predicted\n",
       "0       6906.0        1.0               0           0                0\n",
       "1       1873.0        0.0               0           0                0\n",
       "2        771.0        0.0               0           0                0\n",
       "3       4495.0        0.0               0           0                0\n",
       "4       9061.0        1.0               1         100                1"
      ]
     },
     "execution_count": 192,
     "metadata": {},
     "output_type": "execute_result"
    }
   ],
   "source": [
    "y_pred_final.head()"
   ]
  },
  {
   "cell_type": "code",
   "execution_count": null,
   "id": "542466ff",
   "metadata": {},
   "outputs": [],
   "source": []
  },
  {
   "cell_type": "code",
   "execution_count": null,
   "id": "286cba77",
   "metadata": {},
   "outputs": [],
   "source": []
  },
  {
   "cell_type": "code",
   "execution_count": 193,
   "id": "623d053f",
   "metadata": {},
   "outputs": [],
   "source": [
    "TP = confusion2[1,1] # true positive \n",
    "TN = confusion2[0,0] # true negatives\n",
    "FP = confusion2[0,1] # false positives\n",
    "FN = confusion2[1,0] # false negatives"
   ]
  },
  {
   "cell_type": "code",
   "execution_count": 194,
   "id": "8c350086",
   "metadata": {},
   "outputs": [
    {
     "data": {
      "text/plain": [
       "0.914332784184514"
      ]
     },
     "execution_count": 194,
     "metadata": {},
     "output_type": "execute_result"
    }
   ],
   "source": [
    "# Let's see the sensitivity of our logistic regression model\n",
    "TP / float(TP+FN)"
   ]
  },
  {
   "cell_type": "code",
   "execution_count": 195,
   "id": "8eef442e",
   "metadata": {},
   "outputs": [
    {
     "data": {
      "text/plain": [
       "0.9278271918678526"
      ]
     },
     "execution_count": 195,
     "metadata": {},
     "output_type": "execute_result"
    }
   ],
   "source": [
    "# Let us calculate specificity\n",
    "TN / float(TN+FP)"
   ]
  },
  {
   "cell_type": "code",
   "execution_count": 196,
   "id": "9ecd9c61",
   "metadata": {},
   "outputs": [
    {
     "data": {
      "text/plain": [
       "0.8865814696485623"
      ]
     },
     "execution_count": 196,
     "metadata": {},
     "output_type": "execute_result"
    }
   ],
   "source": [
    "# Precision = TP / TP + FP\n",
    "TP / (TP + FP)"
   ]
  },
  {
   "cell_type": "code",
   "execution_count": 197,
   "id": "c14ffcb2",
   "metadata": {},
   "outputs": [
    {
     "data": {
      "text/plain": [
       "0.914332784184514"
      ]
     },
     "execution_count": 197,
     "metadata": {},
     "output_type": "execute_result"
    }
   ],
   "source": [
    "#Recall = TP / TP + FN\n",
    "TP / (TP + FN)"
   ]
  },
  {
   "cell_type": "markdown",
   "id": "06141a12",
   "metadata": {},
   "source": [
    "# Observation:\n",
    "\n",
    "We have the following values for the Train Data:\n",
    "\n",
    "Accuracy : 92.26%\n",
    "\n",
    "Sensitivity : 91.43%\n",
    "\n",
    "Specificity : 92.78%\n",
    "\n",
    "\n",
    "\n",
    "\n",
    "After running the model on the Test Data these are the figures we obtain\n",
    "\n",
    "Sensitivity : 91%\n",
    "\n",
    "Specificity : 92%"
   ]
  },
  {
   "cell_type": "markdown",
   "id": "02823dbe",
   "metadata": {},
   "source": [
    "The Model seems to predict the Conversion Rate very well and we should be able to give the CEO confidence in making good calls based on this model."
   ]
  },
  {
   "cell_type": "code",
   "execution_count": null,
   "id": "3be401a0",
   "metadata": {},
   "outputs": [],
   "source": []
  }
 ],
 "metadata": {
  "kernelspec": {
   "display_name": "Python 3 (ipykernel)",
   "language": "python",
   "name": "python3"
  },
  "language_info": {
   "codemirror_mode": {
    "name": "ipython",
    "version": 3
   },
   "file_extension": ".py",
   "mimetype": "text/x-python",
   "name": "python",
   "nbconvert_exporter": "python",
   "pygments_lexer": "ipython3",
   "version": "3.10.9"
  }
 },
 "nbformat": 4,
 "nbformat_minor": 5
}
